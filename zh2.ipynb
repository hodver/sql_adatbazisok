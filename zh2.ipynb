{
    "metadata": {
        "kernelspec": {
            "name": "SQL",
            "display_name": "SQL",
            "language": "sql"
        },
        "language_info": {
            "name": "sql",
            "version": ""
        }
    },
    "nbformat_minor": 2,
    "nbformat": 4,
    "cells": [
        {
            "cell_type": "markdown",
            "source": [
                "Készítsen lekérdezést, amely megjeleníti, hogy szobánként (SZOBA\\_FK) hány olyan foglalás történt, ahol a felnőttek száma nagyobb volt a gyermekek számánál!\n",
                "\n",
                "a. A lekérdezés jelenítse meg a végösszeget is megfelelően jelölve!"
            ],
            "metadata": {
                "azdata_cell_guid": "58befd12-fcc7-49a6-89ee-88f2a3e994ec"
            },
            "attachments": {}
        },
        {
            "cell_type": "code",
            "source": [
                "SELECT IIF(SZOBA_FK IS NULL, 'Végösszeg', CAST((SZOBA_FK) AS nvarchar(4))) AS 'Szoba',\r\n",
                "        COUNT(*) AS 'Több felnőtt'\r\n",
                "FROM Foglalas\r\n",
                "WHERE FELNOTT_SZAM > GYERMEK_SZAM\r\n",
                "GROUP BY ROLLUP (SZOBA_FK)\r\n",
                ""
            ],
            "metadata": {
                "azdata_cell_guid": "6ff766b4-8e8c-40aa-a46c-25bae75c6de6",
                "language": "sql"
            },
            "outputs": [
                {
                    "output_type": "display_data",
                    "data": {
                        "text/html": "(190 rows affected)"
                    },
                    "metadata": {}
                },
                {
                    "output_type": "display_data",
                    "data": {
                        "text/html": "Total execution time: 00:00:00.056"
                    },
                    "metadata": {}
                },
                {
                    "output_type": "execute_result",
                    "metadata": {},
                    "execution_count": 6,
                    "data": {
                        "application/vnd.dataresource+json": {
                            "schema": {
                                "fields": [
                                    {
                                        "name": "Szoba"
                                    },
                                    {
                                        "name": "Több felnőtt"
                                    }
                                ]
                            },
                            "data": [
                                {
                                    "Szoba": "1",
                                    "Több felnőtt": "7"
                                },
                                {
                                    "Szoba": "2",
                                    "Több felnőtt": "2"
                                },
                                {
                                    "Szoba": "3",
                                    "Több felnőtt": "3"
                                },
                                {
                                    "Szoba": "4",
                                    "Több felnőtt": "5"
                                },
                                {
                                    "Szoba": "5",
                                    "Több felnőtt": "2"
                                },
                                {
                                    "Szoba": "6",
                                    "Több felnőtt": "5"
                                },
                                {
                                    "Szoba": "7",
                                    "Több felnőtt": "6"
                                },
                                {
                                    "Szoba": "8",
                                    "Több felnőtt": "5"
                                },
                                {
                                    "Szoba": "9",
                                    "Több felnőtt": "4"
                                },
                                {
                                    "Szoba": "10",
                                    "Több felnőtt": "4"
                                },
                                {
                                    "Szoba": "11",
                                    "Több felnőtt": "4"
                                },
                                {
                                    "Szoba": "12",
                                    "Több felnőtt": "7"
                                },
                                {
                                    "Szoba": "13",
                                    "Több felnőtt": "4"
                                },
                                {
                                    "Szoba": "14",
                                    "Több felnőtt": "3"
                                },
                                {
                                    "Szoba": "15",
                                    "Több felnőtt": "4"
                                },
                                {
                                    "Szoba": "16",
                                    "Több felnőtt": "1"
                                },
                                {
                                    "Szoba": "17",
                                    "Több felnőtt": "2"
                                },
                                {
                                    "Szoba": "18",
                                    "Több felnőtt": "3"
                                },
                                {
                                    "Szoba": "19",
                                    "Több felnőtt": "4"
                                },
                                {
                                    "Szoba": "20",
                                    "Több felnőtt": "5"
                                },
                                {
                                    "Szoba": "21",
                                    "Több felnőtt": "1"
                                },
                                {
                                    "Szoba": "22",
                                    "Több felnőtt": "2"
                                },
                                {
                                    "Szoba": "23",
                                    "Több felnőtt": "3"
                                },
                                {
                                    "Szoba": "24",
                                    "Több felnőtt": "3"
                                },
                                {
                                    "Szoba": "25",
                                    "Több felnőtt": "1"
                                },
                                {
                                    "Szoba": "27",
                                    "Több felnőtt": "5"
                                },
                                {
                                    "Szoba": "28",
                                    "Több felnőtt": "5"
                                },
                                {
                                    "Szoba": "29",
                                    "Több felnőtt": "3"
                                },
                                {
                                    "Szoba": "30",
                                    "Több felnőtt": "2"
                                },
                                {
                                    "Szoba": "31",
                                    "Több felnőtt": "1"
                                },
                                {
                                    "Szoba": "32",
                                    "Több felnőtt": "1"
                                },
                                {
                                    "Szoba": "33",
                                    "Több felnőtt": "3"
                                },
                                {
                                    "Szoba": "34",
                                    "Több felnőtt": "3"
                                },
                                {
                                    "Szoba": "35",
                                    "Több felnőtt": "6"
                                },
                                {
                                    "Szoba": "36",
                                    "Több felnőtt": "4"
                                },
                                {
                                    "Szoba": "37",
                                    "Több felnőtt": "2"
                                },
                                {
                                    "Szoba": "38",
                                    "Több felnőtt": "5"
                                },
                                {
                                    "Szoba": "39",
                                    "Több felnőtt": "4"
                                },
                                {
                                    "Szoba": "40",
                                    "Több felnőtt": "3"
                                },
                                {
                                    "Szoba": "41",
                                    "Több felnőtt": "1"
                                },
                                {
                                    "Szoba": "42",
                                    "Több felnőtt": "5"
                                },
                                {
                                    "Szoba": "43",
                                    "Több felnőtt": "4"
                                },
                                {
                                    "Szoba": "44",
                                    "Több felnőtt": "6"
                                },
                                {
                                    "Szoba": "45",
                                    "Több felnőtt": "4"
                                },
                                {
                                    "Szoba": "46",
                                    "Több felnőtt": "3"
                                },
                                {
                                    "Szoba": "47",
                                    "Több felnőtt": "2"
                                },
                                {
                                    "Szoba": "48",
                                    "Több felnőtt": "6"
                                },
                                {
                                    "Szoba": "49",
                                    "Több felnőtt": "5"
                                },
                                {
                                    "Szoba": "50",
                                    "Több felnőtt": "3"
                                },
                                {
                                    "Szoba": "51",
                                    "Több felnőtt": "3"
                                },
                                {
                                    "Szoba": "52",
                                    "Több felnőtt": "5"
                                },
                                {
                                    "Szoba": "54",
                                    "Több felnőtt": "4"
                                },
                                {
                                    "Szoba": "55",
                                    "Több felnőtt": "3"
                                },
                                {
                                    "Szoba": "56",
                                    "Több felnőtt": "1"
                                },
                                {
                                    "Szoba": "57",
                                    "Több felnőtt": "3"
                                },
                                {
                                    "Szoba": "58",
                                    "Több felnőtt": "8"
                                },
                                {
                                    "Szoba": "59",
                                    "Több felnőtt": "4"
                                },
                                {
                                    "Szoba": "60",
                                    "Több felnőtt": "1"
                                },
                                {
                                    "Szoba": "61",
                                    "Több felnőtt": "4"
                                },
                                {
                                    "Szoba": "62",
                                    "Több felnőtt": "3"
                                },
                                {
                                    "Szoba": "63",
                                    "Több felnőtt": "3"
                                },
                                {
                                    "Szoba": "64",
                                    "Több felnőtt": "5"
                                },
                                {
                                    "Szoba": "66",
                                    "Több felnőtt": "3"
                                },
                                {
                                    "Szoba": "67",
                                    "Több felnőtt": "2"
                                },
                                {
                                    "Szoba": "69",
                                    "Több felnőtt": "2"
                                },
                                {
                                    "Szoba": "70",
                                    "Több felnőtt": "8"
                                },
                                {
                                    "Szoba": "71",
                                    "Több felnőtt": "2"
                                },
                                {
                                    "Szoba": "72",
                                    "Több felnőtt": "2"
                                },
                                {
                                    "Szoba": "73",
                                    "Több felnőtt": "4"
                                },
                                {
                                    "Szoba": "74",
                                    "Több felnőtt": "8"
                                },
                                {
                                    "Szoba": "75",
                                    "Több felnőtt": "2"
                                },
                                {
                                    "Szoba": "76",
                                    "Több felnőtt": "2"
                                },
                                {
                                    "Szoba": "77",
                                    "Több felnőtt": "3"
                                },
                                {
                                    "Szoba": "78",
                                    "Több felnőtt": "3"
                                },
                                {
                                    "Szoba": "79",
                                    "Több felnőtt": "4"
                                },
                                {
                                    "Szoba": "80",
                                    "Több felnőtt": "5"
                                },
                                {
                                    "Szoba": "81",
                                    "Több felnőtt": "3"
                                },
                                {
                                    "Szoba": "82",
                                    "Több felnőtt": "5"
                                },
                                {
                                    "Szoba": "83",
                                    "Több felnőtt": "5"
                                },
                                {
                                    "Szoba": "84",
                                    "Több felnőtt": "3"
                                },
                                {
                                    "Szoba": "85",
                                    "Több felnőtt": "2"
                                },
                                {
                                    "Szoba": "86",
                                    "Több felnőtt": "4"
                                },
                                {
                                    "Szoba": "87",
                                    "Több felnőtt": "5"
                                },
                                {
                                    "Szoba": "88",
                                    "Több felnőtt": "5"
                                },
                                {
                                    "Szoba": "89",
                                    "Több felnőtt": "8"
                                },
                                {
                                    "Szoba": "90",
                                    "Több felnőtt": "3"
                                },
                                {
                                    "Szoba": "91",
                                    "Több felnőtt": "2"
                                },
                                {
                                    "Szoba": "92",
                                    "Több felnőtt": "5"
                                },
                                {
                                    "Szoba": "93",
                                    "Több felnőtt": "3"
                                },
                                {
                                    "Szoba": "94",
                                    "Több felnőtt": "6"
                                },
                                {
                                    "Szoba": "95",
                                    "Több felnőtt": "3"
                                },
                                {
                                    "Szoba": "96",
                                    "Több felnőtt": "6"
                                },
                                {
                                    "Szoba": "97",
                                    "Több felnőtt": "5"
                                },
                                {
                                    "Szoba": "98",
                                    "Több felnőtt": "4"
                                },
                                {
                                    "Szoba": "99",
                                    "Több felnőtt": "4"
                                },
                                {
                                    "Szoba": "100",
                                    "Több felnőtt": "2"
                                },
                                {
                                    "Szoba": "101",
                                    "Több felnőtt": "1"
                                },
                                {
                                    "Szoba": "102",
                                    "Több felnőtt": "1"
                                },
                                {
                                    "Szoba": "103",
                                    "Több felnőtt": "1"
                                },
                                {
                                    "Szoba": "104",
                                    "Több felnőtt": "3"
                                },
                                {
                                    "Szoba": "106",
                                    "Több felnőtt": "4"
                                },
                                {
                                    "Szoba": "107",
                                    "Több felnőtt": "4"
                                },
                                {
                                    "Szoba": "108",
                                    "Több felnőtt": "1"
                                },
                                {
                                    "Szoba": "109",
                                    "Több felnőtt": "2"
                                },
                                {
                                    "Szoba": "110",
                                    "Több felnőtt": "5"
                                },
                                {
                                    "Szoba": "111",
                                    "Több felnőtt": "1"
                                },
                                {
                                    "Szoba": "112",
                                    "Több felnőtt": "4"
                                },
                                {
                                    "Szoba": "113",
                                    "Több felnőtt": "2"
                                },
                                {
                                    "Szoba": "114",
                                    "Több felnőtt": "1"
                                },
                                {
                                    "Szoba": "115",
                                    "Több felnőtt": "5"
                                },
                                {
                                    "Szoba": "117",
                                    "Több felnőtt": "4"
                                },
                                {
                                    "Szoba": "118",
                                    "Több felnőtt": "2"
                                },
                                {
                                    "Szoba": "119",
                                    "Több felnőtt": "4"
                                },
                                {
                                    "Szoba": "120",
                                    "Több felnőtt": "2"
                                },
                                {
                                    "Szoba": "121",
                                    "Több felnőtt": "5"
                                },
                                {
                                    "Szoba": "122",
                                    "Több felnőtt": "3"
                                },
                                {
                                    "Szoba": "123",
                                    "Több felnőtt": "5"
                                },
                                {
                                    "Szoba": "124",
                                    "Több felnőtt": "4"
                                },
                                {
                                    "Szoba": "126",
                                    "Több felnőtt": "4"
                                },
                                {
                                    "Szoba": "127",
                                    "Több felnőtt": "5"
                                },
                                {
                                    "Szoba": "129",
                                    "Több felnőtt": "3"
                                },
                                {
                                    "Szoba": "130",
                                    "Több felnőtt": "5"
                                },
                                {
                                    "Szoba": "131",
                                    "Több felnőtt": "4"
                                },
                                {
                                    "Szoba": "132",
                                    "Több felnőtt": "4"
                                },
                                {
                                    "Szoba": "133",
                                    "Több felnőtt": "4"
                                },
                                {
                                    "Szoba": "134",
                                    "Több felnőtt": "4"
                                },
                                {
                                    "Szoba": "135",
                                    "Több felnőtt": "3"
                                },
                                {
                                    "Szoba": "136",
                                    "Több felnőtt": "2"
                                },
                                {
                                    "Szoba": "137",
                                    "Több felnőtt": "2"
                                },
                                {
                                    "Szoba": "138",
                                    "Több felnőtt": "5"
                                },
                                {
                                    "Szoba": "139",
                                    "Több felnőtt": "6"
                                },
                                {
                                    "Szoba": "140",
                                    "Több felnőtt": "5"
                                },
                                {
                                    "Szoba": "141",
                                    "Több felnőtt": "4"
                                },
                                {
                                    "Szoba": "142",
                                    "Több felnőtt": "1"
                                },
                                {
                                    "Szoba": "143",
                                    "Több felnőtt": "5"
                                },
                                {
                                    "Szoba": "144",
                                    "Több felnőtt": "2"
                                },
                                {
                                    "Szoba": "145",
                                    "Több felnőtt": "2"
                                },
                                {
                                    "Szoba": "146",
                                    "Több felnőtt": "3"
                                },
                                {
                                    "Szoba": "147",
                                    "Több felnőtt": "1"
                                },
                                {
                                    "Szoba": "148",
                                    "Több felnőtt": "5"
                                },
                                {
                                    "Szoba": "149",
                                    "Több felnőtt": "5"
                                },
                                {
                                    "Szoba": "150",
                                    "Több felnőtt": "6"
                                },
                                {
                                    "Szoba": "151",
                                    "Több felnőtt": "2"
                                },
                                {
                                    "Szoba": "152",
                                    "Több felnőtt": "3"
                                },
                                {
                                    "Szoba": "153",
                                    "Több felnőtt": "4"
                                },
                                {
                                    "Szoba": "154",
                                    "Több felnőtt": "3"
                                },
                                {
                                    "Szoba": "155",
                                    "Több felnőtt": "3"
                                },
                                {
                                    "Szoba": "156",
                                    "Több felnőtt": "2"
                                },
                                {
                                    "Szoba": "157",
                                    "Több felnőtt": "2"
                                },
                                {
                                    "Szoba": "158",
                                    "Több felnőtt": "3"
                                },
                                {
                                    "Szoba": "160",
                                    "Több felnőtt": "2"
                                },
                                {
                                    "Szoba": "161",
                                    "Több felnőtt": "3"
                                },
                                {
                                    "Szoba": "162",
                                    "Több felnőtt": "2"
                                },
                                {
                                    "Szoba": "163",
                                    "Több felnőtt": "5"
                                },
                                {
                                    "Szoba": "164",
                                    "Több felnőtt": "4"
                                },
                                {
                                    "Szoba": "165",
                                    "Több felnőtt": "5"
                                },
                                {
                                    "Szoba": "166",
                                    "Több felnőtt": "3"
                                },
                                {
                                    "Szoba": "167",
                                    "Több felnőtt": "2"
                                },
                                {
                                    "Szoba": "168",
                                    "Több felnőtt": "1"
                                },
                                {
                                    "Szoba": "169",
                                    "Több felnőtt": "3"
                                },
                                {
                                    "Szoba": "170",
                                    "Több felnőtt": "3"
                                },
                                {
                                    "Szoba": "171",
                                    "Több felnőtt": "5"
                                },
                                {
                                    "Szoba": "172",
                                    "Több felnőtt": "6"
                                },
                                {
                                    "Szoba": "173",
                                    "Több felnőtt": "3"
                                },
                                {
                                    "Szoba": "174",
                                    "Több felnőtt": "4"
                                },
                                {
                                    "Szoba": "175",
                                    "Több felnőtt": "3"
                                },
                                {
                                    "Szoba": "176",
                                    "Több felnőtt": "2"
                                },
                                {
                                    "Szoba": "177",
                                    "Több felnőtt": "1"
                                },
                                {
                                    "Szoba": "178",
                                    "Több felnőtt": "1"
                                },
                                {
                                    "Szoba": "179",
                                    "Több felnőtt": "2"
                                },
                                {
                                    "Szoba": "180",
                                    "Több felnőtt": "1"
                                },
                                {
                                    "Szoba": "181",
                                    "Több felnőtt": "5"
                                },
                                {
                                    "Szoba": "182",
                                    "Több felnőtt": "11"
                                },
                                {
                                    "Szoba": "183",
                                    "Több felnőtt": "3"
                                },
                                {
                                    "Szoba": "184",
                                    "Több felnőtt": "4"
                                },
                                {
                                    "Szoba": "185",
                                    "Több felnőtt": "10"
                                },
                                {
                                    "Szoba": "186",
                                    "Több felnőtt": "1"
                                },
                                {
                                    "Szoba": "187",
                                    "Több felnőtt": "6"
                                },
                                {
                                    "Szoba": "188",
                                    "Több felnőtt": "2"
                                },
                                {
                                    "Szoba": "189",
                                    "Több felnőtt": "1"
                                },
                                {
                                    "Szoba": "190",
                                    "Több felnőtt": "5"
                                },
                                {
                                    "Szoba": "191",
                                    "Több felnőtt": "3"
                                },
                                {
                                    "Szoba": "192",
                                    "Több felnőtt": "1"
                                },
                                {
                                    "Szoba": "193",
                                    "Több felnőtt": "2"
                                },
                                {
                                    "Szoba": "194",
                                    "Több felnőtt": "1"
                                },
                                {
                                    "Szoba": "195",
                                    "Több felnőtt": "5"
                                },
                                {
                                    "Szoba": "196",
                                    "Több felnőtt": "2"
                                },
                                {
                                    "Szoba": "197",
                                    "Több felnőtt": "6"
                                },
                                {
                                    "Szoba": "198",
                                    "Több felnőtt": "7"
                                },
                                {
                                    "Szoba": "Végösszeg",
                                    "Több felnőtt": "668"
                                }
                            ]
                        },
                        "text/html": [
                            "<table>",
                            "<tr><th>Szoba</th><th>Több felnőtt</th></tr>",
                            "<tr><td>1</td><td>7</td></tr>",
                            "<tr><td>2</td><td>2</td></tr>",
                            "<tr><td>3</td><td>3</td></tr>",
                            "<tr><td>4</td><td>5</td></tr>",
                            "<tr><td>5</td><td>2</td></tr>",
                            "<tr><td>6</td><td>5</td></tr>",
                            "<tr><td>7</td><td>6</td></tr>",
                            "<tr><td>8</td><td>5</td></tr>",
                            "<tr><td>9</td><td>4</td></tr>",
                            "<tr><td>10</td><td>4</td></tr>",
                            "<tr><td>11</td><td>4</td></tr>",
                            "<tr><td>12</td><td>7</td></tr>",
                            "<tr><td>13</td><td>4</td></tr>",
                            "<tr><td>14</td><td>3</td></tr>",
                            "<tr><td>15</td><td>4</td></tr>",
                            "<tr><td>16</td><td>1</td></tr>",
                            "<tr><td>17</td><td>2</td></tr>",
                            "<tr><td>18</td><td>3</td></tr>",
                            "<tr><td>19</td><td>4</td></tr>",
                            "<tr><td>20</td><td>5</td></tr>",
                            "<tr><td>21</td><td>1</td></tr>",
                            "<tr><td>22</td><td>2</td></tr>",
                            "<tr><td>23</td><td>3</td></tr>",
                            "<tr><td>24</td><td>3</td></tr>",
                            "<tr><td>25</td><td>1</td></tr>",
                            "<tr><td>27</td><td>5</td></tr>",
                            "<tr><td>28</td><td>5</td></tr>",
                            "<tr><td>29</td><td>3</td></tr>",
                            "<tr><td>30</td><td>2</td></tr>",
                            "<tr><td>31</td><td>1</td></tr>",
                            "<tr><td>32</td><td>1</td></tr>",
                            "<tr><td>33</td><td>3</td></tr>",
                            "<tr><td>34</td><td>3</td></tr>",
                            "<tr><td>35</td><td>6</td></tr>",
                            "<tr><td>36</td><td>4</td></tr>",
                            "<tr><td>37</td><td>2</td></tr>",
                            "<tr><td>38</td><td>5</td></tr>",
                            "<tr><td>39</td><td>4</td></tr>",
                            "<tr><td>40</td><td>3</td></tr>",
                            "<tr><td>41</td><td>1</td></tr>",
                            "<tr><td>42</td><td>5</td></tr>",
                            "<tr><td>43</td><td>4</td></tr>",
                            "<tr><td>44</td><td>6</td></tr>",
                            "<tr><td>45</td><td>4</td></tr>",
                            "<tr><td>46</td><td>3</td></tr>",
                            "<tr><td>47</td><td>2</td></tr>",
                            "<tr><td>48</td><td>6</td></tr>",
                            "<tr><td>49</td><td>5</td></tr>",
                            "<tr><td>50</td><td>3</td></tr>",
                            "<tr><td>51</td><td>3</td></tr>",
                            "<tr><td>52</td><td>5</td></tr>",
                            "<tr><td>54</td><td>4</td></tr>",
                            "<tr><td>55</td><td>3</td></tr>",
                            "<tr><td>56</td><td>1</td></tr>",
                            "<tr><td>57</td><td>3</td></tr>",
                            "<tr><td>58</td><td>8</td></tr>",
                            "<tr><td>59</td><td>4</td></tr>",
                            "<tr><td>60</td><td>1</td></tr>",
                            "<tr><td>61</td><td>4</td></tr>",
                            "<tr><td>62</td><td>3</td></tr>",
                            "<tr><td>63</td><td>3</td></tr>",
                            "<tr><td>64</td><td>5</td></tr>",
                            "<tr><td>66</td><td>3</td></tr>",
                            "<tr><td>67</td><td>2</td></tr>",
                            "<tr><td>69</td><td>2</td></tr>",
                            "<tr><td>70</td><td>8</td></tr>",
                            "<tr><td>71</td><td>2</td></tr>",
                            "<tr><td>72</td><td>2</td></tr>",
                            "<tr><td>73</td><td>4</td></tr>",
                            "<tr><td>74</td><td>8</td></tr>",
                            "<tr><td>75</td><td>2</td></tr>",
                            "<tr><td>76</td><td>2</td></tr>",
                            "<tr><td>77</td><td>3</td></tr>",
                            "<tr><td>78</td><td>3</td></tr>",
                            "<tr><td>79</td><td>4</td></tr>",
                            "<tr><td>80</td><td>5</td></tr>",
                            "<tr><td>81</td><td>3</td></tr>",
                            "<tr><td>82</td><td>5</td></tr>",
                            "<tr><td>83</td><td>5</td></tr>",
                            "<tr><td>84</td><td>3</td></tr>",
                            "<tr><td>85</td><td>2</td></tr>",
                            "<tr><td>86</td><td>4</td></tr>",
                            "<tr><td>87</td><td>5</td></tr>",
                            "<tr><td>88</td><td>5</td></tr>",
                            "<tr><td>89</td><td>8</td></tr>",
                            "<tr><td>90</td><td>3</td></tr>",
                            "<tr><td>91</td><td>2</td></tr>",
                            "<tr><td>92</td><td>5</td></tr>",
                            "<tr><td>93</td><td>3</td></tr>",
                            "<tr><td>94</td><td>6</td></tr>",
                            "<tr><td>95</td><td>3</td></tr>",
                            "<tr><td>96</td><td>6</td></tr>",
                            "<tr><td>97</td><td>5</td></tr>",
                            "<tr><td>98</td><td>4</td></tr>",
                            "<tr><td>99</td><td>4</td></tr>",
                            "<tr><td>100</td><td>2</td></tr>",
                            "<tr><td>101</td><td>1</td></tr>",
                            "<tr><td>102</td><td>1</td></tr>",
                            "<tr><td>103</td><td>1</td></tr>",
                            "<tr><td>104</td><td>3</td></tr>",
                            "<tr><td>106</td><td>4</td></tr>",
                            "<tr><td>107</td><td>4</td></tr>",
                            "<tr><td>108</td><td>1</td></tr>",
                            "<tr><td>109</td><td>2</td></tr>",
                            "<tr><td>110</td><td>5</td></tr>",
                            "<tr><td>111</td><td>1</td></tr>",
                            "<tr><td>112</td><td>4</td></tr>",
                            "<tr><td>113</td><td>2</td></tr>",
                            "<tr><td>114</td><td>1</td></tr>",
                            "<tr><td>115</td><td>5</td></tr>",
                            "<tr><td>117</td><td>4</td></tr>",
                            "<tr><td>118</td><td>2</td></tr>",
                            "<tr><td>119</td><td>4</td></tr>",
                            "<tr><td>120</td><td>2</td></tr>",
                            "<tr><td>121</td><td>5</td></tr>",
                            "<tr><td>122</td><td>3</td></tr>",
                            "<tr><td>123</td><td>5</td></tr>",
                            "<tr><td>124</td><td>4</td></tr>",
                            "<tr><td>126</td><td>4</td></tr>",
                            "<tr><td>127</td><td>5</td></tr>",
                            "<tr><td>129</td><td>3</td></tr>",
                            "<tr><td>130</td><td>5</td></tr>",
                            "<tr><td>131</td><td>4</td></tr>",
                            "<tr><td>132</td><td>4</td></tr>",
                            "<tr><td>133</td><td>4</td></tr>",
                            "<tr><td>134</td><td>4</td></tr>",
                            "<tr><td>135</td><td>3</td></tr>",
                            "<tr><td>136</td><td>2</td></tr>",
                            "<tr><td>137</td><td>2</td></tr>",
                            "<tr><td>138</td><td>5</td></tr>",
                            "<tr><td>139</td><td>6</td></tr>",
                            "<tr><td>140</td><td>5</td></tr>",
                            "<tr><td>141</td><td>4</td></tr>",
                            "<tr><td>142</td><td>1</td></tr>",
                            "<tr><td>143</td><td>5</td></tr>",
                            "<tr><td>144</td><td>2</td></tr>",
                            "<tr><td>145</td><td>2</td></tr>",
                            "<tr><td>146</td><td>3</td></tr>",
                            "<tr><td>147</td><td>1</td></tr>",
                            "<tr><td>148</td><td>5</td></tr>",
                            "<tr><td>149</td><td>5</td></tr>",
                            "<tr><td>150</td><td>6</td></tr>",
                            "<tr><td>151</td><td>2</td></tr>",
                            "<tr><td>152</td><td>3</td></tr>",
                            "<tr><td>153</td><td>4</td></tr>",
                            "<tr><td>154</td><td>3</td></tr>",
                            "<tr><td>155</td><td>3</td></tr>",
                            "<tr><td>156</td><td>2</td></tr>",
                            "<tr><td>157</td><td>2</td></tr>",
                            "<tr><td>158</td><td>3</td></tr>",
                            "<tr><td>160</td><td>2</td></tr>",
                            "<tr><td>161</td><td>3</td></tr>",
                            "<tr><td>162</td><td>2</td></tr>",
                            "<tr><td>163</td><td>5</td></tr>",
                            "<tr><td>164</td><td>4</td></tr>",
                            "<tr><td>165</td><td>5</td></tr>",
                            "<tr><td>166</td><td>3</td></tr>",
                            "<tr><td>167</td><td>2</td></tr>",
                            "<tr><td>168</td><td>1</td></tr>",
                            "<tr><td>169</td><td>3</td></tr>",
                            "<tr><td>170</td><td>3</td></tr>",
                            "<tr><td>171</td><td>5</td></tr>",
                            "<tr><td>172</td><td>6</td></tr>",
                            "<tr><td>173</td><td>3</td></tr>",
                            "<tr><td>174</td><td>4</td></tr>",
                            "<tr><td>175</td><td>3</td></tr>",
                            "<tr><td>176</td><td>2</td></tr>",
                            "<tr><td>177</td><td>1</td></tr>",
                            "<tr><td>178</td><td>1</td></tr>",
                            "<tr><td>179</td><td>2</td></tr>",
                            "<tr><td>180</td><td>1</td></tr>",
                            "<tr><td>181</td><td>5</td></tr>",
                            "<tr><td>182</td><td>11</td></tr>",
                            "<tr><td>183</td><td>3</td></tr>",
                            "<tr><td>184</td><td>4</td></tr>",
                            "<tr><td>185</td><td>10</td></tr>",
                            "<tr><td>186</td><td>1</td></tr>",
                            "<tr><td>187</td><td>6</td></tr>",
                            "<tr><td>188</td><td>2</td></tr>",
                            "<tr><td>189</td><td>1</td></tr>",
                            "<tr><td>190</td><td>5</td></tr>",
                            "<tr><td>191</td><td>3</td></tr>",
                            "<tr><td>192</td><td>1</td></tr>",
                            "<tr><td>193</td><td>2</td></tr>",
                            "<tr><td>194</td><td>1</td></tr>",
                            "<tr><td>195</td><td>5</td></tr>",
                            "<tr><td>196</td><td>2</td></tr>",
                            "<tr><td>197</td><td>6</td></tr>",
                            "<tr><td>198</td><td>7</td></tr>",
                            "<tr><td>Végösszeg</td><td>668</td></tr>",
                            "</table>"
                        ]
                    }
                }
            ],
            "execution_count": 6
        }
    ]
}