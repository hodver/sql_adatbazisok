{
    "metadata": {
        "kernelspec": {
            "name": "SQL",
            "display_name": "SQL",
            "language": "sql"
        },
        "language_info": {
            "name": "sql",
            "version": ""
        }
    },
    "nbformat_minor": 2,
    "nbformat": 4,
    "cells": [
        {
            "cell_type": "code",
            "source": [
                "SELECT NEV,\r\n",
                "        EMAIL\r\n",
                "FROM Vendeg\r\n",
                "WHERE Year(SZUL_DAT)=1990 AND MONTH(SZUL_DAT) IN (7, 8, 9, 10, 11, 12)\r\n",
                "ORDER BY MONTH(SZUL_DAT) ASC"
            ],
            "metadata": {
                "azdata_cell_guid": "ff96fcf6-4b8b-4654-8fbe-7c9631dd6922",
                "language": "sql"
            },
            "outputs": [
                {
                    "output_type": "display_data",
                    "data": {
                        "text/html": "(4 rows affected)"
                    },
                    "metadata": {}
                },
                {
                    "output_type": "display_data",
                    "data": {
                        "text/html": "Total execution time: 00:00:00.003"
                    },
                    "metadata": {}
                },
                {
                    "output_type": "execute_result",
                    "metadata": {},
                    "execution_count": 3,
                    "data": {
                        "application/vnd.dataresource+json": {
                            "schema": {
                                "fields": [
                                    {
                                        "name": "NEV"
                                    },
                                    {
                                        "name": "EMAIL"
                                    }
                                ]
                            },
                            "data": [
                                {
                                    "NEV": "Bodor Szabolcs",
                                    "EMAIL": "szabolcs.bodor@mail.hu"
                                },
                                {
                                    "NEV": "Bosnyák Ilona",
                                    "EMAIL": "ilona3@gmail.com"
                                },
                                {
                                    "NEV": "Szabó Julianna",
                                    "EMAIL": "julianna4@gmail.com"
                                },
                                {
                                    "NEV": "Berta Dávid",
                                    "EMAIL": "david4@gmail.com"
                                }
                            ]
                        },
                        "text/html": [
                            "<table>",
                            "<tr><th>NEV</th><th>EMAIL</th></tr>",
                            "<tr><td>Bodor Szabolcs</td><td>szabolcs.bodor@mail.hu</td></tr>",
                            "<tr><td>Bosnyák Ilona</td><td>ilona3@gmail.com</td></tr>",
                            "<tr><td>Szabó Julianna</td><td>julianna4@gmail.com</td></tr>",
                            "<tr><td>Berta Dávid</td><td>david4@gmail.com</td></tr>",
                            "</table>"
                        ]
                    }
                }
            ],
            "execution_count": 3
        },
        {
            "cell_type": "code",
            "source": [
                "SELECT szh.TIPUS,\r\n",
                "        Round(COUNT(*),-2) AS 'Foglalás DB'\r\n",
                "FROM Foglalas f JOIN Szoba sz ON f.SZOBA_FK = sz.SZOBA_ID\r\n",
                "                JOIN Szallashely szh ON sz.SZALLAS_FK = szh.SZALLAS_ID\r\n",
                "GROUP BY szh.TIPUS\r\n",
                "HAVING ROUND(COUNT(*),-2) < 500"
            ],
            "metadata": {
                "azdata_cell_guid": "72ba1894-b8e2-43ba-893e-1cf2454fdbae",
                "language": "sql"
            },
            "outputs": [
                {
                    "output_type": "display_data",
                    "data": {
                        "text/html": "(3 rows affected)"
                    },
                    "metadata": {}
                },
                {
                    "output_type": "display_data",
                    "data": {
                        "text/html": "Total execution time: 00:00:00.016"
                    },
                    "metadata": {}
                },
                {
                    "output_type": "execute_result",
                    "metadata": {},
                    "execution_count": 14,
                    "data": {
                        "application/vnd.dataresource+json": {
                            "schema": {
                                "fields": [
                                    {
                                        "name": "TIPUS"
                                    },
                                    {
                                        "name": "Típusonként foglalás"
                                    }
                                ]
                            },
                            "data": [
                                {
                                    "TIPUS": "Apartman",
                                    "Típusonként foglalás": "100"
                                },
                                {
                                    "TIPUS": "vendégház",
                                    "Típusonként foglalás": "100"
                                },
                                {
                                    "TIPUS": "panzió",
                                    "Típusonként foglalás": "200"
                                }
                            ]
                        },
                        "text/html": [
                            "<table>",
                            "<tr><th>TIPUS</th><th>Típusonként foglalás</th></tr>",
                            "<tr><td>Apartman</td><td>100</td></tr>",
                            "<tr><td>vendégház</td><td>100</td></tr>",
                            "<tr><td>panzió</td><td>200</td></tr>",
                            "</table>"
                        ]
                    }
                }
            ],
            "execution_count": 14
        },
        {
            "cell_type": "code",
            "source": [
                "SELECT CASE \r\n",
                "            WHEN YEAR(v.SZUL_DAT)>=1985 THEN 'fiatal'\r\n",
                "            WHEN YEAR(v.SZUL_DAT)<1970 THEN 'idős'\r\n",
                "            ELSE 'középkorú' \r\n",
                "        END AS 'Korosztály',\r\n",
                "        COUNT(*) AS 'Foglalások száma'\r\n",
                "FROM Vendeg v JOIN Foglalas f ON v.USERNEV = f.UGYFEL_FK\r\n",
                "WHERE f.FELNOTT_SZAM + f.GYERMEK_SZAM >= 2\r\n",
                "GROUP BY CASE \r\n",
                "            WHEN YEAR(v.SZUL_DAT)>=1985 THEN 'fiatal'\r\n",
                "            WHEN YEAR(v.SZUL_DAT)<1970 THEN 'idős'\r\n",
                "            ELSE 'középkorú' \r\n",
                "        END "
            ],
            "metadata": {
                "azdata_cell_guid": "1e7735f7-7b95-42db-9ffd-510331e842f5",
                "language": "sql"
            },
            "outputs": [
                {
                    "output_type": "display_data",
                    "data": {
                        "text/html": "(3 rows affected)"
                    },
                    "metadata": {}
                },
                {
                    "output_type": "display_data",
                    "data": {
                        "text/html": "Total execution time: 00:00:00.017"
                    },
                    "metadata": {}
                },
                {
                    "output_type": "execute_result",
                    "metadata": {},
                    "execution_count": 24,
                    "data": {
                        "application/vnd.dataresource+json": {
                            "schema": {
                                "fields": [
                                    {
                                        "name": "Korosztály"
                                    },
                                    {
                                        "name": "Foglalások száma"
                                    }
                                ]
                            },
                            "data": [
                                {
                                    "Korosztály": "fiatal",
                                    "Foglalások száma": "197"
                                },
                                {
                                    "Korosztály": "idős",
                                    "Foglalások száma": "58"
                                },
                                {
                                    "Korosztály": "középkorú",
                                    "Foglalások száma": "211"
                                }
                            ]
                        },
                        "text/html": [
                            "<table>",
                            "<tr><th>Korosztály</th><th>Foglalások száma</th></tr>",
                            "<tr><td>fiatal</td><td>197</td></tr>",
                            "<tr><td>idős</td><td>58</td></tr>",
                            "<tr><td>középkorú</td><td>211</td></tr>",
                            "</table>"
                        ]
                    }
                }
            ],
            "execution_count": 24
        }
    ]
}