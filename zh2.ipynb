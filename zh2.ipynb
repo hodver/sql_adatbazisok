{
    "metadata": {
        "kernelspec": {
            "name": "SQL",
            "display_name": "SQL",
            "language": "sql"
        },
        "language_info": {
            "name": "sql",
            "version": ""
        }
    },
    "nbformat_minor": 2,
    "nbformat": 4,
    "cells": [
        {
            "cell_type": "markdown",
            "source": [
                "Készítsen lekérdezést, amely megjeleníti, hogy szobánként (SZOBA\\_FK) hány olyan foglalás történt, ahol a felnőttek száma nagyobb volt a gyermekek számánál!\n",
                "\n",
                "a. A lekérdezés jelenítse meg a végösszeget is megfelelően jelölve!"
            ],
            "metadata": {
                "azdata_cell_guid": "58befd12-fcc7-49a6-89ee-88f2a3e994ec"
            },
            "attachments": {}
        },
        {
            "cell_type": "code",
            "source": [
                "SELECT IIF(SZOBA_FK IS NULL, 'Végösszeg', CAST((SZOBA_FK) AS nvarchar(4))) AS 'Szoba',\r\n",
                "        COUNT(*) AS 'Több felnőtt'\r\n",
                "FROM Foglalas\r\n",
                "WHERE FELNOTT_SZAM > GYERMEK_SZAM\r\n",
                "GROUP BY ROLLUP (SZOBA_FK)\r\n",
                ""
            ],
            "metadata": {
                "azdata_cell_guid": "6ff766b4-8e8c-40aa-a46c-25bae75c6de6",
                "language": "sql"
            },
            "outputs": [
                {
                    "output_type": "display_data",
                    "data": {
                        "text/html": "(190 rows affected)"
                    },
                    "metadata": {}
                },
                {
                    "output_type": "display_data",
                    "data": {
                        "text/html": "Total execution time: 00:00:00.056"
                    },
                    "metadata": {}
                },
                {
                    "output_type": "execute_result",
                    "metadata": {},
                    "execution_count": 6,
                    "data": {
                        "application/vnd.dataresource+json": {
                            "schema": {
                                "fields": [
                                    {
                                        "name": "Szoba"
                                    },
                                    {
                                        "name": "Több felnőtt"
                                    }
                                ]
                            },
                            "data": [
                                {
                                    "Szoba": "1",
                                    "Több felnőtt": "7"
                                },
                                {
                                    "Szoba": "2",
                                    "Több felnőtt": "2"
                                },
                                {
                                    "Szoba": "3",
                                    "Több felnőtt": "3"
                                },
                                {
                                    "Szoba": "4",
                                    "Több felnőtt": "5"
                                },
                                {
                                    "Szoba": "5",
                                    "Több felnőtt": "2"
                                },
                                {
                                    "Szoba": "6",
                                    "Több felnőtt": "5"
                                },
                                {
                                    "Szoba": "7",
                                    "Több felnőtt": "6"
                                },
                                {
                                    "Szoba": "8",
                                    "Több felnőtt": "5"
                                },
                                {
                                    "Szoba": "9",
                                    "Több felnőtt": "4"
                                },
                                {
                                    "Szoba": "10",
                                    "Több felnőtt": "4"
                                },
                                {
                                    "Szoba": "11",
                                    "Több felnőtt": "4"
                                },
                                {
                                    "Szoba": "12",
                                    "Több felnőtt": "7"
                                },
                                {
                                    "Szoba": "13",
                                    "Több felnőtt": "4"
                                },
                                {
                                    "Szoba": "14",
                                    "Több felnőtt": "3"
                                },
                                {
                                    "Szoba": "15",
                                    "Több felnőtt": "4"
                                },
                                {
                                    "Szoba": "16",
                                    "Több felnőtt": "1"
                                },
                                {
                                    "Szoba": "17",
                                    "Több felnőtt": "2"
                                },
                                {
                                    "Szoba": "18",
                                    "Több felnőtt": "3"
                                },
                                {
                                    "Szoba": "19",
                                    "Több felnőtt": "4"
                                },
                                {
                                    "Szoba": "20",
                                    "Több felnőtt": "5"
                                },
                                {
                                    "Szoba": "21",
                                    "Több felnőtt": "1"
                                },
                                {
                                    "Szoba": "22",
                                    "Több felnőtt": "2"
                                },
                                {
                                    "Szoba": "23",
                                    "Több felnőtt": "3"
                                },
                                {
                                    "Szoba": "24",
                                    "Több felnőtt": "3"
                                },
                                {
                                    "Szoba": "25",
                                    "Több felnőtt": "1"
                                },
                                {
                                    "Szoba": "27",
                                    "Több felnőtt": "5"
                                },
                                {
                                    "Szoba": "28",
                                    "Több felnőtt": "5"
                                },
                                {
                                    "Szoba": "29",
                                    "Több felnőtt": "3"
                                },
                                {
                                    "Szoba": "30",
                                    "Több felnőtt": "2"
                                },
                                {
                                    "Szoba": "31",
                                    "Több felnőtt": "1"
                                },
                                {
                                    "Szoba": "32",
                                    "Több felnőtt": "1"
                                },
                                {
                                    "Szoba": "33",
                                    "Több felnőtt": "3"
                                },
                                {
                                    "Szoba": "34",
                                    "Több felnőtt": "3"
                                },
                                {
                                    "Szoba": "35",
                                    "Több felnőtt": "6"
                                },
                                {
                                    "Szoba": "36",
                                    "Több felnőtt": "4"
                                },
                                {
                                    "Szoba": "37",
                                    "Több felnőtt": "2"
                                },
                                {
                                    "Szoba": "38",
                                    "Több felnőtt": "5"
                                },
                                {
                                    "Szoba": "39",
                                    "Több felnőtt": "4"
                                },
                                {
                                    "Szoba": "40",
                                    "Több felnőtt": "3"
                                },
                                {
                                    "Szoba": "41",
                                    "Több felnőtt": "1"
                                },
                                {
                                    "Szoba": "42",
                                    "Több felnőtt": "5"
                                },
                                {
                                    "Szoba": "43",
                                    "Több felnőtt": "4"
                                },
                                {
                                    "Szoba": "44",
                                    "Több felnőtt": "6"
                                },
                                {
                                    "Szoba": "45",
                                    "Több felnőtt": "4"
                                },
                                {
                                    "Szoba": "46",
                                    "Több felnőtt": "3"
                                },
                                {
                                    "Szoba": "47",
                                    "Több felnőtt": "2"
                                },
                                {
                                    "Szoba": "48",
                                    "Több felnőtt": "6"
                                },
                                {
                                    "Szoba": "49",
                                    "Több felnőtt": "5"
                                },
                                {
                                    "Szoba": "50",
                                    "Több felnőtt": "3"
                                },
                                {
                                    "Szoba": "51",
                                    "Több felnőtt": "3"
                                },
                                {
                                    "Szoba": "52",
                                    "Több felnőtt": "5"
                                },
                                {
                                    "Szoba": "54",
                                    "Több felnőtt": "4"
                                },
                                {
                                    "Szoba": "55",
                                    "Több felnőtt": "3"
                                },
                                {
                                    "Szoba": "56",
                                    "Több felnőtt": "1"
                                },
                                {
                                    "Szoba": "57",
                                    "Több felnőtt": "3"
                                },
                                {
                                    "Szoba": "58",
                                    "Több felnőtt": "8"
                                },
                                {
                                    "Szoba": "59",
                                    "Több felnőtt": "4"
                                },
                                {
                                    "Szoba": "60",
                                    "Több felnőtt": "1"
                                },
                                {
                                    "Szoba": "61",
                                    "Több felnőtt": "4"
                                },
                                {
                                    "Szoba": "62",
                                    "Több felnőtt": "3"
                                },
                                {
                                    "Szoba": "63",
                                    "Több felnőtt": "3"
                                },
                                {
                                    "Szoba": "64",
                                    "Több felnőtt": "5"
                                },
                                {
                                    "Szoba": "66",
                                    "Több felnőtt": "3"
                                },
                                {
                                    "Szoba": "67",
                                    "Több felnőtt": "2"
                                },
                                {
                                    "Szoba": "69",
                                    "Több felnőtt": "2"
                                },
                                {
                                    "Szoba": "70",
                                    "Több felnőtt": "8"
                                },
                                {
                                    "Szoba": "71",
                                    "Több felnőtt": "2"
                                },
                                {
                                    "Szoba": "72",
                                    "Több felnőtt": "2"
                                },
                                {
                                    "Szoba": "73",
                                    "Több felnőtt": "4"
                                },
                                {
                                    "Szoba": "74",
                                    "Több felnőtt": "8"
                                },
                                {
                                    "Szoba": "75",
                                    "Több felnőtt": "2"
                                },
                                {
                                    "Szoba": "76",
                                    "Több felnőtt": "2"
                                },
                                {
                                    "Szoba": "77",
                                    "Több felnőtt": "3"
                                },
                                {
                                    "Szoba": "78",
                                    "Több felnőtt": "3"
                                },
                                {
                                    "Szoba": "79",
                                    "Több felnőtt": "4"
                                },
                                {
                                    "Szoba": "80",
                                    "Több felnőtt": "5"
                                },
                                {
                                    "Szoba": "81",
                                    "Több felnőtt": "3"
                                },
                                {
                                    "Szoba": "82",
                                    "Több felnőtt": "5"
                                },
                                {
                                    "Szoba": "83",
                                    "Több felnőtt": "5"
                                },
                                {
                                    "Szoba": "84",
                                    "Több felnőtt": "3"
                                },
                                {
                                    "Szoba": "85",
                                    "Több felnőtt": "2"
                                },
                                {
                                    "Szoba": "86",
                                    "Több felnőtt": "4"
                                },
                                {
                                    "Szoba": "87",
                                    "Több felnőtt": "5"
                                },
                                {
                                    "Szoba": "88",
                                    "Több felnőtt": "5"
                                },
                                {
                                    "Szoba": "89",
                                    "Több felnőtt": "8"
                                },
                                {
                                    "Szoba": "90",
                                    "Több felnőtt": "3"
                                },
                                {
                                    "Szoba": "91",
                                    "Több felnőtt": "2"
                                },
                                {
                                    "Szoba": "92",
                                    "Több felnőtt": "5"
                                },
                                {
                                    "Szoba": "93",
                                    "Több felnőtt": "3"
                                },
                                {
                                    "Szoba": "94",
                                    "Több felnőtt": "6"
                                },
                                {
                                    "Szoba": "95",
                                    "Több felnőtt": "3"
                                },
                                {
                                    "Szoba": "96",
                                    "Több felnőtt": "6"
                                },
                                {
                                    "Szoba": "97",
                                    "Több felnőtt": "5"
                                },
                                {
                                    "Szoba": "98",
                                    "Több felnőtt": "4"
                                },
                                {
                                    "Szoba": "99",
                                    "Több felnőtt": "4"
                                },
                                {
                                    "Szoba": "100",
                                    "Több felnőtt": "2"
                                },
                                {
                                    "Szoba": "101",
                                    "Több felnőtt": "1"
                                },
                                {
                                    "Szoba": "102",
                                    "Több felnőtt": "1"
                                },
                                {
                                    "Szoba": "103",
                                    "Több felnőtt": "1"
                                },
                                {
                                    "Szoba": "104",
                                    "Több felnőtt": "3"
                                },
                                {
                                    "Szoba": "106",
                                    "Több felnőtt": "4"
                                },
                                {
                                    "Szoba": "107",
                                    "Több felnőtt": "4"
                                },
                                {
                                    "Szoba": "108",
                                    "Több felnőtt": "1"
                                },
                                {
                                    "Szoba": "109",
                                    "Több felnőtt": "2"
                                },
                                {
                                    "Szoba": "110",
                                    "Több felnőtt": "5"
                                },
                                {
                                    "Szoba": "111",
                                    "Több felnőtt": "1"
                                },
                                {
                                    "Szoba": "112",
                                    "Több felnőtt": "4"
                                },
                                {
                                    "Szoba": "113",
                                    "Több felnőtt": "2"
                                },
                                {
                                    "Szoba": "114",
                                    "Több felnőtt": "1"
                                },
                                {
                                    "Szoba": "115",
                                    "Több felnőtt": "5"
                                },
                                {
                                    "Szoba": "117",
                                    "Több felnőtt": "4"
                                },
                                {
                                    "Szoba": "118",
                                    "Több felnőtt": "2"
                                },
                                {
                                    "Szoba": "119",
                                    "Több felnőtt": "4"
                                },
                                {
                                    "Szoba": "120",
                                    "Több felnőtt": "2"
                                },
                                {
                                    "Szoba": "121",
                                    "Több felnőtt": "5"
                                },
                                {
                                    "Szoba": "122",
                                    "Több felnőtt": "3"
                                },
                                {
                                    "Szoba": "123",
                                    "Több felnőtt": "5"
                                },
                                {
                                    "Szoba": "124",
                                    "Több felnőtt": "4"
                                },
                                {
                                    "Szoba": "126",
                                    "Több felnőtt": "4"
                                },
                                {
                                    "Szoba": "127",
                                    "Több felnőtt": "5"
                                },
                                {
                                    "Szoba": "129",
                                    "Több felnőtt": "3"
                                },
                                {
                                    "Szoba": "130",
                                    "Több felnőtt": "5"
                                },
                                {
                                    "Szoba": "131",
                                    "Több felnőtt": "4"
                                },
                                {
                                    "Szoba": "132",
                                    "Több felnőtt": "4"
                                },
                                {
                                    "Szoba": "133",
                                    "Több felnőtt": "4"
                                },
                                {
                                    "Szoba": "134",
                                    "Több felnőtt": "4"
                                },
                                {
                                    "Szoba": "135",
                                    "Több felnőtt": "3"
                                },
                                {
                                    "Szoba": "136",
                                    "Több felnőtt": "2"
                                },
                                {
                                    "Szoba": "137",
                                    "Több felnőtt": "2"
                                },
                                {
                                    "Szoba": "138",
                                    "Több felnőtt": "5"
                                },
                                {
                                    "Szoba": "139",
                                    "Több felnőtt": "6"
                                },
                                {
                                    "Szoba": "140",
                                    "Több felnőtt": "5"
                                },
                                {
                                    "Szoba": "141",
                                    "Több felnőtt": "4"
                                },
                                {
                                    "Szoba": "142",
                                    "Több felnőtt": "1"
                                },
                                {
                                    "Szoba": "143",
                                    "Több felnőtt": "5"
                                },
                                {
                                    "Szoba": "144",
                                    "Több felnőtt": "2"
                                },
                                {
                                    "Szoba": "145",
                                    "Több felnőtt": "2"
                                },
                                {
                                    "Szoba": "146",
                                    "Több felnőtt": "3"
                                },
                                {
                                    "Szoba": "147",
                                    "Több felnőtt": "1"
                                },
                                {
                                    "Szoba": "148",
                                    "Több felnőtt": "5"
                                },
                                {
                                    "Szoba": "149",
                                    "Több felnőtt": "5"
                                },
                                {
                                    "Szoba": "150",
                                    "Több felnőtt": "6"
                                },
                                {
                                    "Szoba": "151",
                                    "Több felnőtt": "2"
                                },
                                {
                                    "Szoba": "152",
                                    "Több felnőtt": "3"
                                },
                                {
                                    "Szoba": "153",
                                    "Több felnőtt": "4"
                                },
                                {
                                    "Szoba": "154",
                                    "Több felnőtt": "3"
                                },
                                {
                                    "Szoba": "155",
                                    "Több felnőtt": "3"
                                },
                                {
                                    "Szoba": "156",
                                    "Több felnőtt": "2"
                                },
                                {
                                    "Szoba": "157",
                                    "Több felnőtt": "2"
                                },
                                {
                                    "Szoba": "158",
                                    "Több felnőtt": "3"
                                },
                                {
                                    "Szoba": "160",
                                    "Több felnőtt": "2"
                                },
                                {
                                    "Szoba": "161",
                                    "Több felnőtt": "3"
                                },
                                {
                                    "Szoba": "162",
                                    "Több felnőtt": "2"
                                },
                                {
                                    "Szoba": "163",
                                    "Több felnőtt": "5"
                                },
                                {
                                    "Szoba": "164",
                                    "Több felnőtt": "4"
                                },
                                {
                                    "Szoba": "165",
                                    "Több felnőtt": "5"
                                },
                                {
                                    "Szoba": "166",
                                    "Több felnőtt": "3"
                                },
                                {
                                    "Szoba": "167",
                                    "Több felnőtt": "2"
                                },
                                {
                                    "Szoba": "168",
                                    "Több felnőtt": "1"
                                },
                                {
                                    "Szoba": "169",
                                    "Több felnőtt": "3"
                                },
                                {
                                    "Szoba": "170",
                                    "Több felnőtt": "3"
                                },
                                {
                                    "Szoba": "171",
                                    "Több felnőtt": "5"
                                },
                                {
                                    "Szoba": "172",
                                    "Több felnőtt": "6"
                                },
                                {
                                    "Szoba": "173",
                                    "Több felnőtt": "3"
                                },
                                {
                                    "Szoba": "174",
                                    "Több felnőtt": "4"
                                },
                                {
                                    "Szoba": "175",
                                    "Több felnőtt": "3"
                                },
                                {
                                    "Szoba": "176",
                                    "Több felnőtt": "2"
                                },
                                {
                                    "Szoba": "177",
                                    "Több felnőtt": "1"
                                },
                                {
                                    "Szoba": "178",
                                    "Több felnőtt": "1"
                                },
                                {
                                    "Szoba": "179",
                                    "Több felnőtt": "2"
                                },
                                {
                                    "Szoba": "180",
                                    "Több felnőtt": "1"
                                },
                                {
                                    "Szoba": "181",
                                    "Több felnőtt": "5"
                                },
                                {
                                    "Szoba": "182",
                                    "Több felnőtt": "11"
                                },
                                {
                                    "Szoba": "183",
                                    "Több felnőtt": "3"
                                },
                                {
                                    "Szoba": "184",
                                    "Több felnőtt": "4"
                                },
                                {
                                    "Szoba": "185",
                                    "Több felnőtt": "10"
                                },
                                {
                                    "Szoba": "186",
                                    "Több felnőtt": "1"
                                },
                                {
                                    "Szoba": "187",
                                    "Több felnőtt": "6"
                                },
                                {
                                    "Szoba": "188",
                                    "Több felnőtt": "2"
                                },
                                {
                                    "Szoba": "189",
                                    "Több felnőtt": "1"
                                },
                                {
                                    "Szoba": "190",
                                    "Több felnőtt": "5"
                                },
                                {
                                    "Szoba": "191",
                                    "Több felnőtt": "3"
                                },
                                {
                                    "Szoba": "192",
                                    "Több felnőtt": "1"
                                },
                                {
                                    "Szoba": "193",
                                    "Több felnőtt": "2"
                                },
                                {
                                    "Szoba": "194",
                                    "Több felnőtt": "1"
                                },
                                {
                                    "Szoba": "195",
                                    "Több felnőtt": "5"
                                },
                                {
                                    "Szoba": "196",
                                    "Több felnőtt": "2"
                                },
                                {
                                    "Szoba": "197",
                                    "Több felnőtt": "6"
                                },
                                {
                                    "Szoba": "198",
                                    "Több felnőtt": "7"
                                },
                                {
                                    "Szoba": "Végösszeg",
                                    "Több felnőtt": "668"
                                }
                            ]
                        },
                        "text/html": [
                            "<table>",
                            "<tr><th>Szoba</th><th>Több felnőtt</th></tr>",
                            "<tr><td>1</td><td>7</td></tr>",
                            "<tr><td>2</td><td>2</td></tr>",
                            "<tr><td>3</td><td>3</td></tr>",
                            "<tr><td>4</td><td>5</td></tr>",
                            "<tr><td>5</td><td>2</td></tr>",
                            "<tr><td>6</td><td>5</td></tr>",
                            "<tr><td>7</td><td>6</td></tr>",
                            "<tr><td>8</td><td>5</td></tr>",
                            "<tr><td>9</td><td>4</td></tr>",
                            "<tr><td>10</td><td>4</td></tr>",
                            "<tr><td>11</td><td>4</td></tr>",
                            "<tr><td>12</td><td>7</td></tr>",
                            "<tr><td>13</td><td>4</td></tr>",
                            "<tr><td>14</td><td>3</td></tr>",
                            "<tr><td>15</td><td>4</td></tr>",
                            "<tr><td>16</td><td>1</td></tr>",
                            "<tr><td>17</td><td>2</td></tr>",
                            "<tr><td>18</td><td>3</td></tr>",
                            "<tr><td>19</td><td>4</td></tr>",
                            "<tr><td>20</td><td>5</td></tr>",
                            "<tr><td>21</td><td>1</td></tr>",
                            "<tr><td>22</td><td>2</td></tr>",
                            "<tr><td>23</td><td>3</td></tr>",
                            "<tr><td>24</td><td>3</td></tr>",
                            "<tr><td>25</td><td>1</td></tr>",
                            "<tr><td>27</td><td>5</td></tr>",
                            "<tr><td>28</td><td>5</td></tr>",
                            "<tr><td>29</td><td>3</td></tr>",
                            "<tr><td>30</td><td>2</td></tr>",
                            "<tr><td>31</td><td>1</td></tr>",
                            "<tr><td>32</td><td>1</td></tr>",
                            "<tr><td>33</td><td>3</td></tr>",
                            "<tr><td>34</td><td>3</td></tr>",
                            "<tr><td>35</td><td>6</td></tr>",
                            "<tr><td>36</td><td>4</td></tr>",
                            "<tr><td>37</td><td>2</td></tr>",
                            "<tr><td>38</td><td>5</td></tr>",
                            "<tr><td>39</td><td>4</td></tr>",
                            "<tr><td>40</td><td>3</td></tr>",
                            "<tr><td>41</td><td>1</td></tr>",
                            "<tr><td>42</td><td>5</td></tr>",
                            "<tr><td>43</td><td>4</td></tr>",
                            "<tr><td>44</td><td>6</td></tr>",
                            "<tr><td>45</td><td>4</td></tr>",
                            "<tr><td>46</td><td>3</td></tr>",
                            "<tr><td>47</td><td>2</td></tr>",
                            "<tr><td>48</td><td>6</td></tr>",
                            "<tr><td>49</td><td>5</td></tr>",
                            "<tr><td>50</td><td>3</td></tr>",
                            "<tr><td>51</td><td>3</td></tr>",
                            "<tr><td>52</td><td>5</td></tr>",
                            "<tr><td>54</td><td>4</td></tr>",
                            "<tr><td>55</td><td>3</td></tr>",
                            "<tr><td>56</td><td>1</td></tr>",
                            "<tr><td>57</td><td>3</td></tr>",
                            "<tr><td>58</td><td>8</td></tr>",
                            "<tr><td>59</td><td>4</td></tr>",
                            "<tr><td>60</td><td>1</td></tr>",
                            "<tr><td>61</td><td>4</td></tr>",
                            "<tr><td>62</td><td>3</td></tr>",
                            "<tr><td>63</td><td>3</td></tr>",
                            "<tr><td>64</td><td>5</td></tr>",
                            "<tr><td>66</td><td>3</td></tr>",
                            "<tr><td>67</td><td>2</td></tr>",
                            "<tr><td>69</td><td>2</td></tr>",
                            "<tr><td>70</td><td>8</td></tr>",
                            "<tr><td>71</td><td>2</td></tr>",
                            "<tr><td>72</td><td>2</td></tr>",
                            "<tr><td>73</td><td>4</td></tr>",
                            "<tr><td>74</td><td>8</td></tr>",
                            "<tr><td>75</td><td>2</td></tr>",
                            "<tr><td>76</td><td>2</td></tr>",
                            "<tr><td>77</td><td>3</td></tr>",
                            "<tr><td>78</td><td>3</td></tr>",
                            "<tr><td>79</td><td>4</td></tr>",
                            "<tr><td>80</td><td>5</td></tr>",
                            "<tr><td>81</td><td>3</td></tr>",
                            "<tr><td>82</td><td>5</td></tr>",
                            "<tr><td>83</td><td>5</td></tr>",
                            "<tr><td>84</td><td>3</td></tr>",
                            "<tr><td>85</td><td>2</td></tr>",
                            "<tr><td>86</td><td>4</td></tr>",
                            "<tr><td>87</td><td>5</td></tr>",
                            "<tr><td>88</td><td>5</td></tr>",
                            "<tr><td>89</td><td>8</td></tr>",
                            "<tr><td>90</td><td>3</td></tr>",
                            "<tr><td>91</td><td>2</td></tr>",
                            "<tr><td>92</td><td>5</td></tr>",
                            "<tr><td>93</td><td>3</td></tr>",
                            "<tr><td>94</td><td>6</td></tr>",
                            "<tr><td>95</td><td>3</td></tr>",
                            "<tr><td>96</td><td>6</td></tr>",
                            "<tr><td>97</td><td>5</td></tr>",
                            "<tr><td>98</td><td>4</td></tr>",
                            "<tr><td>99</td><td>4</td></tr>",
                            "<tr><td>100</td><td>2</td></tr>",
                            "<tr><td>101</td><td>1</td></tr>",
                            "<tr><td>102</td><td>1</td></tr>",
                            "<tr><td>103</td><td>1</td></tr>",
                            "<tr><td>104</td><td>3</td></tr>",
                            "<tr><td>106</td><td>4</td></tr>",
                            "<tr><td>107</td><td>4</td></tr>",
                            "<tr><td>108</td><td>1</td></tr>",
                            "<tr><td>109</td><td>2</td></tr>",
                            "<tr><td>110</td><td>5</td></tr>",
                            "<tr><td>111</td><td>1</td></tr>",
                            "<tr><td>112</td><td>4</td></tr>",
                            "<tr><td>113</td><td>2</td></tr>",
                            "<tr><td>114</td><td>1</td></tr>",
                            "<tr><td>115</td><td>5</td></tr>",
                            "<tr><td>117</td><td>4</td></tr>",
                            "<tr><td>118</td><td>2</td></tr>",
                            "<tr><td>119</td><td>4</td></tr>",
                            "<tr><td>120</td><td>2</td></tr>",
                            "<tr><td>121</td><td>5</td></tr>",
                            "<tr><td>122</td><td>3</td></tr>",
                            "<tr><td>123</td><td>5</td></tr>",
                            "<tr><td>124</td><td>4</td></tr>",
                            "<tr><td>126</td><td>4</td></tr>",
                            "<tr><td>127</td><td>5</td></tr>",
                            "<tr><td>129</td><td>3</td></tr>",
                            "<tr><td>130</td><td>5</td></tr>",
                            "<tr><td>131</td><td>4</td></tr>",
                            "<tr><td>132</td><td>4</td></tr>",
                            "<tr><td>133</td><td>4</td></tr>",
                            "<tr><td>134</td><td>4</td></tr>",
                            "<tr><td>135</td><td>3</td></tr>",
                            "<tr><td>136</td><td>2</td></tr>",
                            "<tr><td>137</td><td>2</td></tr>",
                            "<tr><td>138</td><td>5</td></tr>",
                            "<tr><td>139</td><td>6</td></tr>",
                            "<tr><td>140</td><td>5</td></tr>",
                            "<tr><td>141</td><td>4</td></tr>",
                            "<tr><td>142</td><td>1</td></tr>",
                            "<tr><td>143</td><td>5</td></tr>",
                            "<tr><td>144</td><td>2</td></tr>",
                            "<tr><td>145</td><td>2</td></tr>",
                            "<tr><td>146</td><td>3</td></tr>",
                            "<tr><td>147</td><td>1</td></tr>",
                            "<tr><td>148</td><td>5</td></tr>",
                            "<tr><td>149</td><td>5</td></tr>",
                            "<tr><td>150</td><td>6</td></tr>",
                            "<tr><td>151</td><td>2</td></tr>",
                            "<tr><td>152</td><td>3</td></tr>",
                            "<tr><td>153</td><td>4</td></tr>",
                            "<tr><td>154</td><td>3</td></tr>",
                            "<tr><td>155</td><td>3</td></tr>",
                            "<tr><td>156</td><td>2</td></tr>",
                            "<tr><td>157</td><td>2</td></tr>",
                            "<tr><td>158</td><td>3</td></tr>",
                            "<tr><td>160</td><td>2</td></tr>",
                            "<tr><td>161</td><td>3</td></tr>",
                            "<tr><td>162</td><td>2</td></tr>",
                            "<tr><td>163</td><td>5</td></tr>",
                            "<tr><td>164</td><td>4</td></tr>",
                            "<tr><td>165</td><td>5</td></tr>",
                            "<tr><td>166</td><td>3</td></tr>",
                            "<tr><td>167</td><td>2</td></tr>",
                            "<tr><td>168</td><td>1</td></tr>",
                            "<tr><td>169</td><td>3</td></tr>",
                            "<tr><td>170</td><td>3</td></tr>",
                            "<tr><td>171</td><td>5</td></tr>",
                            "<tr><td>172</td><td>6</td></tr>",
                            "<tr><td>173</td><td>3</td></tr>",
                            "<tr><td>174</td><td>4</td></tr>",
                            "<tr><td>175</td><td>3</td></tr>",
                            "<tr><td>176</td><td>2</td></tr>",
                            "<tr><td>177</td><td>1</td></tr>",
                            "<tr><td>178</td><td>1</td></tr>",
                            "<tr><td>179</td><td>2</td></tr>",
                            "<tr><td>180</td><td>1</td></tr>",
                            "<tr><td>181</td><td>5</td></tr>",
                            "<tr><td>182</td><td>11</td></tr>",
                            "<tr><td>183</td><td>3</td></tr>",
                            "<tr><td>184</td><td>4</td></tr>",
                            "<tr><td>185</td><td>10</td></tr>",
                            "<tr><td>186</td><td>1</td></tr>",
                            "<tr><td>187</td><td>6</td></tr>",
                            "<tr><td>188</td><td>2</td></tr>",
                            "<tr><td>189</td><td>1</td></tr>",
                            "<tr><td>190</td><td>5</td></tr>",
                            "<tr><td>191</td><td>3</td></tr>",
                            "<tr><td>192</td><td>1</td></tr>",
                            "<tr><td>193</td><td>2</td></tr>",
                            "<tr><td>194</td><td>1</td></tr>",
                            "<tr><td>195</td><td>5</td></tr>",
                            "<tr><td>196</td><td>2</td></tr>",
                            "<tr><td>197</td><td>6</td></tr>",
                            "<tr><td>198</td><td>7</td></tr>",
                            "<tr><td>Végösszeg</td><td>668</td></tr>",
                            "</table>"
                        ]
                    }
                }
            ],
            "execution_count": 6
        },
        {
            "cell_type": "markdown",
            "source": [
                "Készítsük listát, amely a szobák azonosítóit és a hozzájuk tartozó foglalások azonosítóját és időtartalmát (napokban) jeleníti meg!\n",
                "\n",
                "- Egy új oszlopban jelenítsük meg az adott szoba időben előző foglalásának időtartamát is!\n",
                "- Ha nincs előző, akkor 0 jelenjen meg"
            ],
            "metadata": {
                "azdata_cell_guid": "da245ca5-5769-4492-8338-eca3ed1a107e"
            },
            "attachments": {}
        },
        {
            "cell_type": "code",
            "source": [
                "SELECT SZOBA_FK AS 'Szoba azonosítója',\r\n",
                "        FOGLALAS_PK AS 'Foglalás azonosítója',\r\n",
                "        DATEDIFF(DAY,METTOL,MEDDIG) AS 'Foglalás időtartama',\r\n",
                "        LAG(DATEDIFF(DAY,METTOL,MEDDIG),1,0) OVER (PARTITION BY SZOBA_FK ORDER BY DATEDIFF(DAY,METTOL,MEDDIG)) AS 'A szoba előző foglalásának időtartama'\r\n",
                "FROM Foglalas"
            ],
            "metadata": {
                "azdata_cell_guid": "b1c3fb9e-72b1-4734-9844-08a464c4cbc6",
                "language": "sql"
            },
            "outputs": [
                {
                    "output_type": "display_data",
                    "data": {
                        "text/html": "(1027 rows affected)"
                    },
                    "metadata": {}
                },
                {
                    "output_type": "display_data",
                    "data": {
                        "text/html": "Total execution time: 00:00:00.018"
                    },
                    "metadata": {}
                },
                {
                    "output_type": "execute_result",
                    "metadata": {},
                    "execution_count": 12,
                    "data": {
                        "application/vnd.dataresource+json": {
                            "schema": {
                                "fields": [
                                    {
                                        "name": "Szoba azonosítója"
                                    },
                                    {
                                        "name": "Foglalás azonosítója"
                                    },
                                    {
                                        "name": "Foglalás időtartama"
                                    },
                                    {
                                        "name": "A szoba előző foglalásának időtartama"
                                    }
                                ]
                            },
                            "data": [
                                {
                                    "Szoba azonosítója": "1",
                                    "Foglalás azonosítója": "949",
                                    "Foglalás időtartama": "1",
                                    "A szoba előző foglalásának időtartama": "0"
                                },
                                {
                                    "Szoba azonosítója": "1",
                                    "Foglalás azonosítója": "1152",
                                    "Foglalás időtartama": "1",
                                    "A szoba előző foglalásának időtartama": "1"
                                },
                                {
                                    "Szoba azonosítója": "1",
                                    "Foglalás azonosítója": "1274",
                                    "Foglalás időtartama": "1",
                                    "A szoba előző foglalásának időtartama": "1"
                                },
                                {
                                    "Szoba azonosítója": "1",
                                    "Foglalás azonosítója": "1137",
                                    "Foglalás időtartama": "2",
                                    "A szoba előző foglalásának időtartama": "1"
                                },
                                {
                                    "Szoba azonosítója": "1",
                                    "Foglalás azonosítója": "1334",
                                    "Foglalás időtartama": "4",
                                    "A szoba előző foglalásának időtartama": "2"
                                },
                                {
                                    "Szoba azonosítója": "1",
                                    "Foglalás azonosítója": "803",
                                    "Foglalás időtartama": "4",
                                    "A szoba előző foglalásának időtartama": "4"
                                },
                                {
                                    "Szoba azonosítója": "1",
                                    "Foglalás azonosítója": "620",
                                    "Foglalás időtartama": "5",
                                    "A szoba előző foglalásának időtartama": "4"
                                },
                                {
                                    "Szoba azonosítója": "1",
                                    "Foglalás azonosítója": "738",
                                    "Foglalás időtartama": "7",
                                    "A szoba előző foglalásának időtartama": "5"
                                },
                                {
                                    "Szoba azonosítója": "2",
                                    "Foglalás azonosítója": "1051",
                                    "Foglalás időtartama": "1",
                                    "A szoba előző foglalásának időtartama": "0"
                                },
                                {
                                    "Szoba azonosítója": "2",
                                    "Foglalás azonosítója": "828",
                                    "Foglalás időtartama": "3",
                                    "A szoba előző foglalásának időtartama": "1"
                                },
                                {
                                    "Szoba azonosítója": "2",
                                    "Foglalás azonosítója": "1069",
                                    "Foglalás időtartama": "7",
                                    "A szoba előző foglalásának időtartama": "3"
                                },
                                {
                                    "Szoba azonosítója": "2",
                                    "Foglalás azonosítója": "1311",
                                    "Foglalás időtartama": "7",
                                    "A szoba előző foglalásának időtartama": "7"
                                },
                                {
                                    "Szoba azonosítója": "3",
                                    "Foglalás azonosítója": "1151",
                                    "Foglalás időtartama": "1",
                                    "A szoba előző foglalásának időtartama": "0"
                                },
                                {
                                    "Szoba azonosítója": "3",
                                    "Foglalás azonosítója": "1038",
                                    "Foglalás időtartama": "3",
                                    "A szoba előző foglalásának időtartama": "1"
                                },
                                {
                                    "Szoba azonosítója": "3",
                                    "Foglalás azonosítója": "629",
                                    "Foglalás időtartama": "4",
                                    "A szoba előző foglalásának időtartama": "3"
                                },
                                {
                                    "Szoba azonosítója": "3",
                                    "Foglalás azonosítója": "1434",
                                    "Foglalás időtartama": "5",
                                    "A szoba előző foglalásának időtartama": "4"
                                },
                                {
                                    "Szoba azonosítója": "3",
                                    "Foglalás azonosítója": "1544",
                                    "Foglalás időtartama": "5",
                                    "A szoba előző foglalásának időtartama": "5"
                                },
                                {
                                    "Szoba azonosítója": "3",
                                    "Foglalás azonosítója": "666",
                                    "Foglalás időtartama": "6",
                                    "A szoba előző foglalásának időtartama": "5"
                                },
                                {
                                    "Szoba azonosítója": "3",
                                    "Foglalás azonosítója": "788",
                                    "Foglalás időtartama": "6",
                                    "A szoba előző foglalásának időtartama": "6"
                                },
                                {
                                    "Szoba azonosítója": "3",
                                    "Foglalás azonosítója": "1110",
                                    "Foglalás időtartama": "7",
                                    "A szoba előző foglalásának időtartama": "6"
                                },
                                {
                                    "Szoba azonosítója": "4",
                                    "Foglalás azonosítója": "1127",
                                    "Foglalás időtartama": "3",
                                    "A szoba előző foglalásának időtartama": "0"
                                },
                                {
                                    "Szoba azonosítója": "4",
                                    "Foglalás azonosítója": "946",
                                    "Foglalás időtartama": "5",
                                    "A szoba előző foglalásának időtartama": "3"
                                },
                                {
                                    "Szoba azonosítója": "4",
                                    "Foglalás azonosítója": "1492",
                                    "Foglalás időtartama": "6",
                                    "A szoba előző foglalásának időtartama": "5"
                                },
                                {
                                    "Szoba azonosítója": "4",
                                    "Foglalás azonosítója": "1132",
                                    "Foglalás időtartama": "6",
                                    "A szoba előző foglalásának időtartama": "6"
                                },
                                {
                                    "Szoba azonosítója": "4",
                                    "Foglalás azonosítója": "1001",
                                    "Foglalás időtartama": "7",
                                    "A szoba előző foglalásának időtartama": "6"
                                },
                                {
                                    "Szoba azonosítója": "4",
                                    "Foglalás azonosítója": "651",
                                    "Foglalás időtartama": "7",
                                    "A szoba előző foglalásának időtartama": "7"
                                },
                                {
                                    "Szoba azonosítója": "5",
                                    "Foglalás azonosítója": "564",
                                    "Foglalás időtartama": "2",
                                    "A szoba előző foglalásának időtartama": "0"
                                },
                                {
                                    "Szoba azonosítója": "5",
                                    "Foglalás azonosítója": "1257",
                                    "Foglalás időtartama": "3",
                                    "A szoba előző foglalásának időtartama": "2"
                                },
                                {
                                    "Szoba azonosítója": "5",
                                    "Foglalás azonosítója": "1073",
                                    "Foglalás időtartama": "5",
                                    "A szoba előző foglalásának időtartama": "3"
                                },
                                {
                                    "Szoba azonosítója": "5",
                                    "Foglalás azonosítója": "965",
                                    "Foglalás időtartama": "7",
                                    "A szoba előző foglalásának időtartama": "5"
                                },
                                {
                                    "Szoba azonosítója": "6",
                                    "Foglalás azonosítója": "850",
                                    "Foglalás időtartama": "2",
                                    "A szoba előző foglalásának időtartama": "0"
                                },
                                {
                                    "Szoba azonosítója": "6",
                                    "Foglalás azonosítója": "873",
                                    "Foglalás időtartama": "3",
                                    "A szoba előző foglalásának időtartama": "2"
                                },
                                {
                                    "Szoba azonosítója": "6",
                                    "Foglalás azonosítója": "1099",
                                    "Foglalás időtartama": "4",
                                    "A szoba előző foglalásának időtartama": "3"
                                },
                                {
                                    "Szoba azonosítója": "6",
                                    "Foglalás azonosítója": "990",
                                    "Foglalás időtartama": "4",
                                    "A szoba előző foglalásának időtartama": "4"
                                },
                                {
                                    "Szoba azonosítója": "6",
                                    "Foglalás azonosítója": "560",
                                    "Foglalás időtartama": "6",
                                    "A szoba előző foglalásának időtartama": "4"
                                },
                                {
                                    "Szoba azonosítója": "6",
                                    "Foglalás azonosítója": "772",
                                    "Foglalás időtartama": "6",
                                    "A szoba előző foglalásának időtartama": "6"
                                },
                                {
                                    "Szoba azonosítója": "7",
                                    "Foglalás azonosítója": "1131",
                                    "Foglalás időtartama": "1",
                                    "A szoba előző foglalásának időtartama": "0"
                                },
                                {
                                    "Szoba azonosítója": "7",
                                    "Foglalás azonosítója": "1252",
                                    "Foglalás időtartama": "2",
                                    "A szoba előző foglalásának időtartama": "1"
                                },
                                {
                                    "Szoba azonosítója": "7",
                                    "Foglalás azonosítója": "1175",
                                    "Foglalás időtartama": "4",
                                    "A szoba előző foglalásának időtartama": "2"
                                },
                                {
                                    "Szoba azonosítója": "7",
                                    "Foglalás azonosítója": "1182",
                                    "Foglalás időtartama": "4",
                                    "A szoba előző foglalásának időtartama": "4"
                                },
                                {
                                    "Szoba azonosítója": "7",
                                    "Foglalás azonosítója": "562",
                                    "Foglalás időtartama": "4",
                                    "A szoba előző foglalásának időtartama": "4"
                                },
                                {
                                    "Szoba azonosítója": "7",
                                    "Foglalás azonosítója": "759",
                                    "Foglalás időtartama": "7",
                                    "A szoba előző foglalásának időtartama": "4"
                                },
                                {
                                    "Szoba azonosítója": "8",
                                    "Foglalás azonosítója": "882",
                                    "Foglalás időtartama": "1",
                                    "A szoba előző foglalásának időtartama": "0"
                                },
                                {
                                    "Szoba azonosítója": "8",
                                    "Foglalás azonosítója": "947",
                                    "Foglalás időtartama": "3",
                                    "A szoba előző foglalásának időtartama": "1"
                                },
                                {
                                    "Szoba azonosítója": "8",
                                    "Foglalás azonosítója": "832",
                                    "Foglalás időtartama": "4",
                                    "A szoba előző foglalásának időtartama": "3"
                                },
                                {
                                    "Szoba azonosítója": "8",
                                    "Foglalás azonosítója": "818",
                                    "Foglalás időtartama": "4",
                                    "A szoba előző foglalásának időtartama": "4"
                                },
                                {
                                    "Szoba azonosítója": "8",
                                    "Foglalás azonosítója": "694",
                                    "Foglalás időtartama": "4",
                                    "A szoba előző foglalásának időtartama": "4"
                                },
                                {
                                    "Szoba azonosítója": "9",
                                    "Foglalás azonosítója": "609",
                                    "Foglalás időtartama": "2",
                                    "A szoba előző foglalásának időtartama": "0"
                                },
                                {
                                    "Szoba azonosítója": "9",
                                    "Foglalás azonosítója": "1220",
                                    "Foglalás időtartama": "3",
                                    "A szoba előző foglalásának időtartama": "2"
                                },
                                {
                                    "Szoba azonosítója": "9",
                                    "Foglalás azonosítója": "1537",
                                    "Foglalás időtartama": "3",
                                    "A szoba előző foglalásának időtartama": "3"
                                },
                                {
                                    "Szoba azonosítója": "9",
                                    "Foglalás azonosítója": "1423",
                                    "Foglalás időtartama": "3",
                                    "A szoba előző foglalásának időtartama": "3"
                                },
                                {
                                    "Szoba azonosítója": "9",
                                    "Foglalás azonosítója": "1260",
                                    "Foglalás időtartama": "6",
                                    "A szoba előző foglalásának időtartama": "3"
                                },
                                {
                                    "Szoba azonosítója": "9",
                                    "Foglalás azonosítója": "1157",
                                    "Foglalás időtartama": "6",
                                    "A szoba előző foglalásának időtartama": "6"
                                },
                                {
                                    "Szoba azonosítója": "10",
                                    "Foglalás azonosítója": "569",
                                    "Foglalás időtartama": "3",
                                    "A szoba előző foglalásának időtartama": "0"
                                },
                                {
                                    "Szoba azonosítója": "10",
                                    "Foglalás azonosítója": "795",
                                    "Foglalás időtartama": "4",
                                    "A szoba előző foglalásának időtartama": "3"
                                },
                                {
                                    "Szoba azonosítója": "10",
                                    "Foglalás azonosítója": "790",
                                    "Foglalás időtartama": "5",
                                    "A szoba előző foglalásának időtartama": "4"
                                },
                                {
                                    "Szoba azonosítója": "10",
                                    "Foglalás azonosítója": "1319",
                                    "Foglalás időtartama": "6",
                                    "A szoba előző foglalásának időtartama": "5"
                                },
                                {
                                    "Szoba azonosítója": "11",
                                    "Foglalás azonosítója": "1236",
                                    "Foglalás időtartama": "1",
                                    "A szoba előző foglalásának időtartama": "0"
                                },
                                {
                                    "Szoba azonosítója": "11",
                                    "Foglalás azonosítója": "1523",
                                    "Foglalás időtartama": "1",
                                    "A szoba előző foglalásának időtartama": "1"
                                },
                                {
                                    "Szoba azonosítója": "11",
                                    "Foglalás azonosítója": "1123",
                                    "Foglalás időtartama": "5",
                                    "A szoba előző foglalásának időtartama": "1"
                                },
                                {
                                    "Szoba azonosítója": "11",
                                    "Foglalás azonosítója": "918",
                                    "Foglalás időtartama": "6",
                                    "A szoba előző foglalásának időtartama": "5"
                                },
                                {
                                    "Szoba azonosítója": "12",
                                    "Foglalás azonosítója": "970",
                                    "Foglalás időtartama": "2",
                                    "A szoba előző foglalásának időtartama": "0"
                                },
                                {
                                    "Szoba azonosítója": "12",
                                    "Foglalás azonosítója": "697",
                                    "Foglalás időtartama": "2",
                                    "A szoba előző foglalásának időtartama": "2"
                                },
                                {
                                    "Szoba azonosítója": "12",
                                    "Foglalás azonosítója": "1430",
                                    "Foglalás időtartama": "2",
                                    "A szoba előző foglalásának időtartama": "2"
                                },
                                {
                                    "Szoba azonosítója": "12",
                                    "Foglalás azonosítója": "1140",
                                    "Foglalás időtartama": "3",
                                    "A szoba előző foglalásának időtartama": "2"
                                },
                                {
                                    "Szoba azonosítója": "12",
                                    "Foglalás azonosítója": "951",
                                    "Foglalás időtartama": "3",
                                    "A szoba előző foglalásának időtartama": "3"
                                },
                                {
                                    "Szoba azonosítója": "12",
                                    "Foglalás azonosítója": "775",
                                    "Foglalás időtartama": "4",
                                    "A szoba előző foglalásának időtartama": "3"
                                },
                                {
                                    "Szoba azonosítója": "12",
                                    "Foglalás azonosítója": "1020",
                                    "Foglalás időtartama": "5",
                                    "A szoba előző foglalásának időtartama": "4"
                                },
                                {
                                    "Szoba azonosítója": "12",
                                    "Foglalás azonosítója": "1164",
                                    "Foglalás időtartama": "5",
                                    "A szoba előző foglalásának időtartama": "5"
                                },
                                {
                                    "Szoba azonosítója": "12",
                                    "Foglalás azonosítója": "876",
                                    "Foglalás időtartama": "7",
                                    "A szoba előző foglalásának időtartama": "5"
                                },
                                {
                                    "Szoba azonosítója": "13",
                                    "Foglalás azonosítója": "1469",
                                    "Foglalás időtartama": "2",
                                    "A szoba előző foglalásának időtartama": "0"
                                },
                                {
                                    "Szoba azonosítója": "13",
                                    "Foglalás azonosítója": "1347",
                                    "Foglalás időtartama": "3",
                                    "A szoba előző foglalásának időtartama": "2"
                                },
                                {
                                    "Szoba azonosítója": "13",
                                    "Foglalás azonosítója": "763",
                                    "Foglalás időtartama": "4",
                                    "A szoba előző foglalásának időtartama": "3"
                                },
                                {
                                    "Szoba azonosítója": "13",
                                    "Foglalás azonosítója": "1044",
                                    "Foglalás időtartama": "6",
                                    "A szoba előző foglalásának időtartama": "4"
                                },
                                {
                                    "Szoba azonosítója": "14",
                                    "Foglalás azonosítója": "663",
                                    "Foglalás időtartama": "1",
                                    "A szoba előző foglalásának időtartama": "0"
                                },
                                {
                                    "Szoba azonosítója": "14",
                                    "Foglalás azonosítója": "813",
                                    "Foglalás időtartama": "3",
                                    "A szoba előző foglalásának időtartama": "1"
                                },
                                {
                                    "Szoba azonosítója": "14",
                                    "Foglalás azonosítója": "1542",
                                    "Foglalás időtartama": "4",
                                    "A szoba előző foglalásának időtartama": "3"
                                },
                                {
                                    "Szoba azonosítója": "15",
                                    "Foglalás azonosítója": "1244",
                                    "Foglalás időtartama": "1",
                                    "A szoba előző foglalásának időtartama": "0"
                                },
                                {
                                    "Szoba azonosítója": "15",
                                    "Foglalás azonosítója": "1028",
                                    "Foglalás időtartama": "2",
                                    "A szoba előző foglalásának időtartama": "1"
                                },
                                {
                                    "Szoba azonosítója": "15",
                                    "Foglalás azonosítója": "1442",
                                    "Foglalás időtartama": "3",
                                    "A szoba előző foglalásának időtartama": "2"
                                },
                                {
                                    "Szoba azonosítója": "15",
                                    "Foglalás azonosítója": "1129",
                                    "Foglalás időtartama": "4",
                                    "A szoba előző foglalásának időtartama": "3"
                                },
                                {
                                    "Szoba azonosítója": "15",
                                    "Foglalás azonosítója": "1418",
                                    "Foglalás időtartama": "4",
                                    "A szoba előző foglalásának időtartama": "4"
                                },
                                {
                                    "Szoba azonosítója": "15",
                                    "Foglalás azonosítója": "791",
                                    "Foglalás időtartama": "5",
                                    "A szoba előző foglalásának időtartama": "4"
                                },
                                {
                                    "Szoba azonosítója": "16",
                                    "Foglalás azonosítója": "896",
                                    "Foglalás időtartama": "1",
                                    "A szoba előző foglalásának időtartama": "0"
                                },
                                {
                                    "Szoba azonosítója": "16",
                                    "Foglalás azonosítója": "973",
                                    "Foglalás időtartama": "1",
                                    "A szoba előző foglalásának időtartama": "1"
                                },
                                {
                                    "Szoba azonosítója": "16",
                                    "Foglalás azonosítója": "687",
                                    "Foglalás időtartama": "3",
                                    "A szoba előző foglalásának időtartama": "1"
                                },
                                {
                                    "Szoba azonosítója": "16",
                                    "Foglalás azonosítója": "856",
                                    "Foglalás időtartama": "6",
                                    "A szoba előző foglalásának időtartama": "3"
                                },
                                {
                                    "Szoba azonosítója": "16",
                                    "Foglalás azonosítója": "1498",
                                    "Foglalás időtartama": "7",
                                    "A szoba előző foglalásának időtartama": "6"
                                },
                                {
                                    "Szoba azonosítója": "17",
                                    "Foglalás azonosítója": "744",
                                    "Foglalás időtartama": "1",
                                    "A szoba előző foglalásának időtartama": "0"
                                },
                                {
                                    "Szoba azonosítója": "17",
                                    "Foglalás azonosítója": "916",
                                    "Foglalás időtartama": "2",
                                    "A szoba előző foglalásának időtartama": "1"
                                },
                                {
                                    "Szoba azonosítója": "17",
                                    "Foglalás azonosítója": "1549",
                                    "Foglalás időtartama": "3",
                                    "A szoba előző foglalásának időtartama": "2"
                                },
                                {
                                    "Szoba azonosítója": "17",
                                    "Foglalás azonosítója": "1316",
                                    "Foglalás időtartama": "5",
                                    "A szoba előző foglalásának időtartama": "3"
                                },
                                {
                                    "Szoba azonosítója": "17",
                                    "Foglalás azonosítója": "713",
                                    "Foglalás időtartama": "6",
                                    "A szoba előző foglalásának időtartama": "5"
                                },
                                {
                                    "Szoba azonosítója": "17",
                                    "Foglalás azonosítója": "602",
                                    "Foglalás időtartama": "6",
                                    "A szoba előző foglalásának időtartama": "6"
                                },
                                {
                                    "Szoba azonosítója": "18",
                                    "Foglalás azonosítója": "626",
                                    "Foglalás időtartama": "3",
                                    "A szoba előző foglalásának időtartama": "0"
                                },
                                {
                                    "Szoba azonosítója": "18",
                                    "Foglalás azonosítója": "767",
                                    "Foglalás időtartama": "3",
                                    "A szoba előző foglalásának időtartama": "3"
                                },
                                {
                                    "Szoba azonosítója": "18",
                                    "Foglalás azonosítója": "1198",
                                    "Foglalás időtartama": "4",
                                    "A szoba előző foglalásának időtartama": "3"
                                },
                                {
                                    "Szoba azonosítója": "18",
                                    "Foglalás azonosítója": "1173",
                                    "Foglalás időtartama": "6",
                                    "A szoba előző foglalásának időtartama": "4"
                                },
                                {
                                    "Szoba azonosítója": "18",
                                    "Foglalás azonosítója": "1505",
                                    "Foglalás időtartama": "6",
                                    "A szoba előző foglalásának időtartama": "6"
                                },
                                {
                                    "Szoba azonosítója": "18",
                                    "Foglalás azonosítója": "1035",
                                    "Foglalás időtartama": "6",
                                    "A szoba előző foglalásának időtartama": "6"
                                },
                                {
                                    "Szoba azonosítója": "19",
                                    "Foglalás azonosítója": "778",
                                    "Foglalás időtartama": "1",
                                    "A szoba előző foglalásának időtartama": "0"
                                },
                                {
                                    "Szoba azonosítója": "19",
                                    "Foglalás azonosítója": "696",
                                    "Foglalás időtartama": "1",
                                    "A szoba előző foglalásának időtartama": "1"
                                },
                                {
                                    "Szoba azonosítója": "19",
                                    "Foglalás azonosítója": "1533",
                                    "Foglalás időtartama": "1",
                                    "A szoba előző foglalásának időtartama": "1"
                                },
                                {
                                    "Szoba azonosítója": "19",
                                    "Foglalás azonosítója": "1237",
                                    "Foglalás időtartama": "1",
                                    "A szoba előző foglalásának időtartama": "1"
                                },
                                {
                                    "Szoba azonosítója": "19",
                                    "Foglalás azonosítója": "948",
                                    "Foglalás időtartama": "2",
                                    "A szoba előző foglalásának időtartama": "1"
                                },
                                {
                                    "Szoba azonosítója": "19",
                                    "Foglalás azonosítója": "1139",
                                    "Foglalás időtartama": "7",
                                    "A szoba előző foglalásának időtartama": "2"
                                },
                                {
                                    "Szoba azonosítója": "20",
                                    "Foglalás azonosítója": "1070",
                                    "Foglalás időtartama": "1",
                                    "A szoba előző foglalásának időtartama": "0"
                                },
                                {
                                    "Szoba azonosítója": "20",
                                    "Foglalás azonosítója": "820",
                                    "Foglalás időtartama": "1",
                                    "A szoba előző foglalásának időtartama": "1"
                                },
                                {
                                    "Szoba azonosítója": "20",
                                    "Foglalás azonosítója": "1106",
                                    "Foglalás időtartama": "2",
                                    "A szoba előző foglalásának időtartama": "1"
                                },
                                {
                                    "Szoba azonosítója": "20",
                                    "Foglalás azonosítója": "1114",
                                    "Foglalás időtartama": "5",
                                    "A szoba előző foglalásának időtartama": "2"
                                },
                                {
                                    "Szoba azonosítója": "20",
                                    "Foglalás azonosítója": "755",
                                    "Foglalás időtartama": "6",
                                    "A szoba előző foglalásának időtartama": "5"
                                },
                                {
                                    "Szoba azonosítója": "21",
                                    "Foglalás azonosítója": "805",
                                    "Foglalás időtartama": "1",
                                    "A szoba előző foglalásának időtartama": "0"
                                },
                                {
                                    "Szoba azonosítója": "21",
                                    "Foglalás azonosítója": "660",
                                    "Foglalás időtartama": "5",
                                    "A szoba előző foglalásának időtartama": "1"
                                },
                                {
                                    "Szoba azonosítója": "21",
                                    "Foglalás azonosítója": "566",
                                    "Foglalás időtartama": "6",
                                    "A szoba előző foglalásának időtartama": "5"
                                },
                                {
                                    "Szoba azonosítója": "21",
                                    "Foglalás azonosítója": "1212",
                                    "Foglalás időtartama": "6",
                                    "A szoba előző foglalásának időtartama": "6"
                                },
                                {
                                    "Szoba azonosítója": "22",
                                    "Foglalás azonosítója": "1130",
                                    "Foglalás időtartama": "1",
                                    "A szoba előző foglalásának időtartama": "0"
                                },
                                {
                                    "Szoba azonosítója": "22",
                                    "Foglalás azonosítója": "906",
                                    "Foglalás időtartama": "1",
                                    "A szoba előző foglalásának időtartama": "1"
                                },
                                {
                                    "Szoba azonosítója": "22",
                                    "Foglalás azonosítója": "1005",
                                    "Foglalás időtartama": "3",
                                    "A szoba előző foglalásának időtartama": "1"
                                },
                                {
                                    "Szoba azonosítója": "22",
                                    "Foglalás azonosítója": "1287",
                                    "Foglalás időtartama": "3",
                                    "A szoba előző foglalásának időtartama": "3"
                                },
                                {
                                    "Szoba azonosítója": "22",
                                    "Foglalás azonosítója": "1195",
                                    "Foglalás időtartama": "6",
                                    "A szoba előző foglalásának időtartama": "3"
                                },
                                {
                                    "Szoba azonosítója": "22",
                                    "Foglalás azonosítója": "1206",
                                    "Foglalás időtartama": "7",
                                    "A szoba előző foglalásának időtartama": "6"
                                },
                                {
                                    "Szoba azonosítója": "23",
                                    "Foglalás azonosítója": "848",
                                    "Foglalás időtartama": "1",
                                    "A szoba előző foglalásának időtartama": "0"
                                },
                                {
                                    "Szoba azonosítója": "23",
                                    "Foglalás azonosítója": "934",
                                    "Foglalás időtartama": "1",
                                    "A szoba előző foglalásának időtartama": "1"
                                },
                                {
                                    "Szoba azonosítója": "23",
                                    "Foglalás azonosítója": "945",
                                    "Foglalás időtartama": "7",
                                    "A szoba előző foglalásának időtartama": "1"
                                },
                                {
                                    "Szoba azonosítója": "24",
                                    "Foglalás azonosítója": "1167",
                                    "Foglalás időtartama": "1",
                                    "A szoba előző foglalásának időtartama": "0"
                                },
                                {
                                    "Szoba azonosítója": "24",
                                    "Foglalás azonosítója": "852",
                                    "Foglalás időtartama": "2",
                                    "A szoba előző foglalásának időtartama": "1"
                                },
                                {
                                    "Szoba azonosítója": "24",
                                    "Foglalás azonosítója": "1415",
                                    "Foglalás időtartama": "3",
                                    "A szoba előző foglalásának időtartama": "2"
                                },
                                {
                                    "Szoba azonosítója": "25",
                                    "Foglalás azonosítója": "1362",
                                    "Foglalás időtartama": "2",
                                    "A szoba előző foglalásának időtartama": "0"
                                },
                                {
                                    "Szoba azonosítója": "25",
                                    "Foglalás azonosítója": "1052",
                                    "Foglalás időtartama": "3",
                                    "A szoba előző foglalásának időtartama": "2"
                                },
                                {
                                    "Szoba azonosítója": "26",
                                    "Foglalás azonosítója": "1158",
                                    "Foglalás időtartama": "2",
                                    "A szoba előző foglalásának időtartama": "0"
                                },
                                {
                                    "Szoba azonosítója": "26",
                                    "Foglalás azonosítója": "1388",
                                    "Foglalás időtartama": "3",
                                    "A szoba előző foglalásának időtartama": "2"
                                },
                                {
                                    "Szoba azonosítója": "27",
                                    "Foglalás azonosítója": "1377",
                                    "Foglalás időtartama": "1",
                                    "A szoba előző foglalásának időtartama": "0"
                                },
                                {
                                    "Szoba azonosítója": "27",
                                    "Foglalás azonosítója": "1476",
                                    "Foglalás időtartama": "1",
                                    "A szoba előző foglalásának időtartama": "1"
                                },
                                {
                                    "Szoba azonosítója": "27",
                                    "Foglalás azonosítója": "1031",
                                    "Foglalás időtartama": "2",
                                    "A szoba előző foglalásának időtartama": "1"
                                },
                                {
                                    "Szoba azonosítója": "27",
                                    "Foglalás azonosítója": "807",
                                    "Foglalás időtartama": "2",
                                    "A szoba előző foglalásának időtartama": "2"
                                },
                                {
                                    "Szoba azonosítója": "27",
                                    "Foglalás azonosítója": "758",
                                    "Foglalás időtartama": "3",
                                    "A szoba előző foglalásának időtartama": "2"
                                },
                                {
                                    "Szoba azonosítója": "27",
                                    "Foglalás azonosítója": "1082",
                                    "Foglalás időtartama": "5",
                                    "A szoba előző foglalásának időtartama": "3"
                                },
                                {
                                    "Szoba azonosítója": "27",
                                    "Foglalás azonosítója": "1275",
                                    "Foglalás időtartama": "6",
                                    "A szoba előző foglalásának időtartama": "5"
                                },
                                {
                                    "Szoba azonosítója": "28",
                                    "Foglalás azonosítója": "1459",
                                    "Foglalás időtartama": "2",
                                    "A szoba előző foglalásának időtartama": "0"
                                },
                                {
                                    "Szoba azonosítója": "28",
                                    "Foglalás azonosítója": "901",
                                    "Foglalás időtartama": "4",
                                    "A szoba előző foglalásának időtartama": "2"
                                },
                                {
                                    "Szoba azonosítója": "28",
                                    "Foglalás azonosítója": "886",
                                    "Foglalás időtartama": "4",
                                    "A szoba előző foglalásának időtartama": "4"
                                },
                                {
                                    "Szoba azonosítója": "28",
                                    "Foglalás azonosítója": "872",
                                    "Foglalás időtartama": "5",
                                    "A szoba előző foglalásának időtartama": "4"
                                },
                                {
                                    "Szoba azonosítója": "28",
                                    "Foglalás azonosítója": "725",
                                    "Foglalás időtartama": "5",
                                    "A szoba előző foglalásának időtartama": "5"
                                },
                                {
                                    "Szoba azonosítója": "28",
                                    "Foglalás azonosítója": "1150",
                                    "Foglalás időtartama": "6",
                                    "A szoba előző foglalásának időtartama": "5"
                                },
                                {
                                    "Szoba azonosítója": "29",
                                    "Foglalás azonosítója": "894",
                                    "Foglalás időtartama": "1",
                                    "A szoba előző foglalásának időtartama": "0"
                                },
                                {
                                    "Szoba azonosítója": "29",
                                    "Foglalás azonosítója": "611",
                                    "Foglalás időtartama": "5",
                                    "A szoba előző foglalásának időtartama": "1"
                                },
                                {
                                    "Szoba azonosítója": "29",
                                    "Foglalás azonosítója": "1185",
                                    "Foglalás időtartama": "5",
                                    "A szoba előző foglalásának időtartama": "5"
                                },
                                {
                                    "Szoba azonosítója": "29",
                                    "Foglalás azonosítója": "1235",
                                    "Foglalás időtartama": "7",
                                    "A szoba előző foglalásának időtartama": "5"
                                },
                                {
                                    "Szoba azonosítója": "29",
                                    "Foglalás azonosítója": "1568",
                                    "Foglalás időtartama": "7",
                                    "A szoba előző foglalásának időtartama": "7"
                                },
                                {
                                    "Szoba azonosítója": "29",
                                    "Foglalás azonosítója": "1076",
                                    "Foglalás időtartama": "7",
                                    "A szoba előző foglalásának időtartama": "7"
                                },
                                {
                                    "Szoba azonosítója": "30",
                                    "Foglalás azonosítója": "604",
                                    "Foglalás időtartama": "2",
                                    "A szoba előző foglalásának időtartama": "0"
                                },
                                {
                                    "Szoba azonosítója": "30",
                                    "Foglalás azonosítója": "1136",
                                    "Foglalás időtartama": "5",
                                    "A szoba előző foglalásának időtartama": "2"
                                },
                                {
                                    "Szoba azonosítója": "30",
                                    "Foglalás azonosítója": "1023",
                                    "Foglalás időtartama": "7",
                                    "A szoba előző foglalásának időtartama": "5"
                                },
                                {
                                    "Szoba azonosítója": "31",
                                    "Foglalás azonosítója": "606",
                                    "Foglalás időtartama": "1",
                                    "A szoba előző foglalásának időtartama": "0"
                                },
                                {
                                    "Szoba azonosítója": "31",
                                    "Foglalás azonosítója": "598",
                                    "Foglalás időtartama": "2",
                                    "A szoba előző foglalásának időtartama": "1"
                                },
                                {
                                    "Szoba azonosítója": "31",
                                    "Foglalás azonosítója": "728",
                                    "Foglalás időtartama": "4",
                                    "A szoba előző foglalásának időtartama": "2"
                                },
                                {
                                    "Szoba azonosítója": "32",
                                    "Foglalás azonosítója": "920",
                                    "Foglalás időtartama": "4",
                                    "A szoba előző foglalásának időtartama": "0"
                                },
                                {
                                    "Szoba azonosítója": "33",
                                    "Foglalás azonosítója": "1053",
                                    "Foglalás időtartama": "1",
                                    "A szoba előző foglalásának időtartama": "0"
                                },
                                {
                                    "Szoba azonosítója": "33",
                                    "Foglalás azonosítója": "1321",
                                    "Foglalás időtartama": "4",
                                    "A szoba előző foglalásának időtartama": "1"
                                },
                                {
                                    "Szoba azonosítója": "33",
                                    "Foglalás azonosítója": "1344",
                                    "Foglalás időtartama": "5",
                                    "A szoba előző foglalásának időtartama": "4"
                                },
                                {
                                    "Szoba azonosítója": "33",
                                    "Foglalás azonosítója": "1381",
                                    "Foglalás időtartama": "6",
                                    "A szoba előző foglalásának időtartama": "5"
                                },
                                {
                                    "Szoba azonosítója": "33",
                                    "Foglalás azonosítója": "624",
                                    "Foglalás időtartama": "6",
                                    "A szoba előző foglalásának időtartama": "6"
                                },
                                {
                                    "Szoba azonosítója": "33",
                                    "Foglalás azonosítója": "1012",
                                    "Foglalás időtartama": "7",
                                    "A szoba előző foglalásának időtartama": "6"
                                },
                                {
                                    "Szoba azonosítója": "34",
                                    "Foglalás azonosítója": "821",
                                    "Foglalás időtartama": "1",
                                    "A szoba előző foglalásának időtartama": "0"
                                },
                                {
                                    "Szoba azonosítója": "34",
                                    "Foglalás azonosítója": "904",
                                    "Foglalás időtartama": "2",
                                    "A szoba előző foglalásának időtartama": "1"
                                },
                                {
                                    "Szoba azonosítója": "34",
                                    "Foglalás azonosítója": "777",
                                    "Foglalás időtartama": "3",
                                    "A szoba előző foglalásának időtartama": "2"
                                },
                                {
                                    "Szoba azonosítója": "34",
                                    "Foglalás azonosítója": "870",
                                    "Foglalás időtartama": "6",
                                    "A szoba előző foglalásának időtartama": "3"
                                },
                                {
                                    "Szoba azonosítója": "35",
                                    "Foglalás azonosítója": "1411",
                                    "Foglalás időtartama": "1",
                                    "A szoba előző foglalásának időtartama": "0"
                                },
                                {
                                    "Szoba azonosítója": "35",
                                    "Foglalás azonosítója": "1436",
                                    "Foglalás időtartama": "1",
                                    "A szoba előző foglalásának időtartama": "1"
                                },
                                {
                                    "Szoba azonosítója": "35",
                                    "Foglalás azonosítója": "829",
                                    "Foglalás időtartama": "2",
                                    "A szoba előző foglalásának időtartama": "1"
                                },
                                {
                                    "Szoba azonosítója": "35",
                                    "Foglalás azonosítója": "707",
                                    "Foglalás időtartama": "2",
                                    "A szoba előző foglalásának időtartama": "2"
                                },
                                {
                                    "Szoba azonosítója": "35",
                                    "Foglalás azonosítója": "971",
                                    "Foglalás időtartama": "3",
                                    "A szoba előző foglalásának időtartama": "2"
                                },
                                {
                                    "Szoba azonosítója": "35",
                                    "Foglalás azonosítója": "1529",
                                    "Foglalás időtartama": "4",
                                    "A szoba előző foglalásának időtartama": "3"
                                },
                                {
                                    "Szoba azonosítója": "35",
                                    "Foglalás azonosítója": "686",
                                    "Foglalás időtartama": "6",
                                    "A szoba előző foglalásának időtartama": "4"
                                },
                                {
                                    "Szoba azonosítója": "35",
                                    "Foglalás azonosítója": "979",
                                    "Foglalás időtartama": "7",
                                    "A szoba előző foglalásának időtartama": "6"
                                },
                                {
                                    "Szoba azonosítója": "35",
                                    "Foglalás azonosítója": "1480",
                                    "Foglalás időtartama": "37",
                                    "A szoba előző foglalásának időtartama": "7"
                                },
                                {
                                    "Szoba azonosítója": "36",
                                    "Foglalás azonosítója": "919",
                                    "Foglalás időtartama": "1",
                                    "A szoba előző foglalásának időtartama": "0"
                                },
                                {
                                    "Szoba azonosítója": "36",
                                    "Foglalás azonosítója": "748",
                                    "Foglalás időtartama": "2",
                                    "A szoba előző foglalásának időtartama": "1"
                                },
                                {
                                    "Szoba azonosítója": "36",
                                    "Foglalás azonosítója": "1003",
                                    "Foglalás időtartama": "4",
                                    "A szoba előző foglalásának időtartama": "2"
                                },
                                {
                                    "Szoba azonosítója": "36",
                                    "Foglalás azonosítója": "895",
                                    "Foglalás időtartama": "5",
                                    "A szoba előző foglalásának időtartama": "4"
                                },
                                {
                                    "Szoba azonosítója": "36",
                                    "Foglalás azonosítója": "985",
                                    "Foglalás időtartama": "6",
                                    "A szoba előző foglalásának időtartama": "5"
                                },
                                {
                                    "Szoba azonosítója": "36",
                                    "Foglalás azonosítója": "750",
                                    "Foglalás időtartama": "6",
                                    "A szoba előző foglalásának időtartama": "6"
                                },
                                {
                                    "Szoba azonosítója": "37",
                                    "Foglalás azonosítója": "688",
                                    "Foglalás időtartama": "2",
                                    "A szoba előző foglalásának időtartama": "0"
                                },
                                {
                                    "Szoba azonosítója": "37",
                                    "Foglalás azonosítója": "705",
                                    "Foglalás időtartama": "4",
                                    "A szoba előző foglalásának időtartama": "2"
                                },
                                {
                                    "Szoba azonosítója": "37",
                                    "Foglalás azonosítója": "1335",
                                    "Foglalás időtartama": "7",
                                    "A szoba előző foglalásának időtartama": "4"
                                },
                                {
                                    "Szoba azonosítója": "38",
                                    "Foglalás azonosítója": "1033",
                                    "Foglalás időtartama": "2",
                                    "A szoba előző foglalásának időtartama": "0"
                                },
                                {
                                    "Szoba azonosítója": "38",
                                    "Foglalás azonosítója": "1060",
                                    "Foglalás időtartama": "2",
                                    "A szoba előző foglalásának időtartama": "2"
                                },
                                {
                                    "Szoba azonosítója": "38",
                                    "Foglalás azonosítója": "1351",
                                    "Foglalás időtartama": "4",
                                    "A szoba előző foglalásának időtartama": "2"
                                },
                                {
                                    "Szoba azonosítója": "38",
                                    "Foglalás azonosítója": "1478",
                                    "Foglalás időtartama": "4",
                                    "A szoba előző foglalásának időtartama": "4"
                                },
                                {
                                    "Szoba azonosítója": "38",
                                    "Foglalás azonosítója": "1416",
                                    "Foglalás időtartama": "5",
                                    "A szoba előző foglalásának időtartama": "4"
                                },
                                {
                                    "Szoba azonosítója": "38",
                                    "Foglalás azonosítója": "1556",
                                    "Foglalás időtartama": "6",
                                    "A szoba előző foglalásának időtartama": "5"
                                },
                                {
                                    "Szoba azonosítója": "38",
                                    "Foglalás azonosítója": "627",
                                    "Foglalás időtartama": "6",
                                    "A szoba előző foglalásának időtartama": "6"
                                },
                                {
                                    "Szoba azonosítója": "38",
                                    "Foglalás azonosítója": "1078",
                                    "Foglalás időtartama": "7",
                                    "A szoba előző foglalásának időtartama": "6"
                                },
                                {
                                    "Szoba azonosítója": "39",
                                    "Foglalás azonosítója": "1454",
                                    "Foglalás időtartama": "1",
                                    "A szoba előző foglalásának időtartama": "0"
                                },
                                {
                                    "Szoba azonosítója": "39",
                                    "Foglalás azonosítója": "1538",
                                    "Foglalás időtartama": "2",
                                    "A szoba előző foglalásának időtartama": "1"
                                },
                                {
                                    "Szoba azonosítója": "39",
                                    "Foglalás azonosítója": "1380",
                                    "Foglalás időtartama": "5",
                                    "A szoba előző foglalásának időtartama": "2"
                                },
                                {
                                    "Szoba azonosítója": "39",
                                    "Foglalás azonosítója": "1214",
                                    "Foglalás időtartama": "5",
                                    "A szoba előző foglalásának időtartama": "5"
                                },
                                {
                                    "Szoba azonosítója": "39",
                                    "Foglalás azonosítója": "899",
                                    "Foglalás időtartama": "6",
                                    "A szoba előző foglalásának időtartama": "5"
                                },
                                {
                                    "Szoba azonosítója": "39",
                                    "Foglalás azonosítója": "601",
                                    "Foglalás időtartama": "6",
                                    "A szoba előző foglalásának időtartama": "6"
                                },
                                {
                                    "Szoba azonosítója": "39",
                                    "Foglalás azonosítója": "1435",
                                    "Foglalás időtartama": "7",
                                    "A szoba előző foglalásának időtartama": "6"
                                },
                                {
                                    "Szoba azonosítója": "40",
                                    "Foglalás azonosítója": "924",
                                    "Foglalás időtartama": "5",
                                    "A szoba előző foglalásának időtartama": "0"
                                },
                                {
                                    "Szoba azonosítója": "40",
                                    "Foglalás azonosítója": "1118",
                                    "Foglalás időtartama": "5",
                                    "A szoba előző foglalásának időtartama": "5"
                                },
                                {
                                    "Szoba azonosítója": "40",
                                    "Foglalás azonosítója": "1018",
                                    "Foglalás időtartama": "5",
                                    "A szoba előző foglalásának időtartama": "5"
                                },
                                {
                                    "Szoba azonosítója": "40",
                                    "Foglalás azonosítója": "932",
                                    "Foglalás időtartama": "6",
                                    "A szoba előző foglalásának időtartama": "5"
                                },
                                {
                                    "Szoba azonosítója": "41",
                                    "Foglalás azonosítója": "1144",
                                    "Foglalás időtartama": "1",
                                    "A szoba előző foglalásának időtartama": "0"
                                },
                                {
                                    "Szoba azonosítója": "41",
                                    "Foglalás azonosítója": "960",
                                    "Foglalás időtartama": "6",
                                    "A szoba előző foglalásának időtartama": "1"
                                },
                                {
                                    "Szoba azonosítója": "42",
                                    "Foglalás azonosítója": "1309",
                                    "Foglalás időtartama": "2",
                                    "A szoba előző foglalásának időtartama": "0"
                                },
                                {
                                    "Szoba azonosítója": "42",
                                    "Foglalás azonosítója": "770",
                                    "Foglalás időtartama": "3",
                                    "A szoba előző foglalásának időtartama": "2"
                                },
                                {
                                    "Szoba azonosítója": "42",
                                    "Foglalás azonosítója": "561",
                                    "Foglalás időtartama": "4",
                                    "A szoba előző foglalásának időtartama": "3"
                                },
                                {
                                    "Szoba azonosítója": "42",
                                    "Foglalás azonosítója": "590",
                                    "Foglalás időtartama": "5",
                                    "A szoba előző foglalásának időtartama": "4"
                                },
                                {
                                    "Szoba azonosítója": "42",
                                    "Foglalás azonosítója": "1444",
                                    "Foglalás időtartama": "6",
                                    "A szoba előző foglalásának időtartama": "5"
                                },
                                {
                                    "Szoba azonosítója": "42",
                                    "Foglalás azonosítója": "851",
                                    "Foglalás időtartama": "7",
                                    "A szoba előző foglalásának időtartama": "6"
                                },
                                {
                                    "Szoba azonosítója": "43",
                                    "Foglalás azonosítója": "1524",
                                    "Foglalás időtartama": "1",
                                    "A szoba előző foglalásának időtartama": "0"
                                },
                                {
                                    "Szoba azonosítója": "43",
                                    "Foglalás azonosítója": "1207",
                                    "Foglalás időtartama": "1",
                                    "A szoba előző foglalásának időtartama": "1"
                                },
                                {
                                    "Szoba azonosítója": "43",
                                    "Foglalás azonosítója": "1088",
                                    "Foglalás időtartama": "2",
                                    "A szoba előző foglalásának időtartama": "1"
                                },
                                {
                                    "Szoba azonosítója": "43",
                                    "Foglalás azonosítója": "1019",
                                    "Foglalás időtartama": "4",
                                    "A szoba előző foglalásának időtartama": "2"
                                },
                                {
                                    "Szoba azonosítója": "43",
                                    "Foglalás azonosítója": "670",
                                    "Foglalás időtartama": "4",
                                    "A szoba előző foglalásának időtartama": "4"
                                },
                                {
                                    "Szoba azonosítója": "43",
                                    "Foglalás azonosítója": "1270",
                                    "Foglalás időtartama": "4",
                                    "A szoba előző foglalásának időtartama": "4"
                                },
                                {
                                    "Szoba azonosítója": "43",
                                    "Foglalás azonosítója": "1227",
                                    "Foglalás időtartama": "5",
                                    "A szoba előző foglalásának időtartama": "4"
                                },
                                {
                                    "Szoba azonosítója": "43",
                                    "Foglalás azonosítója": "1553",
                                    "Foglalás időtartama": "5",
                                    "A szoba előző foglalásának időtartama": "5"
                                },
                                {
                                    "Szoba azonosítója": "44",
                                    "Foglalás azonosítója": "1552",
                                    "Foglalás időtartama": "2",
                                    "A szoba előző foglalásának időtartama": "0"
                                },
                                {
                                    "Szoba azonosítója": "44",
                                    "Foglalás azonosítója": "1425",
                                    "Foglalás időtartama": "2",
                                    "A szoba előző foglalásának időtartama": "2"
                                },
                                {
                                    "Szoba azonosítója": "44",
                                    "Foglalás azonosítója": "1295",
                                    "Foglalás időtartama": "2",
                                    "A szoba előző foglalásának időtartama": "2"
                                },
                                {
                                    "Szoba azonosítója": "44",
                                    "Foglalás azonosítója": "589",
                                    "Foglalás időtartama": "2",
                                    "A szoba előző foglalásának időtartama": "2"
                                },
                                {
                                    "Szoba azonosítója": "44",
                                    "Foglalás azonosítója": "823",
                                    "Foglalás időtartama": "2",
                                    "A szoba előző foglalásának időtartama": "2"
                                },
                                {
                                    "Szoba azonosítója": "44",
                                    "Foglalás azonosítója": "658",
                                    "Foglalás időtartama": "6",
                                    "A szoba előző foglalásának időtartama": "2"
                                },
                                {
                                    "Szoba azonosítója": "45",
                                    "Foglalás azonosítója": "1303",
                                    "Foglalás időtartama": "2",
                                    "A szoba előző foglalásának időtartama": "0"
                                },
                                {
                                    "Szoba azonosítója": "45",
                                    "Foglalás azonosítója": "1135",
                                    "Foglalás időtartama": "3",
                                    "A szoba előző foglalásának időtartama": "2"
                                },
                                {
                                    "Szoba azonosítója": "45",
                                    "Foglalás azonosítója": "846",
                                    "Foglalás időtartama": "3",
                                    "A szoba előző foglalásának időtartama": "3"
                                },
                                {
                                    "Szoba azonosítója": "45",
                                    "Foglalás azonosítója": "800",
                                    "Foglalás időtartama": "5",
                                    "A szoba előző foglalásának időtartama": "3"
                                },
                                {
                                    "Szoba azonosítója": "45",
                                    "Foglalás azonosítója": "802",
                                    "Foglalás időtartama": "7",
                                    "A szoba előző foglalásának időtartama": "5"
                                },
                                {
                                    "Szoba azonosítója": "46",
                                    "Foglalás azonosítója": "1291",
                                    "Foglalás időtartama": "3",
                                    "A szoba előző foglalásának időtartama": "0"
                                },
                                {
                                    "Szoba azonosítója": "46",
                                    "Foglalás azonosítója": "1515",
                                    "Foglalás időtartama": "4",
                                    "A szoba előző foglalásának időtartama": "3"
                                },
                                {
                                    "Szoba azonosítója": "46",
                                    "Foglalás azonosítója": "752",
                                    "Foglalás időtartama": "5",
                                    "A szoba előző foglalásának időtartama": "4"
                                },
                                {
                                    "Szoba azonosítója": "46",
                                    "Foglalás azonosítója": "1187",
                                    "Foglalás időtartama": "7",
                                    "A szoba előző foglalásának időtartama": "5"
                                },
                                {
                                    "Szoba azonosítója": "47",
                                    "Foglalás azonosítója": "955",
                                    "Foglalás időtartama": "1",
                                    "A szoba előző foglalásának időtartama": "0"
                                },
                                {
                                    "Szoba azonosítója": "47",
                                    "Foglalás azonosítója": "1056",
                                    "Foglalás időtartama": "7",
                                    "A szoba előző foglalásának időtartama": "1"
                                },
                                {
                                    "Szoba azonosítója": "48",
                                    "Foglalás azonosítója": "1547",
                                    "Foglalás időtartama": "1",
                                    "A szoba előző foglalásának időtartama": "0"
                                },
                                {
                                    "Szoba azonosítója": "48",
                                    "Foglalás azonosítója": "824",
                                    "Foglalás időtartama": "2",
                                    "A szoba előző foglalásának időtartama": "1"
                                },
                                {
                                    "Szoba azonosítója": "48",
                                    "Foglalás azonosítója": "628",
                                    "Foglalás időtartama": "2",
                                    "A szoba előző foglalásának időtartama": "2"
                                },
                                {
                                    "Szoba azonosítója": "48",
                                    "Foglalás azonosítója": "603",
                                    "Foglalás időtartama": "3",
                                    "A szoba előző foglalásának időtartama": "2"
                                },
                                {
                                    "Szoba azonosítója": "48",
                                    "Foglalás azonosítója": "1546",
                                    "Foglalás időtartama": "3",
                                    "A szoba előző foglalásának időtartama": "3"
                                },
                                {
                                    "Szoba azonosítója": "48",
                                    "Foglalás azonosítója": "1581",
                                    "Foglalás időtartama": "5",
                                    "A szoba előző foglalásának időtartama": "3"
                                },
                                {
                                    "Szoba azonosítója": "48",
                                    "Foglalás azonosítója": "986",
                                    "Foglalás időtartama": "5",
                                    "A szoba előző foglalásának időtartama": "5"
                                },
                                {
                                    "Szoba azonosítója": "48",
                                    "Foglalás azonosítója": "914",
                                    "Foglalás időtartama": "5",
                                    "A szoba előző foglalásának időtartama": "5"
                                },
                                {
                                    "Szoba azonosítója": "48",
                                    "Foglalás azonosítója": "1243",
                                    "Foglalás időtartama": "6",
                                    "A szoba előző foglalásának időtartama": "5"
                                },
                                {
                                    "Szoba azonosítója": "49",
                                    "Foglalás azonosítója": "1221",
                                    "Foglalás időtartama": "2",
                                    "A szoba előző foglalásának időtartama": "0"
                                },
                                {
                                    "Szoba azonosítója": "49",
                                    "Foglalás azonosítója": "826",
                                    "Foglalás időtartama": "4",
                                    "A szoba előző foglalásának időtartama": "2"
                                },
                                {
                                    "Szoba azonosítója": "49",
                                    "Foglalás azonosítója": "793",
                                    "Foglalás időtartama": "6",
                                    "A szoba előző foglalásának időtartama": "4"
                                },
                                {
                                    "Szoba azonosítója": "49",
                                    "Foglalás azonosítója": "1536",
                                    "Foglalás időtartama": "6",
                                    "A szoba előző foglalásának időtartama": "6"
                                },
                                {
                                    "Szoba azonosítója": "49",
                                    "Foglalás azonosítója": "1200",
                                    "Foglalás időtartama": "7",
                                    "A szoba előző foglalásának időtartama": "6"
                                },
                                {
                                    "Szoba azonosítója": "49",
                                    "Foglalás azonosítója": "888",
                                    "Foglalás időtartama": "7",
                                    "A szoba előző foglalásának időtartama": "7"
                                },
                                {
                                    "Szoba azonosítója": "49",
                                    "Foglalás azonosítója": "1066",
                                    "Foglalás időtartama": "7",
                                    "A szoba előző foglalásának időtartama": "7"
                                },
                                {
                                    "Szoba azonosítója": "50",
                                    "Foglalás azonosítója": "1224",
                                    "Foglalás időtartama": "1",
                                    "A szoba előző foglalásának időtartama": "0"
                                },
                                {
                                    "Szoba azonosítója": "50",
                                    "Foglalás azonosítója": "1272",
                                    "Foglalás időtartama": "1",
                                    "A szoba előző foglalásának időtartama": "1"
                                },
                                {
                                    "Szoba azonosítója": "50",
                                    "Foglalás azonosítója": "1063",
                                    "Foglalás időtartama": "2",
                                    "A szoba előző foglalásának időtartama": "1"
                                },
                                {
                                    "Szoba azonosítója": "50",
                                    "Foglalás azonosítója": "787",
                                    "Foglalás időtartama": "3",
                                    "A szoba előző foglalásának időtartama": "2"
                                },
                                {
                                    "Szoba azonosítója": "51",
                                    "Foglalás azonosítója": "1550",
                                    "Foglalás időtartama": "1",
                                    "A szoba előző foglalásának időtartama": "0"
                                },
                                {
                                    "Szoba azonosítója": "51",
                                    "Foglalás azonosítója": "811",
                                    "Foglalás időtartama": "2",
                                    "A szoba előző foglalásának időtartama": "1"
                                },
                                {
                                    "Szoba azonosítója": "51",
                                    "Foglalás azonosítója": "1165",
                                    "Foglalás időtartama": "5",
                                    "A szoba előző foglalásának időtartama": "2"
                                },
                                {
                                    "Szoba azonosítója": "51",
                                    "Foglalás azonosítója": "1477",
                                    "Foglalás időtartama": "6",
                                    "A szoba előző foglalásának időtartama": "5"
                                },
                                {
                                    "Szoba azonosítója": "51",
                                    "Foglalás azonosítója": "865",
                                    "Foglalás időtartama": "7",
                                    "A szoba előző foglalásának időtartama": "6"
                                },
                                {
                                    "Szoba azonosítója": "52",
                                    "Foglalás azonosítója": "1202",
                                    "Foglalás időtartama": "2",
                                    "A szoba előző foglalásának időtartama": "0"
                                },
                                {
                                    "Szoba azonosítója": "52",
                                    "Foglalás azonosítója": "1258",
                                    "Foglalás időtartama": "5",
                                    "A szoba előző foglalásának időtartama": "2"
                                },
                                {
                                    "Szoba azonosítója": "52",
                                    "Foglalás azonosítója": "1431",
                                    "Foglalás időtartama": "5",
                                    "A szoba előző foglalásának időtartama": "5"
                                },
                                {
                                    "Szoba azonosítója": "52",
                                    "Foglalás azonosítója": "1534",
                                    "Foglalás időtartama": "5",
                                    "A szoba előző foglalásának időtartama": "5"
                                },
                                {
                                    "Szoba azonosítója": "52",
                                    "Foglalás azonosítója": "822",
                                    "Foglalás időtartama": "7",
                                    "A szoba előző foglalásának időtartama": "5"
                                },
                                {
                                    "Szoba azonosítója": "53",
                                    "Foglalás azonosítója": "855",
                                    "Foglalás időtartama": "1",
                                    "A szoba előző foglalásának időtartama": "0"
                                },
                                {
                                    "Szoba azonosítója": "53",
                                    "Foglalás azonosítója": "987",
                                    "Foglalás időtartama": "4",
                                    "A szoba előző foglalásának időtartama": "1"
                                },
                                {
                                    "Szoba azonosítója": "54",
                                    "Foglalás azonosítója": "668",
                                    "Foglalás időtartama": "1",
                                    "A szoba előző foglalásának időtartama": "0"
                                },
                                {
                                    "Szoba azonosítója": "54",
                                    "Foglalás azonosítója": "889",
                                    "Foglalás időtartama": "2",
                                    "A szoba előző foglalásának időtartama": "1"
                                },
                                {
                                    "Szoba azonosítója": "54",
                                    "Foglalás azonosítója": "1096",
                                    "Foglalás időtartama": "4",
                                    "A szoba előző foglalásának időtartama": "2"
                                },
                                {
                                    "Szoba azonosítója": "54",
                                    "Foglalás azonosítója": "1328",
                                    "Foglalás időtartama": "4",
                                    "A szoba előző foglalásának időtartama": "4"
                                },
                                {
                                    "Szoba azonosítója": "54",
                                    "Foglalás azonosítója": "642",
                                    "Foglalás időtartama": "5",
                                    "A szoba előző foglalásának időtartama": "4"
                                },
                                {
                                    "Szoba azonosítója": "54",
                                    "Foglalás azonosítója": "622",
                                    "Foglalás időtartama": "7",
                                    "A szoba előző foglalásának időtartama": "5"
                                },
                                {
                                    "Szoba azonosítója": "55",
                                    "Foglalás azonosítója": "1512",
                                    "Foglalás időtartama": "1",
                                    "A szoba előző foglalásának időtartama": "0"
                                },
                                {
                                    "Szoba azonosítója": "55",
                                    "Foglalás azonosítója": "1520",
                                    "Foglalás időtartama": "1",
                                    "A szoba előző foglalásának időtartama": "1"
                                },
                                {
                                    "Szoba azonosítója": "55",
                                    "Foglalás azonosítója": "1386",
                                    "Foglalás időtartama": "2",
                                    "A szoba előző foglalásának időtartama": "1"
                                },
                                {
                                    "Szoba azonosítója": "55",
                                    "Foglalás azonosítója": "1163",
                                    "Foglalás időtartama": "2",
                                    "A szoba előző foglalásának időtartama": "2"
                                },
                                {
                                    "Szoba azonosítója": "55",
                                    "Foglalás azonosítója": "1086",
                                    "Foglalás időtartama": "5",
                                    "A szoba előző foglalásának időtartama": "2"
                                },
                                {
                                    "Szoba azonosítója": "55",
                                    "Foglalás azonosítója": "734",
                                    "Foglalás időtartama": "6",
                                    "A szoba előző foglalásának időtartama": "5"
                                },
                                {
                                    "Szoba azonosítója": "55",
                                    "Foglalás azonosítója": "1327",
                                    "Foglalás időtartama": "6",
                                    "A szoba előző foglalásának időtartama": "6"
                                },
                                {
                                    "Szoba azonosítója": "55",
                                    "Foglalás azonosítója": "1232",
                                    "Foglalás időtartama": "7",
                                    "A szoba előző foglalásának időtartama": "6"
                                },
                                {
                                    "Szoba azonosítója": "56",
                                    "Foglalás azonosítója": "838",
                                    "Foglalás időtartama": "2",
                                    "A szoba előző foglalásának időtartama": "0"
                                },
                                {
                                    "Szoba azonosítója": "56",
                                    "Foglalás azonosítója": "935",
                                    "Foglalás időtartama": "4",
                                    "A szoba előző foglalásának időtartama": "2"
                                },
                                {
                                    "Szoba azonosítója": "57",
                                    "Foglalás azonosítója": "1389",
                                    "Foglalás időtartama": "1",
                                    "A szoba előző foglalásának időtartama": "0"
                                },
                                {
                                    "Szoba azonosítója": "57",
                                    "Foglalás azonosítója": "1348",
                                    "Foglalás időtartama": "1",
                                    "A szoba előző foglalásának időtartama": "1"
                                },
                                {
                                    "Szoba azonosítója": "57",
                                    "Foglalás azonosítója": "1504",
                                    "Foglalás időtartama": "4",
                                    "A szoba előző foglalásának időtartama": "1"
                                },
                                {
                                    "Szoba azonosítója": "57",
                                    "Foglalás azonosítója": "1466",
                                    "Foglalás időtartama": "7",
                                    "A szoba előző foglalásának időtartama": "4"
                                },
                                {
                                    "Szoba azonosítója": "58",
                                    "Foglalás azonosítója": "773",
                                    "Foglalás időtartama": "2",
                                    "A szoba előző foglalásának időtartama": "0"
                                },
                                {
                                    "Szoba azonosítója": "58",
                                    "Foglalás azonosítója": "719",
                                    "Foglalás időtartama": "3",
                                    "A szoba előző foglalásának időtartama": "2"
                                },
                                {
                                    "Szoba azonosítója": "58",
                                    "Foglalás azonosítója": "1113",
                                    "Foglalás időtartama": "3",
                                    "A szoba előző foglalásának időtartama": "3"
                                },
                                {
                                    "Szoba azonosítója": "58",
                                    "Foglalás azonosítója": "1322",
                                    "Foglalás időtartama": "3",
                                    "A szoba előző foglalásának időtartama": "3"
                                },
                                {
                                    "Szoba azonosítója": "58",
                                    "Foglalás azonosítója": "1293",
                                    "Foglalás időtartama": "3",
                                    "A szoba előző foglalásának időtartama": "3"
                                },
                                {
                                    "Szoba azonosítója": "58",
                                    "Foglalás azonosítója": "883",
                                    "Foglalás időtartama": "5",
                                    "A szoba előző foglalásának időtartama": "3"
                                },
                                {
                                    "Szoba azonosítója": "58",
                                    "Foglalás azonosítója": "1307",
                                    "Foglalás időtartama": "6",
                                    "A szoba előző foglalásának időtartama": "5"
                                },
                                {
                                    "Szoba azonosítója": "58",
                                    "Foglalás azonosítója": "1208",
                                    "Foglalás időtartama": "6",
                                    "A szoba előző foglalásának időtartama": "6"
                                },
                                {
                                    "Szoba azonosítója": "58",
                                    "Foglalás azonosítója": "1261",
                                    "Foglalás időtartama": "6",
                                    "A szoba előző foglalásának időtartama": "6"
                                },
                                {
                                    "Szoba azonosítója": "58",
                                    "Foglalás azonosítója": "1186",
                                    "Foglalás időtartama": "6",
                                    "A szoba előző foglalásának időtartama": "6"
                                },
                                {
                                    "Szoba azonosítója": "58",
                                    "Foglalás azonosítója": "1451",
                                    "Foglalás időtartama": "6",
                                    "A szoba előző foglalásának időtartama": "6"
                                },
                                {
                                    "Szoba azonosítója": "58",
                                    "Foglalás azonosítója": "1255",
                                    "Foglalás időtartama": "7",
                                    "A szoba előző foglalásának időtartama": "6"
                                },
                                {
                                    "Szoba azonosítója": "58",
                                    "Foglalás azonosítója": "1285",
                                    "Foglalás időtartama": "7",
                                    "A szoba előző foglalásának időtartama": "7"
                                },
                                {
                                    "Szoba azonosítója": "59",
                                    "Foglalás azonosítója": "1573",
                                    "Foglalás időtartama": "1",
                                    "A szoba előző foglalásának időtartama": "0"
                                },
                                {
                                    "Szoba azonosítója": "59",
                                    "Foglalás azonosítója": "1080",
                                    "Foglalás időtartama": "1",
                                    "A szoba előző foglalásának időtartama": "1"
                                },
                                {
                                    "Szoba azonosítója": "59",
                                    "Foglalás azonosítója": "1084",
                                    "Foglalás időtartama": "2",
                                    "A szoba előző foglalásának időtartama": "1"
                                },
                                {
                                    "Szoba azonosítója": "59",
                                    "Foglalás azonosítója": "1239",
                                    "Foglalás időtartama": "2",
                                    "A szoba előző foglalásának időtartama": "2"
                                },
                                {
                                    "Szoba azonosítója": "59",
                                    "Foglalás azonosítója": "1288",
                                    "Foglalás időtartama": "3",
                                    "A szoba előző foglalásának időtartama": "2"
                                },
                                {
                                    "Szoba azonosítója": "59",
                                    "Foglalás azonosítója": "1170",
                                    "Foglalás időtartama": "5",
                                    "A szoba előző foglalásának időtartama": "3"
                                },
                                {
                                    "Szoba azonosítója": "59",
                                    "Foglalás azonosítója": "1191",
                                    "Foglalás időtartama": "6",
                                    "A szoba előző foglalásának időtartama": "5"
                                },
                                {
                                    "Szoba azonosítója": "60",
                                    "Foglalás azonosítója": "676",
                                    "Foglalás időtartama": "2",
                                    "A szoba előző foglalásának időtartama": "0"
                                },
                                {
                                    "Szoba azonosítója": "61",
                                    "Foglalás azonosítója": "701",
                                    "Foglalás időtartama": "2",
                                    "A szoba előző foglalásának időtartama": "0"
                                },
                                {
                                    "Szoba azonosítója": "61",
                                    "Foglalás azonosítója": "1218",
                                    "Foglalás időtartama": "2",
                                    "A szoba előző foglalásának időtartama": "2"
                                },
                                {
                                    "Szoba azonosítója": "61",
                                    "Foglalás azonosítója": "1148",
                                    "Foglalás időtartama": "3",
                                    "A szoba előző foglalásának időtartama": "2"
                                },
                                {
                                    "Szoba azonosítója": "61",
                                    "Foglalás azonosítója": "756",
                                    "Foglalás időtartama": "6",
                                    "A szoba előző foglalásának időtartama": "3"
                                },
                                {
                                    "Szoba azonosítója": "61",
                                    "Foglalás azonosítója": "1496",
                                    "Foglalás időtartama": "7",
                                    "A szoba előző foglalásának időtartama": "6"
                                },
                                {
                                    "Szoba azonosítója": "62",
                                    "Foglalás azonosítója": "938",
                                    "Foglalás időtartama": "1",
                                    "A szoba előző foglalásának időtartama": "0"
                                },
                                {
                                    "Szoba azonosítója": "62",
                                    "Foglalás azonosítója": "936",
                                    "Foglalás időtartama": "3",
                                    "A szoba előző foglalásának időtartama": "1"
                                },
                                {
                                    "Szoba azonosítója": "62",
                                    "Foglalás azonosítója": "1426",
                                    "Foglalás időtartama": "4",
                                    "A szoba előző foglalásának időtartama": "3"
                                },
                                {
                                    "Szoba azonosítója": "62",
                                    "Foglalás azonosítója": "702",
                                    "Foglalás időtartama": "5",
                                    "A szoba előző foglalásának időtartama": "4"
                                },
                                {
                                    "Szoba azonosítója": "62",
                                    "Foglalás azonosítója": "1081",
                                    "Foglalás időtartama": "7",
                                    "A szoba előző foglalásának időtartama": "5"
                                },
                                {
                                    "Szoba azonosítója": "63",
                                    "Foglalás azonosítója": "845",
                                    "Foglalás időtartama": "1",
                                    "A szoba előző foglalásának időtartama": "0"
                                },
                                {
                                    "Szoba azonosítója": "63",
                                    "Foglalás azonosítója": "625",
                                    "Foglalás időtartama": "3",
                                    "A szoba előző foglalásának időtartama": "1"
                                },
                                {
                                    "Szoba azonosítója": "63",
                                    "Foglalás azonosítója": "769",
                                    "Foglalás időtartama": "5",
                                    "A szoba előző foglalásának időtartama": "3"
                                },
                                {
                                    "Szoba azonosítója": "63",
                                    "Foglalás azonosítója": "891",
                                    "Foglalás időtartama": "6",
                                    "A szoba előző foglalásának időtartama": "5"
                                },
                                {
                                    "Szoba azonosítója": "64",
                                    "Foglalás azonosítója": "1582",
                                    "Foglalás időtartama": "1",
                                    "A szoba előző foglalásának időtartama": "0"
                                },
                                {
                                    "Szoba azonosítója": "64",
                                    "Foglalás azonosítója": "875",
                                    "Foglalás időtartama": "2",
                                    "A szoba előző foglalásának időtartama": "1"
                                },
                                {
                                    "Szoba azonosítója": "64",
                                    "Foglalás azonosítója": "1122",
                                    "Foglalás időtartama": "4",
                                    "A szoba előző foglalásának időtartama": "2"
                                },
                                {
                                    "Szoba azonosítója": "64",
                                    "Foglalás azonosítója": "1465",
                                    "Foglalás időtartama": "4",
                                    "A szoba előző foglalásának időtartama": "4"
                                },
                                {
                                    "Szoba azonosítója": "64",
                                    "Foglalás azonosítója": "1446",
                                    "Foglalás időtartama": "6",
                                    "A szoba előző foglalásának időtartama": "4"
                                },
                                {
                                    "Szoba azonosítója": "64",
                                    "Foglalás azonosítója": "1233",
                                    "Foglalás időtartama": "7",
                                    "A szoba előző foglalásának időtartama": "6"
                                },
                                {
                                    "Szoba azonosítója": "65",
                                    "Foglalás azonosítója": "650",
                                    "Foglalás időtartama": "6",
                                    "A szoba előző foglalásának időtartama": "0"
                                },
                                {
                                    "Szoba azonosítója": "66",
                                    "Foglalás azonosítója": "736",
                                    "Foglalás időtartama": "3",
                                    "A szoba előző foglalásának időtartama": "0"
                                },
                                {
                                    "Szoba azonosítója": "66",
                                    "Foglalás azonosítója": "950",
                                    "Foglalás időtartama": "3",
                                    "A szoba előző foglalásának időtartama": "3"
                                },
                                {
                                    "Szoba azonosítója": "66",
                                    "Foglalás azonosítója": "1234",
                                    "Foglalás időtartama": "3",
                                    "A szoba előző foglalásának időtartama": "3"
                                },
                                {
                                    "Szoba azonosítója": "66",
                                    "Foglalás azonosítója": "1264",
                                    "Foglalás időtartama": "4",
                                    "A szoba előző foglalásának időtartama": "3"
                                },
                                {
                                    "Szoba azonosítója": "67",
                                    "Foglalás azonosítója": "1382",
                                    "Foglalás időtartama": "1",
                                    "A szoba előző foglalásának időtartama": "0"
                                },
                                {
                                    "Szoba azonosítója": "67",
                                    "Foglalás azonosítója": "1584",
                                    "Foglalás időtartama": "1",
                                    "A szoba előző foglalásának időtartama": "1"
                                },
                                {
                                    "Szoba azonosítója": "67",
                                    "Foglalás azonosítója": "1580",
                                    "Foglalás időtartama": "5",
                                    "A szoba előző foglalásának időtartama": "1"
                                },
                                {
                                    "Szoba azonosítója": "67",
                                    "Foglalás azonosítója": "638",
                                    "Foglalás időtartama": "5",
                                    "A szoba előző foglalásának időtartama": "5"
                                },
                                {
                                    "Szoba azonosítója": "67",
                                    "Foglalás azonosítója": "645",
                                    "Foglalás időtartama": "6",
                                    "A szoba előző foglalásának időtartama": "5"
                                },
                                {
                                    "Szoba azonosítója": "67",
                                    "Foglalás azonosítója": "874",
                                    "Foglalás időtartama": "6",
                                    "A szoba előző foglalásának időtartama": "6"
                                },
                                {
                                    "Szoba azonosítója": "68",
                                    "Foglalás azonosítója": "1324",
                                    "Foglalás időtartama": "4",
                                    "A szoba előző foglalásának időtartama": "0"
                                },
                                {
                                    "Szoba azonosítója": "68",
                                    "Foglalás azonosítója": "563",
                                    "Foglalás időtartama": "5",
                                    "A szoba előző foglalásának időtartama": "4"
                                },
                                {
                                    "Szoba azonosítója": "68",
                                    "Foglalás azonosítója": "1027",
                                    "Foglalás időtartama": "7",
                                    "A szoba előző foglalásának időtartama": "5"
                                },
                                {
                                    "Szoba azonosítója": "69",
                                    "Foglalás azonosítója": "885",
                                    "Foglalás időtartama": "1",
                                    "A szoba előző foglalásának időtartama": "0"
                                },
                                {
                                    "Szoba azonosítója": "69",
                                    "Foglalás azonosítója": "1055",
                                    "Foglalás időtartama": "5",
                                    "A szoba előző foglalásának időtartama": "1"
                                },
                                {
                                    "Szoba azonosítója": "69",
                                    "Foglalás azonosítója": "1225",
                                    "Foglalás időtartama": "5",
                                    "A szoba előző foglalásának időtartama": "5"
                                },
                                {
                                    "Szoba azonosítója": "69",
                                    "Foglalás azonosítója": "1246",
                                    "Foglalás időtartama": "7",
                                    "A szoba előző foglalásának időtartama": "5"
                                },
                                {
                                    "Szoba azonosítója": "70",
                                    "Foglalás azonosítója": "860",
                                    "Foglalás időtartama": "2",
                                    "A szoba előző foglalásának időtartama": "0"
                                },
                                {
                                    "Szoba azonosítója": "70",
                                    "Foglalás azonosítója": "1006",
                                    "Foglalás időtartama": "3",
                                    "A szoba előző foglalásának időtartama": "2"
                                },
                                {
                                    "Szoba azonosítója": "70",
                                    "Foglalás azonosítója": "1126",
                                    "Foglalás időtartama": "3",
                                    "A szoba előző foglalásának időtartama": "3"
                                },
                                {
                                    "Szoba azonosítója": "70",
                                    "Foglalás azonosítója": "1092",
                                    "Foglalás időtartama": "3",
                                    "A szoba előző foglalásának időtartama": "3"
                                },
                                {
                                    "Szoba azonosítója": "70",
                                    "Foglalás azonosítója": "704",
                                    "Foglalás időtartama": "3",
                                    "A szoba előző foglalásának időtartama": "3"
                                },
                                {
                                    "Szoba azonosítója": "70",
                                    "Foglalás azonosítója": "814",
                                    "Foglalás időtartama": "3",
                                    "A szoba előző foglalásának időtartama": "3"
                                },
                                {
                                    "Szoba azonosítója": "70",
                                    "Foglalás azonosítója": "1365",
                                    "Foglalás időtartama": "3",
                                    "A szoba előző foglalásának időtartama": "3"
                                },
                                {
                                    "Szoba azonosítója": "70",
                                    "Foglalás azonosítója": "585",
                                    "Foglalás időtartama": "5",
                                    "A szoba előző foglalásának időtartama": "3"
                                },
                                {
                                    "Szoba azonosítója": "70",
                                    "Foglalás azonosítója": "1333",
                                    "Foglalás időtartama": "6",
                                    "A szoba előző foglalásának időtartama": "5"
                                },
                                {
                                    "Szoba azonosítója": "70",
                                    "Foglalás azonosítója": "1325",
                                    "Foglalás időtartama": "7",
                                    "A szoba előző foglalásának időtartama": "6"
                                },
                                {
                                    "Szoba azonosítója": "70",
                                    "Foglalás azonosítója": "1457",
                                    "Foglalás időtartama": "7",
                                    "A szoba előző foglalásának időtartama": "7"
                                },
                                {
                                    "Szoba azonosítója": "71",
                                    "Foglalás azonosítója": "712",
                                    "Foglalás időtartama": "1",
                                    "A szoba előző foglalásának időtartama": "0"
                                },
                                {
                                    "Szoba azonosítója": "71",
                                    "Foglalás azonosítója": "1009",
                                    "Foglalás időtartama": "1",
                                    "A szoba előző foglalásának időtartama": "1"
                                },
                                {
                                    "Szoba azonosítója": "71",
                                    "Foglalás azonosítója": "681",
                                    "Foglalás időtartama": "3",
                                    "A szoba előző foglalásának időtartama": "1"
                                },
                                {
                                    "Szoba azonosítója": "72",
                                    "Foglalás azonosítója": "1318",
                                    "Foglalás időtartama": "2",
                                    "A szoba előző foglalásának időtartama": "0"
                                },
                                {
                                    "Szoba azonosítója": "72",
                                    "Foglalás azonosítója": "1396",
                                    "Foglalás időtartama": "3",
                                    "A szoba előző foglalásának időtartama": "2"
                                },
                                {
                                    "Szoba azonosítója": "72",
                                    "Foglalás azonosítója": "902",
                                    "Foglalás időtartama": "5",
                                    "A szoba előző foglalásának időtartama": "3"
                                },
                                {
                                    "Szoba azonosítója": "72",
                                    "Foglalás azonosítója": "961",
                                    "Foglalás időtartama": "6",
                                    "A szoba előző foglalásának időtartama": "5"
                                },
                                {
                                    "Szoba azonosítója": "73",
                                    "Foglalás azonosítója": "1000",
                                    "Foglalás időtartama": "4",
                                    "A szoba előző foglalásának időtartama": "0"
                                },
                                {
                                    "Szoba azonosítója": "73",
                                    "Foglalás azonosítója": "1331",
                                    "Foglalás időtartama": "4",
                                    "A szoba előző foglalásának időtartama": "4"
                                },
                                {
                                    "Szoba azonosítója": "73",
                                    "Foglalás azonosítója": "1159",
                                    "Foglalás időtartama": "5",
                                    "A szoba előző foglalásának időtartama": "4"
                                },
                                {
                                    "Szoba azonosítója": "73",
                                    "Foglalás azonosítója": "714",
                                    "Foglalás időtartama": "7",
                                    "A szoba előző foglalásának időtartama": "5"
                                },
                                {
                                    "Szoba azonosítója": "74",
                                    "Foglalás azonosítója": "830",
                                    "Foglalás időtartama": "1",
                                    "A szoba előző foglalásának időtartama": "0"
                                },
                                {
                                    "Szoba azonosítója": "74",
                                    "Foglalás azonosítója": "963",
                                    "Foglalás időtartama": "1",
                                    "A szoba előző foglalásának időtartama": "1"
                                },
                                {
                                    "Szoba azonosítója": "74",
                                    "Foglalás azonosítója": "847",
                                    "Foglalás időtartama": "3",
                                    "A szoba előző foglalásának időtartama": "1"
                                },
                                {
                                    "Szoba azonosítója": "74",
                                    "Foglalás azonosítója": "877",
                                    "Foglalás időtartama": "4",
                                    "A szoba előző foglalásának időtartama": "3"
                                },
                                {
                                    "Szoba azonosítója": "74",
                                    "Foglalás azonosítója": "940",
                                    "Foglalás időtartama": "5",
                                    "A szoba előző foglalásának időtartama": "4"
                                },
                                {
                                    "Szoba azonosítója": "74",
                                    "Foglalás azonosítója": "797",
                                    "Foglalás időtartama": "5",
                                    "A szoba előző foglalásának időtartama": "5"
                                },
                                {
                                    "Szoba azonosítója": "74",
                                    "Foglalás azonosítója": "1093",
                                    "Foglalás időtartama": "6",
                                    "A szoba előző foglalásának időtartama": "5"
                                },
                                {
                                    "Szoba azonosítója": "74",
                                    "Foglalás azonosítója": "595",
                                    "Foglalás időtartama": "7",
                                    "A szoba előző foglalásának időtartama": "6"
                                },
                                {
                                    "Szoba azonosítója": "74",
                                    "Foglalás azonosítója": "1179",
                                    "Foglalás időtartama": "7",
                                    "A szoba előző foglalásának időtartama": "7"
                                },
                                {
                                    "Szoba azonosítója": "75",
                                    "Foglalás azonosítója": "1458",
                                    "Foglalás időtartama": "1",
                                    "A szoba előző foglalásának időtartama": "0"
                                },
                                {
                                    "Szoba azonosítója": "75",
                                    "Foglalás azonosítója": "1412",
                                    "Foglalás időtartama": "2",
                                    "A szoba előző foglalásának időtartama": "1"
                                },
                                {
                                    "Szoba azonosítója": "75",
                                    "Foglalás azonosítója": "1013",
                                    "Foglalás időtartama": "5",
                                    "A szoba előző foglalásának időtartama": "2"
                                },
                                {
                                    "Szoba azonosítója": "76",
                                    "Foglalás azonosítója": "976",
                                    "Foglalás időtartama": "2",
                                    "A szoba előző foglalásának időtartama": "0"
                                },
                                {
                                    "Szoba azonosítója": "76",
                                    "Foglalás azonosítója": "1557",
                                    "Foglalás időtartama": "3",
                                    "A szoba előző foglalásának időtartama": "2"
                                },
                                {
                                    "Szoba azonosítója": "76",
                                    "Foglalás azonosítója": "683",
                                    "Foglalás időtartama": "7",
                                    "A szoba előző foglalásának időtartama": "3"
                                },
                                {
                                    "Szoba azonosítója": "77",
                                    "Foglalás azonosítója": "1104",
                                    "Foglalás időtartama": "1",
                                    "A szoba előző foglalásának időtartama": "0"
                                },
                                {
                                    "Szoba azonosítója": "77",
                                    "Foglalás azonosítója": "982",
                                    "Foglalás időtartama": "3",
                                    "A szoba előző foglalásának időtartama": "1"
                                },
                                {
                                    "Szoba azonosítója": "77",
                                    "Foglalás azonosítója": "593",
                                    "Foglalás időtartama": "3",
                                    "A szoba előző foglalásának időtartama": "3"
                                },
                                {
                                    "Szoba azonosítója": "77",
                                    "Foglalás azonosítója": "698",
                                    "Foglalás időtartama": "4",
                                    "A szoba előző foglalásának időtartama": "3"
                                },
                                {
                                    "Szoba azonosítója": "77",
                                    "Foglalás azonosítója": "1461",
                                    "Foglalás időtartama": "4",
                                    "A szoba előző foglalásának időtartama": "4"
                                },
                                {
                                    "Szoba azonosítója": "77",
                                    "Foglalás azonosítója": "1439",
                                    "Foglalás időtartama": "6",
                                    "A szoba előző foglalásának időtartama": "4"
                                },
                                {
                                    "Szoba azonosítója": "78",
                                    "Foglalás azonosítója": "568",
                                    "Foglalás időtartama": "1",
                                    "A szoba előző foglalásának időtartama": "0"
                                },
                                {
                                    "Szoba azonosítója": "78",
                                    "Foglalás azonosítója": "1268",
                                    "Foglalás időtartama": "2",
                                    "A szoba előző foglalásának időtartama": "1"
                                },
                                {
                                    "Szoba azonosítója": "78",
                                    "Foglalás azonosítója": "1281",
                                    "Foglalás időtartama": "3",
                                    "A szoba előző foglalásának időtartama": "2"
                                },
                                {
                                    "Szoba azonosítója": "78",
                                    "Foglalás azonosítója": "646",
                                    "Foglalás időtartama": "3",
                                    "A szoba előző foglalásának időtartama": "3"
                                },
                                {
                                    "Szoba azonosítója": "78",
                                    "Foglalás azonosítója": "700",
                                    "Foglalás időtartama": "5",
                                    "A szoba előző foglalásának időtartama": "3"
                                },
                                {
                                    "Szoba azonosítója": "78",
                                    "Foglalás azonosítója": "1577",
                                    "Foglalás időtartama": "7",
                                    "A szoba előző foglalásának időtartama": "5"
                                },
                                {
                                    "Szoba azonosítója": "79",
                                    "Foglalás azonosítója": "1054",
                                    "Foglalás időtartama": "1",
                                    "A szoba előző foglalásának időtartama": "0"
                                },
                                {
                                    "Szoba azonosítója": "79",
                                    "Foglalás azonosítója": "1345",
                                    "Foglalás időtartama": "3",
                                    "A szoba előző foglalásának időtartama": "1"
                                },
                                {
                                    "Szoba azonosítója": "79",
                                    "Foglalás azonosítója": "1447",
                                    "Foglalás időtartama": "4",
                                    "A szoba előző foglalásának időtartama": "3"
                                },
                                {
                                    "Szoba azonosítója": "79",
                                    "Foglalás azonosítója": "583",
                                    "Foglalás időtartama": "6",
                                    "A szoba előző foglalásának időtartama": "4"
                                },
                                {
                                    "Szoba azonosítója": "79",
                                    "Foglalás azonosítója": "1229",
                                    "Foglalás időtartama": "7",
                                    "A szoba előző foglalásának időtartama": "6"
                                },
                                {
                                    "Szoba azonosítója": "80",
                                    "Foglalás azonosítója": "929",
                                    "Foglalás időtartama": "2",
                                    "A szoba előző foglalásának időtartama": "0"
                                },
                                {
                                    "Szoba azonosítója": "80",
                                    "Foglalás azonosítója": "1367",
                                    "Foglalás időtartama": "3",
                                    "A szoba előző foglalásának időtartama": "2"
                                },
                                {
                                    "Szoba azonosítója": "80",
                                    "Foglalás azonosítója": "1071",
                                    "Foglalás időtartama": "4",
                                    "A szoba előző foglalásának időtartama": "3"
                                },
                                {
                                    "Szoba azonosítója": "80",
                                    "Foglalás azonosítója": "1279",
                                    "Foglalás időtartama": "5",
                                    "A szoba előző foglalásának időtartama": "4"
                                },
                                {
                                    "Szoba azonosítója": "80",
                                    "Foglalás azonosítója": "983",
                                    "Foglalás időtartama": "6",
                                    "A szoba előző foglalásának időtartama": "5"
                                },
                                {
                                    "Szoba azonosítója": "80",
                                    "Foglalás azonosítója": "887",
                                    "Foglalás időtartama": "6",
                                    "A szoba előző foglalásának időtartama": "6"
                                },
                                {
                                    "Szoba azonosítója": "80",
                                    "Foglalás azonosítója": "667",
                                    "Foglalás időtartama": "6",
                                    "A szoba előző foglalásának időtartama": "6"
                                },
                                {
                                    "Szoba azonosítója": "81",
                                    "Foglalás azonosítója": "1506",
                                    "Foglalás időtartama": "3",
                                    "A szoba előző foglalásának időtartama": "0"
                                },
                                {
                                    "Szoba azonosítója": "81",
                                    "Foglalás azonosítója": "1562",
                                    "Foglalás időtartama": "3",
                                    "A szoba előző foglalásának időtartama": "3"
                                },
                                {
                                    "Szoba azonosítója": "81",
                                    "Foglalás azonosítója": "1366",
                                    "Foglalás időtartama": "5",
                                    "A szoba előző foglalásának időtartama": "3"
                                },
                                {
                                    "Szoba azonosítója": "81",
                                    "Foglalás azonosítója": "1443",
                                    "Foglalás időtartama": "7",
                                    "A szoba előző foglalásának időtartama": "5"
                                },
                                {
                                    "Szoba azonosítója": "81",
                                    "Foglalás azonosítója": "1464",
                                    "Foglalás időtartama": "7",
                                    "A szoba előző foglalásának időtartama": "7"
                                },
                                {
                                    "Szoba azonosítója": "82",
                                    "Foglalás azonosítója": "1406",
                                    "Foglalás időtartama": "1",
                                    "A szoba előző foglalásának időtartama": "0"
                                },
                                {
                                    "Szoba azonosítója": "82",
                                    "Foglalás azonosítója": "1341",
                                    "Foglalás időtartama": "2",
                                    "A szoba előző foglalásának időtartama": "1"
                                },
                                {
                                    "Szoba azonosítója": "82",
                                    "Foglalás azonosítója": "862",
                                    "Foglalás időtartama": "4",
                                    "A szoba előző foglalásának időtartama": "2"
                                },
                                {
                                    "Szoba azonosítója": "82",
                                    "Foglalás azonosítója": "871",
                                    "Foglalás időtartama": "5",
                                    "A szoba előző foglalásának időtartama": "4"
                                },
                                {
                                    "Szoba azonosítója": "82",
                                    "Foglalás azonosítója": "1277",
                                    "Foglalás időtartama": "5",
                                    "A szoba előző foglalásának időtartama": "5"
                                },
                                {
                                    "Szoba azonosítója": "82",
                                    "Foglalás azonosítója": "997",
                                    "Foglalás időtartama": "6",
                                    "A szoba előző foglalásának időtartama": "5"
                                },
                                {
                                    "Szoba azonosítója": "83",
                                    "Foglalás azonosítója": "674",
                                    "Foglalás időtartama": "4",
                                    "A szoba előző foglalásának időtartama": "0"
                                },
                                {
                                    "Szoba azonosítója": "83",
                                    "Foglalás azonosítója": "798",
                                    "Foglalás időtartama": "4",
                                    "A szoba előző foglalásának időtartama": "4"
                                },
                                {
                                    "Szoba azonosítója": "83",
                                    "Foglalás azonosítója": "995",
                                    "Foglalás időtartama": "5",
                                    "A szoba előző foglalásának időtartama": "4"
                                },
                                {
                                    "Szoba azonosítója": "83",
                                    "Foglalás azonosítója": "1119",
                                    "Foglalás időtartama": "6",
                                    "A szoba előző foglalásának időtartama": "5"
                                },
                                {
                                    "Szoba azonosítója": "83",
                                    "Foglalás azonosítója": "869",
                                    "Foglalás időtartama": "6",
                                    "A szoba előző foglalásának időtartama": "6"
                                },
                                {
                                    "Szoba azonosítója": "83",
                                    "Foglalás azonosítója": "878",
                                    "Foglalás időtartama": "6",
                                    "A szoba előző foglalásának időtartama": "6"
                                },
                                {
                                    "Szoba azonosítója": "83",
                                    "Foglalás azonosítója": "572",
                                    "Foglalás időtartama": "7",
                                    "A szoba előző foglalásának időtartama": "6"
                                },
                                {
                                    "Szoba azonosítója": "83",
                                    "Foglalás azonosítója": "1379",
                                    "Foglalás időtartama": "7",
                                    "A szoba előző foglalásának időtartama": "7"
                                },
                                {
                                    "Szoba azonosítója": "84",
                                    "Foglalás azonosítója": "819",
                                    "Foglalás időtartama": "2",
                                    "A szoba előző foglalásának időtartama": "0"
                                },
                                {
                                    "Szoba azonosítója": "84",
                                    "Foglalás azonosítója": "954",
                                    "Foglalás időtartama": "5",
                                    "A szoba előző foglalásának időtartama": "2"
                                },
                                {
                                    "Szoba azonosítója": "84",
                                    "Foglalás azonosítója": "1376",
                                    "Foglalás időtartama": "5",
                                    "A szoba előző foglalásának időtartama": "5"
                                },
                                {
                                    "Szoba azonosítója": "84",
                                    "Foglalás azonosítója": "1384",
                                    "Foglalás időtartama": "7",
                                    "A szoba előző foglalásának időtartama": "5"
                                },
                                {
                                    "Szoba azonosítója": "85",
                                    "Foglalás azonosítója": "1320",
                                    "Foglalás időtartama": "1",
                                    "A szoba előző foglalásának időtartama": "0"
                                },
                                {
                                    "Szoba azonosítója": "85",
                                    "Foglalás azonosítója": "1059",
                                    "Foglalás időtartama": "3",
                                    "A szoba előző foglalásának időtartama": "1"
                                },
                                {
                                    "Szoba azonosítója": "85",
                                    "Foglalás azonosítója": "647",
                                    "Foglalás időtartama": "3",
                                    "A szoba előző foglalásának időtartama": "3"
                                },
                                {
                                    "Szoba azonosítója": "85",
                                    "Foglalás azonosítója": "1513",
                                    "Foglalás időtartama": "7",
                                    "A szoba előző foglalásának időtartama": "3"
                                },
                                {
                                    "Szoba azonosítója": "86",
                                    "Foglalás azonosítója": "1453",
                                    "Foglalás időtartama": "1",
                                    "A szoba előző foglalásának időtartama": "0"
                                },
                                {
                                    "Szoba azonosítója": "86",
                                    "Foglalás azonosítója": "1108",
                                    "Foglalás időtartama": "1",
                                    "A szoba előző foglalásának időtartama": "1"
                                },
                                {
                                    "Szoba azonosítója": "86",
                                    "Foglalás azonosítója": "859",
                                    "Foglalás időtartama": "1",
                                    "A szoba előző foglalásának időtartama": "1"
                                },
                                {
                                    "Szoba azonosítója": "86",
                                    "Foglalás azonosítója": "1079",
                                    "Foglalás időtartama": "4",
                                    "A szoba előző foglalásának időtartama": "1"
                                },
                                {
                                    "Szoba azonosítója": "86",
                                    "Foglalás azonosítója": "1057",
                                    "Foglalás időtartama": "5",
                                    "A szoba előző foglalásának időtartama": "4"
                                },
                                {
                                    "Szoba azonosítója": "87",
                                    "Foglalás azonosítója": "844",
                                    "Foglalás időtartama": "1",
                                    "A szoba előző foglalásának időtartama": "0"
                                },
                                {
                                    "Szoba azonosítója": "87",
                                    "Foglalás azonosítója": "1103",
                                    "Foglalás időtartama": "3",
                                    "A szoba előző foglalásának időtartama": "1"
                                },
                                {
                                    "Szoba azonosítója": "87",
                                    "Foglalás azonosítója": "558",
                                    "Foglalás időtartama": "4",
                                    "A szoba előző foglalásának időtartama": "3"
                                },
                                {
                                    "Szoba azonosítója": "87",
                                    "Foglalás azonosítója": "1456",
                                    "Foglalás időtartama": "5",
                                    "A szoba előző foglalásának időtartama": "4"
                                },
                                {
                                    "Szoba azonosítója": "87",
                                    "Foglalás azonosítója": "1349",
                                    "Foglalás időtartama": "5",
                                    "A szoba előző foglalásának időtartama": "5"
                                },
                                {
                                    "Szoba azonosítója": "88",
                                    "Foglalás azonosítója": "1359",
                                    "Foglalás időtartama": "2",
                                    "A szoba előző foglalásának időtartama": "0"
                                },
                                {
                                    "Szoba azonosítója": "88",
                                    "Foglalás azonosítója": "866",
                                    "Foglalás időtartama": "2",
                                    "A szoba előző foglalásának időtartama": "2"
                                },
                                {
                                    "Szoba azonosítója": "88",
                                    "Foglalás azonosítója": "1300",
                                    "Foglalás időtartama": "3",
                                    "A szoba előző foglalásának időtartama": "2"
                                },
                                {
                                    "Szoba azonosítója": "88",
                                    "Foglalás azonosítója": "1196",
                                    "Foglalás időtartama": "3",
                                    "A szoba előző foglalásának időtartama": "3"
                                },
                                {
                                    "Szoba azonosítója": "88",
                                    "Foglalás azonosítója": "1575",
                                    "Foglalás időtartama": "6",
                                    "A szoba előző foglalásának időtartama": "3"
                                },
                                {
                                    "Szoba azonosítója": "88",
                                    "Foglalás azonosítója": "1548",
                                    "Foglalás időtartama": "7",
                                    "A szoba előző foglalásának időtartama": "6"
                                },
                                {
                                    "Szoba azonosítója": "88",
                                    "Foglalás azonosítója": "1273",
                                    "Foglalás időtartama": "7",
                                    "A szoba előző foglalásának időtartama": "7"
                                },
                                {
                                    "Szoba azonosítója": "88",
                                    "Foglalás azonosítója": "757",
                                    "Foglalás időtartama": "7",
                                    "A szoba előző foglalásának időtartama": "7"
                                },
                                {
                                    "Szoba azonosítója": "89",
                                    "Foglalás azonosítója": "1269",
                                    "Foglalás időtartama": "2",
                                    "A szoba előző foglalásának időtartama": "0"
                                },
                                {
                                    "Szoba azonosítója": "89",
                                    "Foglalás azonosítója": "1253",
                                    "Foglalás időtartama": "2",
                                    "A szoba előző foglalásának időtartama": "2"
                                },
                                {
                                    "Szoba azonosítója": "89",
                                    "Foglalás azonosítója": "1399",
                                    "Foglalás időtartama": "2",
                                    "A szoba előző foglalásának időtartama": "2"
                                },
                                {
                                    "Szoba azonosítója": "89",
                                    "Foglalás azonosítója": "817",
                                    "Foglalás időtartama": "3",
                                    "A szoba előző foglalásának időtartama": "2"
                                },
                                {
                                    "Szoba azonosítója": "89",
                                    "Foglalás azonosítója": "1101",
                                    "Foglalás időtartama": "5",
                                    "A szoba előző foglalásának időtartama": "3"
                                },
                                {
                                    "Szoba azonosítója": "89",
                                    "Foglalás azonosítója": "1189",
                                    "Foglalás időtartama": "6",
                                    "A szoba előző foglalásának időtartama": "5"
                                },
                                {
                                    "Szoba azonosítója": "89",
                                    "Foglalás azonosítója": "1521",
                                    "Foglalás időtartama": "7",
                                    "A szoba előző foglalásának időtartama": "6"
                                },
                                {
                                    "Szoba azonosítója": "89",
                                    "Foglalás azonosítója": "1037",
                                    "Foglalás időtartama": "7",
                                    "A szoba előző foglalásának időtartama": "7"
                                },
                                {
                                    "Szoba azonosítója": "90",
                                    "Foglalás azonosítója": "729",
                                    "Foglalás időtartama": "2",
                                    "A szoba előző foglalásának időtartama": "0"
                                },
                                {
                                    "Szoba azonosítója": "90",
                                    "Foglalás azonosítója": "1405",
                                    "Foglalás időtartama": "5",
                                    "A szoba előző foglalásának időtartama": "2"
                                },
                                {
                                    "Szoba azonosítója": "90",
                                    "Foglalás azonosítója": "1299",
                                    "Foglalás időtartama": "6",
                                    "A szoba előző foglalásának időtartama": "5"
                                },
                                {
                                    "Szoba azonosítója": "90",
                                    "Foglalás azonosítója": "1174",
                                    "Foglalás időtartama": "7",
                                    "A szoba előző foglalásának időtartama": "6"
                                },
                                {
                                    "Szoba azonosítója": "91",
                                    "Foglalás azonosítója": "1213",
                                    "Foglalás időtartama": "3",
                                    "A szoba előző foglalásának időtartama": "0"
                                },
                                {
                                    "Szoba azonosítója": "91",
                                    "Foglalás azonosítója": "1397",
                                    "Foglalás időtartama": "4",
                                    "A szoba előző foglalásának időtartama": "3"
                                },
                                {
                                    "Szoba azonosítója": "91",
                                    "Foglalás azonosítója": "732",
                                    "Foglalás időtartama": "4",
                                    "A szoba előző foglalásának időtartama": "4"
                                },
                                {
                                    "Szoba azonosítója": "91",
                                    "Foglalás azonosítója": "636",
                                    "Foglalás időtartama": "6",
                                    "A szoba előző foglalásának időtartama": "4"
                                },
                                {
                                    "Szoba azonosítója": "92",
                                    "Foglalás azonosítója": "1016",
                                    "Foglalás időtartama": "2",
                                    "A szoba előző foglalásának időtartama": "0"
                                },
                                {
                                    "Szoba azonosítója": "92",
                                    "Foglalás azonosítója": "1527",
                                    "Foglalás időtartama": "2",
                                    "A szoba előző foglalásának időtartama": "2"
                                },
                                {
                                    "Szoba azonosítója": "92",
                                    "Foglalás azonosítója": "809",
                                    "Foglalás időtartama": "3",
                                    "A szoba előző foglalásának időtartama": "2"
                                },
                                {
                                    "Szoba azonosítója": "92",
                                    "Foglalás azonosítója": "1555",
                                    "Foglalás időtartama": "4",
                                    "A szoba előző foglalásának időtartama": "3"
                                },
                                {
                                    "Szoba azonosítója": "92",
                                    "Foglalás azonosítója": "841",
                                    "Foglalás időtartama": "6",
                                    "A szoba előző foglalásának időtartama": "4"
                                },
                                {
                                    "Szoba azonosítója": "92",
                                    "Foglalás azonosítója": "942",
                                    "Foglalás időtartama": "6",
                                    "A szoba előző foglalásának időtartama": "6"
                                },
                                {
                                    "Szoba azonosítója": "93",
                                    "Foglalás azonosítója": "1217",
                                    "Foglalás időtartama": "1",
                                    "A szoba előző foglalásának időtartama": "0"
                                },
                                {
                                    "Szoba azonosítója": "93",
                                    "Foglalás azonosítója": "1355",
                                    "Foglalás időtartama": "2",
                                    "A szoba előző foglalásának időtartama": "1"
                                },
                                {
                                    "Szoba azonosítója": "93",
                                    "Foglalás azonosítója": "1391",
                                    "Foglalás időtartama": "4",
                                    "A szoba előző foglalásának időtartama": "2"
                                },
                                {
                                    "Szoba azonosítója": "93",
                                    "Foglalás azonosítója": "1169",
                                    "Foglalás időtartama": "4",
                                    "A szoba előző foglalásának időtartama": "4"
                                },
                                {
                                    "Szoba azonosítója": "93",
                                    "Foglalás azonosítója": "741",
                                    "Foglalás időtartama": "7",
                                    "A szoba előző foglalásának időtartama": "4"
                                },
                                {
                                    "Szoba azonosítója": "94",
                                    "Foglalás azonosítója": "1368",
                                    "Foglalás időtartama": "1",
                                    "A szoba előző foglalásának időtartama": "0"
                                },
                                {
                                    "Szoba azonosítója": "94",
                                    "Foglalás azonosítója": "1305",
                                    "Foglalás időtartama": "2",
                                    "A szoba előző foglalásának időtartama": "1"
                                },
                                {
                                    "Szoba azonosítója": "94",
                                    "Foglalás azonosítója": "1518",
                                    "Foglalás időtartama": "2",
                                    "A szoba előző foglalásának időtartama": "2"
                                },
                                {
                                    "Szoba azonosítója": "94",
                                    "Foglalás azonosítója": "1312",
                                    "Foglalás időtartama": "3",
                                    "A szoba előző foglalásának időtartama": "2"
                                },
                                {
                                    "Szoba azonosítója": "94",
                                    "Foglalás azonosítója": "727",
                                    "Foglalás időtartama": "3",
                                    "A szoba előző foglalásának időtartama": "3"
                                },
                                {
                                    "Szoba azonosítója": "94",
                                    "Foglalás azonosítója": "616",
                                    "Foglalás időtartama": "4",
                                    "A szoba előző foglalásának időtartama": "3"
                                },
                                {
                                    "Szoba azonosítója": "94",
                                    "Foglalás azonosítója": "975",
                                    "Foglalás időtartama": "5",
                                    "A szoba előző foglalásának időtartama": "4"
                                },
                                {
                                    "Szoba azonosítója": "94",
                                    "Foglalás azonosítója": "665",
                                    "Foglalás időtartama": "7",
                                    "A szoba előző foglalásának időtartama": "5"
                                },
                                {
                                    "Szoba azonosítója": "94",
                                    "Foglalás azonosítója": "1241",
                                    "Foglalás időtartama": "7",
                                    "A szoba előző foglalásának időtartama": "7"
                                },
                                {
                                    "Szoba azonosítója": "94",
                                    "Foglalás azonosítója": "1564",
                                    "Foglalás időtartama": "7",
                                    "A szoba előző foglalásának időtartama": "7"
                                },
                                {
                                    "Szoba azonosítója": "95",
                                    "Foglalás azonosítója": "1048",
                                    "Foglalás időtartama": "3",
                                    "A szoba előző foglalásának időtartama": "0"
                                },
                                {
                                    "Szoba azonosítója": "95",
                                    "Foglalás azonosítója": "1097",
                                    "Foglalás időtartama": "4",
                                    "A szoba előző foglalásának időtartama": "3"
                                },
                                {
                                    "Szoba azonosítója": "95",
                                    "Foglalás azonosítója": "656",
                                    "Foglalás időtartama": "7",
                                    "A szoba előző foglalásának időtartama": "4"
                                },
                                {
                                    "Szoba azonosítója": "95",
                                    "Foglalás azonosítója": "1543",
                                    "Foglalás időtartama": "7",
                                    "A szoba előző foglalásának időtartama": "7"
                                },
                                {
                                    "Szoba azonosítója": "96",
                                    "Foglalás azonosítója": "780",
                                    "Foglalás időtartama": "1",
                                    "A szoba előző foglalásának időtartama": "0"
                                },
                                {
                                    "Szoba azonosítója": "96",
                                    "Foglalás azonosítója": "1438",
                                    "Foglalás időtartama": "2",
                                    "A szoba előző foglalásának időtartama": "1"
                                },
                                {
                                    "Szoba azonosítója": "96",
                                    "Foglalás azonosítója": "1378",
                                    "Foglalás időtartama": "3",
                                    "A szoba előző foglalásának időtartama": "2"
                                },
                                {
                                    "Szoba azonosítója": "96",
                                    "Foglalás azonosítója": "671",
                                    "Foglalás időtartama": "4",
                                    "A szoba előző foglalásának időtartama": "3"
                                },
                                {
                                    "Szoba azonosítója": "96",
                                    "Foglalás azonosítója": "607",
                                    "Foglalás időtartama": "4",
                                    "A szoba előző foglalásának időtartama": "4"
                                },
                                {
                                    "Szoba azonosítója": "96",
                                    "Foglalás azonosítója": "623",
                                    "Foglalás időtartama": "7",
                                    "A szoba előző foglalásának időtartama": "4"
                                },
                                {
                                    "Szoba azonosítója": "96",
                                    "Foglalás azonosítója": "1569",
                                    "Foglalás időtartama": "7",
                                    "A szoba előző foglalásának időtartama": "7"
                                },
                                {
                                    "Szoba azonosítója": "97",
                                    "Foglalás azonosítója": "1395",
                                    "Foglalás időtartama": "1",
                                    "A szoba előző foglalásának időtartama": "0"
                                },
                                {
                                    "Szoba azonosítója": "97",
                                    "Foglalás azonosítója": "1528",
                                    "Foglalás időtartama": "2",
                                    "A szoba előző foglalásának időtartama": "1"
                                },
                                {
                                    "Szoba azonosítója": "97",
                                    "Foglalás azonosítója": "836",
                                    "Foglalás időtartama": "2",
                                    "A szoba előző foglalásának időtartama": "2"
                                },
                                {
                                    "Szoba azonosítója": "97",
                                    "Foglalás azonosítója": "635",
                                    "Foglalás időtartama": "3",
                                    "A szoba előző foglalásának időtartama": "2"
                                },
                                {
                                    "Szoba azonosítója": "97",
                                    "Foglalás azonosítója": "726",
                                    "Foglalás időtartama": "4",
                                    "A szoba előző foglalásának időtartama": "3"
                                },
                                {
                                    "Szoba azonosítója": "97",
                                    "Foglalás azonosítója": "718",
                                    "Foglalás időtartama": "7",
                                    "A szoba előző foglalásának időtartama": "4"
                                },
                                {
                                    "Szoba azonosítója": "97",
                                    "Foglalás azonosítója": "1417",
                                    "Foglalás időtartama": "7",
                                    "A szoba előző foglalásának időtartama": "7"
                                },
                                {
                                    "Szoba azonosítója": "98",
                                    "Foglalás azonosítója": "1402",
                                    "Foglalás időtartama": "2",
                                    "A szoba előző foglalásának időtartama": "0"
                                },
                                {
                                    "Szoba azonosítója": "98",
                                    "Foglalás azonosítója": "884",
                                    "Foglalás időtartama": "5",
                                    "A szoba előző foglalásának időtartama": "2"
                                },
                                {
                                    "Szoba azonosítója": "98",
                                    "Foglalás azonosítója": "1050",
                                    "Foglalás időtartama": "6",
                                    "A szoba előző foglalásának időtartama": "5"
                                },
                                {
                                    "Szoba azonosítója": "98",
                                    "Foglalás azonosítója": "631",
                                    "Foglalás időtartama": "6",
                                    "A szoba előző foglalásának időtartama": "6"
                                },
                                {
                                    "Szoba azonosítója": "99",
                                    "Foglalás azonosítója": "632",
                                    "Foglalás időtartama": "1",
                                    "A szoba előző foglalásának időtartama": "0"
                                },
                                {
                                    "Szoba azonosítója": "99",
                                    "Foglalás azonosítója": "1072",
                                    "Foglalás időtartama": "1",
                                    "A szoba előző foglalásának időtartama": "1"
                                },
                                {
                                    "Szoba azonosítója": "99",
                                    "Foglalás azonosítója": "1408",
                                    "Foglalás időtartama": "1",
                                    "A szoba előző foglalásának időtartama": "1"
                                },
                                {
                                    "Szoba azonosítója": "99",
                                    "Foglalás azonosítója": "1486",
                                    "Foglalás időtartama": "5",
                                    "A szoba előző foglalásának időtartama": "1"
                                },
                                {
                                    "Szoba azonosítója": "99",
                                    "Foglalás azonosítója": "691",
                                    "Foglalás időtartama": "5",
                                    "A szoba előző foglalásának időtartama": "5"
                                },
                                {
                                    "Szoba azonosítója": "100",
                                    "Foglalás azonosítója": "597",
                                    "Foglalás időtartama": "1",
                                    "A szoba előző foglalásának időtartama": "0"
                                },
                                {
                                    "Szoba azonosítója": "100",
                                    "Foglalás azonosítója": "637",
                                    "Foglalás időtartama": "5",
                                    "A szoba előző foglalásának időtartama": "1"
                                },
                                {
                                    "Szoba azonosítója": "100",
                                    "Foglalás azonosítója": "1315",
                                    "Foglalás időtartama": "5",
                                    "A szoba előző foglalásának időtartama": "5"
                                },
                                {
                                    "Szoba azonosítója": "100",
                                    "Foglalás azonosítója": "1482",
                                    "Foglalás időtartama": "7",
                                    "A szoba előző foglalásának időtartama": "5"
                                },
                                {
                                    "Szoba azonosítója": "101",
                                    "Foglalás azonosítója": "715",
                                    "Foglalás időtartama": "3",
                                    "A szoba előző foglalásának időtartama": "0"
                                },
                                {
                                    "Szoba azonosítója": "101",
                                    "Foglalás azonosítója": "1516",
                                    "Foglalás időtartama": "4",
                                    "A szoba előző foglalásának időtartama": "3"
                                },
                                {
                                    "Szoba azonosítója": "101",
                                    "Foglalás azonosítója": "1332",
                                    "Foglalás időtartama": "6",
                                    "A szoba előző foglalásának időtartama": "4"
                                },
                                {
                                    "Szoba azonosítója": "102",
                                    "Foglalás azonosítója": "1343",
                                    "Foglalás időtartama": "2",
                                    "A szoba előző foglalásának időtartama": "0"
                                },
                                {
                                    "Szoba azonosítója": "102",
                                    "Foglalás azonosítója": "689",
                                    "Foglalás időtartama": "5",
                                    "A szoba előző foglalásának időtartama": "2"
                                },
                                {
                                    "Szoba azonosítója": "103",
                                    "Foglalás azonosítója": "1398",
                                    "Foglalás időtartama": "1",
                                    "A szoba előző foglalásának időtartama": "0"
                                },
                                {
                                    "Szoba azonosítója": "103",
                                    "Foglalás azonosítója": "972",
                                    "Foglalás időtartama": "2",
                                    "A szoba előző foglalásának időtartama": "1"
                                },
                                {
                                    "Szoba azonosítója": "103",
                                    "Foglalás azonosítója": "1485",
                                    "Foglalás időtartama": "4",
                                    "A szoba előző foglalásának időtartama": "2"
                                },
                                {
                                    "Szoba azonosítója": "103",
                                    "Foglalás azonosítója": "992",
                                    "Foglalás időtartama": "7",
                                    "A szoba előző foglalásának időtartama": "4"
                                },
                                {
                                    "Szoba azonosítója": "104",
                                    "Foglalás azonosítója": "1180",
                                    "Foglalás időtartama": "1",
                                    "A szoba előző foglalásának időtartama": "0"
                                },
                                {
                                    "Szoba azonosítója": "104",
                                    "Foglalás azonosítója": "1522",
                                    "Foglalás időtartama": "2",
                                    "A szoba előző foglalásának időtartama": "1"
                                },
                                {
                                    "Szoba azonosítója": "104",
                                    "Foglalás azonosítója": "1532",
                                    "Foglalás időtartama": "3",
                                    "A szoba előző foglalásának időtartama": "2"
                                },
                                {
                                    "Szoba azonosítója": "104",
                                    "Foglalás azonosítója": "837",
                                    "Foglalás időtartama": "4",
                                    "A szoba előző foglalásának időtartama": "3"
                                },
                                {
                                    "Szoba azonosítója": "105",
                                    "Foglalás azonosítója": "618",
                                    "Foglalás időtartama": "1",
                                    "A szoba előző foglalásának időtartama": "0"
                                },
                                {
                                    "Szoba azonosítója": "105",
                                    "Foglalás azonosítója": "1525",
                                    "Foglalás időtartama": "5",
                                    "A szoba előző foglalásának időtartama": "1"
                                },
                                {
                                    "Szoba azonosítója": "106",
                                    "Foglalás azonosítója": "610",
                                    "Foglalás időtartama": "3",
                                    "A szoba előző foglalásának időtartama": "0"
                                },
                                {
                                    "Szoba azonosítója": "106",
                                    "Foglalás azonosítója": "1271",
                                    "Foglalás időtartama": "5",
                                    "A szoba előző foglalásának időtartama": "3"
                                },
                                {
                                    "Szoba azonosítója": "106",
                                    "Foglalás azonosítója": "1510",
                                    "Foglalás időtartama": "6",
                                    "A szoba előző foglalásának időtartama": "5"
                                },
                                {
                                    "Szoba azonosítója": "106",
                                    "Foglalás azonosítója": "1228",
                                    "Foglalás időtartama": "7",
                                    "A szoba előző foglalásának időtartama": "6"
                                },
                                {
                                    "Szoba azonosítója": "106",
                                    "Foglalás azonosítója": "1372",
                                    "Foglalás időtartama": "7",
                                    "A szoba előző foglalásának időtartama": "7"
                                },
                                {
                                    "Szoba azonosítója": "106",
                                    "Foglalás azonosítója": "708",
                                    "Foglalás időtartama": "7",
                                    "A szoba előző foglalásának időtartama": "7"
                                },
                                {
                                    "Szoba azonosítója": "107",
                                    "Foglalás azonosítója": "1354",
                                    "Foglalás időtartama": "1",
                                    "A szoba előző foglalásának időtartama": "0"
                                },
                                {
                                    "Szoba azonosítója": "107",
                                    "Foglalás azonosítója": "1494",
                                    "Foglalás időtartama": "2",
                                    "A szoba előző foglalásának időtartama": "1"
                                },
                                {
                                    "Szoba azonosítója": "107",
                                    "Foglalás azonosítója": "1250",
                                    "Foglalás időtartama": "4",
                                    "A szoba előző foglalásának időtartama": "2"
                                },
                                {
                                    "Szoba azonosítója": "107",
                                    "Foglalás azonosítója": "1452",
                                    "Foglalás időtartama": "6",
                                    "A szoba előző foglalásának időtartama": "4"
                                },
                                {
                                    "Szoba azonosítója": "107",
                                    "Foglalás azonosítója": "586",
                                    "Foglalás időtartama": "6",
                                    "A szoba előző foglalásának időtartama": "6"
                                },
                                {
                                    "Szoba azonosítója": "108",
                                    "Foglalás azonosítója": "1102",
                                    "Foglalás időtartama": "1",
                                    "A szoba előző foglalásának időtartama": "0"
                                },
                                {
                                    "Szoba azonosítója": "108",
                                    "Foglalás azonosítója": "1392",
                                    "Foglalás időtartama": "6",
                                    "A szoba előző foglalásának időtartama": "1"
                                },
                                {
                                    "Szoba azonosítója": "109",
                                    "Foglalás azonosítója": "1560",
                                    "Foglalás időtartama": "1",
                                    "A szoba előző foglalásának időtartama": "0"
                                },
                                {
                                    "Szoba azonosítója": "109",
                                    "Foglalás azonosítója": "1083",
                                    "Foglalás időtartama": "1",
                                    "A szoba előző foglalásának időtartama": "1"
                                },
                                {
                                    "Szoba azonosítója": "109",
                                    "Foglalás azonosítója": "810",
                                    "Foglalás időtartama": "2",
                                    "A szoba előző foglalásának időtartama": "1"
                                },
                                {
                                    "Szoba azonosítója": "109",
                                    "Foglalás azonosítója": "614",
                                    "Foglalás időtartama": "4",
                                    "A szoba előző foglalásának időtartama": "2"
                                },
                                {
                                    "Szoba azonosítója": "109",
                                    "Foglalás azonosítója": "1298",
                                    "Foglalás időtartama": "4",
                                    "A szoba előző foglalásának időtartama": "4"
                                },
                                {
                                    "Szoba azonosítója": "109",
                                    "Foglalás azonosítója": "654",
                                    "Foglalás időtartama": "5",
                                    "A szoba előző foglalásának időtartama": "4"
                                },
                                {
                                    "Szoba azonosítója": "109",
                                    "Foglalás azonosítója": "621",
                                    "Foglalás időtartama": "7",
                                    "A szoba előző foglalásának időtartama": "5"
                                },
                                {
                                    "Szoba azonosítója": "110",
                                    "Foglalás azonosítója": "685",
                                    "Foglalás időtartama": "1",
                                    "A szoba előző foglalásának időtartama": "0"
                                },
                                {
                                    "Szoba azonosítója": "110",
                                    "Foglalás azonosítója": "1424",
                                    "Foglalás időtartama": "1",
                                    "A szoba előző foglalásának időtartama": "1"
                                },
                                {
                                    "Szoba azonosítója": "110",
                                    "Foglalás azonosítója": "1162",
                                    "Foglalás időtartama": "2",
                                    "A szoba előző foglalásának időtartama": "1"
                                },
                                {
                                    "Szoba azonosítója": "110",
                                    "Foglalás azonosítója": "1041",
                                    "Foglalás időtartama": "3",
                                    "A szoba előző foglalásának időtartama": "2"
                                },
                                {
                                    "Szoba azonosítója": "110",
                                    "Foglalás azonosítója": "1109",
                                    "Foglalás időtartama": "5",
                                    "A szoba előző foglalásának időtartama": "3"
                                },
                                {
                                    "Szoba azonosítója": "110",
                                    "Foglalás azonosítója": "931",
                                    "Foglalás időtartama": "5",
                                    "A szoba előző foglalásának időtartama": "5"
                                },
                                {
                                    "Szoba azonosítója": "110",
                                    "Foglalás azonosítója": "964",
                                    "Foglalás időtartama": "6",
                                    "A szoba előző foglalásának időtartama": "5"
                                },
                                {
                                    "Szoba azonosítója": "110",
                                    "Foglalás azonosítója": "1489",
                                    "Foglalás időtartama": "6",
                                    "A szoba előző foglalásának időtartama": "6"
                                },
                                {
                                    "Szoba azonosítója": "111",
                                    "Foglalás azonosítója": "1296",
                                    "Foglalás időtartama": "3",
                                    "A szoba előző foglalásának időtartama": "0"
                                },
                                {
                                    "Szoba azonosítója": "111",
                                    "Foglalás azonosítója": "786",
                                    "Foglalás időtartama": "4",
                                    "A szoba előző foglalásának időtartama": "3"
                                },
                                {
                                    "Szoba azonosítója": "111",
                                    "Foglalás azonosítója": "1353",
                                    "Foglalás időtartama": "5",
                                    "A szoba előző foglalásának időtartama": "4"
                                },
                                {
                                    "Szoba azonosítója": "111",
                                    "Foglalás azonosítója": "605",
                                    "Foglalás időtartama": "7",
                                    "A szoba előző foglalásának időtartama": "5"
                                },
                                {
                                    "Szoba azonosítója": "111",
                                    "Foglalás azonosítója": "959",
                                    "Foglalás időtartama": "7",
                                    "A szoba előző foglalásának időtartama": "7"
                                },
                                {
                                    "Szoba azonosítója": "112",
                                    "Foglalás azonosítója": "921",
                                    "Foglalás időtartama": "1",
                                    "A szoba előző foglalásának időtartama": "0"
                                },
                                {
                                    "Szoba azonosítója": "112",
                                    "Foglalás azonosítója": "776",
                                    "Foglalás időtartama": "4",
                                    "A szoba előző foglalásának időtartama": "1"
                                },
                                {
                                    "Szoba azonosítója": "112",
                                    "Foglalás azonosítója": "801",
                                    "Foglalás időtartama": "5",
                                    "A szoba előző foglalásának időtartama": "4"
                                },
                                {
                                    "Szoba azonosítója": "112",
                                    "Foglalás azonosítója": "1124",
                                    "Foglalás időtartama": "6",
                                    "A szoba előző foglalásának időtartama": "5"
                                },
                                {
                                    "Szoba azonosítója": "112",
                                    "Foglalás azonosítója": "1530",
                                    "Foglalás időtartama": "6",
                                    "A szoba előző foglalásának időtartama": "6"
                                },
                                {
                                    "Szoba azonosítója": "113",
                                    "Foglalás azonosítója": "1263",
                                    "Foglalás időtartama": "1",
                                    "A szoba előző foglalásának időtartama": "0"
                                },
                                {
                                    "Szoba azonosítója": "113",
                                    "Foglalás azonosítója": "1499",
                                    "Foglalás időtartama": "2",
                                    "A szoba előző foglalásának időtartama": "1"
                                },
                                {
                                    "Szoba azonosítója": "113",
                                    "Foglalás azonosítója": "1085",
                                    "Foglalás időtartama": "4",
                                    "A szoba előző foglalásának időtartama": "2"
                                },
                                {
                                    "Szoba azonosítója": "113",
                                    "Foglalás azonosítója": "1029",
                                    "Foglalás időtartama": "5",
                                    "A szoba előző foglalásának időtartama": "4"
                                },
                                {
                                    "Szoba azonosítója": "113",
                                    "Foglalás azonosítója": "1495",
                                    "Foglalás időtartama": "7",
                                    "A szoba előző foglalásának időtartama": "5"
                                },
                                {
                                    "Szoba azonosítója": "114",
                                    "Foglalás azonosítója": "737",
                                    "Foglalás időtartama": "2",
                                    "A szoba előző foglalásának időtartama": "0"
                                },
                                {
                                    "Szoba azonosítója": "114",
                                    "Foglalás azonosítója": "1540",
                                    "Foglalás időtartama": "3",
                                    "A szoba előző foglalásának időtartama": "2"
                                },
                                {
                                    "Szoba azonosítója": "114",
                                    "Foglalás azonosítója": "966",
                                    "Foglalás időtartama": "6",
                                    "A szoba előző foglalásának időtartama": "3"
                                },
                                {
                                    "Szoba azonosítója": "114",
                                    "Foglalás azonosítója": "827",
                                    "Foglalás időtartama": "7",
                                    "A szoba előző foglalásának időtartama": "6"
                                },
                                {
                                    "Szoba azonosítója": "115",
                                    "Foglalás azonosítója": "1566",
                                    "Foglalás időtartama": "1",
                                    "A szoba előző foglalásának időtartama": "0"
                                },
                                {
                                    "Szoba azonosítója": "115",
                                    "Foglalás azonosítója": "1554",
                                    "Foglalás időtartama": "3",
                                    "A szoba előző foglalásának időtartama": "1"
                                },
                                {
                                    "Szoba azonosítója": "115",
                                    "Foglalás azonosítója": "1352",
                                    "Foglalás időtartama": "3",
                                    "A szoba előző foglalásának időtartama": "3"
                                },
                                {
                                    "Szoba azonosítója": "115",
                                    "Foglalás azonosítója": "1154",
                                    "Foglalás időtartama": "4",
                                    "A szoba előző foglalásának időtartama": "3"
                                },
                                {
                                    "Szoba azonosítója": "115",
                                    "Foglalás azonosítója": "596",
                                    "Foglalás időtartama": "7",
                                    "A szoba előző foglalásának időtartama": "4"
                                },
                                {
                                    "Szoba azonosítója": "115",
                                    "Foglalás azonosítója": "943",
                                    "Foglalás időtartama": "7",
                                    "A szoba előző foglalásának időtartama": "7"
                                },
                                {
                                    "Szoba azonosítója": "115",
                                    "Foglalás azonosítója": "1121",
                                    "Foglalás időtartama": "7",
                                    "A szoba előző foglalásának időtartama": "7"
                                },
                                {
                                    "Szoba azonosítója": "116",
                                    "Foglalás azonosítója": "1455",
                                    "Foglalás időtartama": "2",
                                    "A szoba előző foglalásának időtartama": "0"
                                },
                                {
                                    "Szoba azonosítója": "116",
                                    "Foglalás azonosítója": "1501",
                                    "Foglalás időtartama": "4",
                                    "A szoba előző foglalásának időtartama": "2"
                                },
                                {
                                    "Szoba azonosítója": "117",
                                    "Foglalás azonosítója": "1002",
                                    "Foglalás időtartama": "1",
                                    "A szoba előző foglalásának időtartama": "0"
                                },
                                {
                                    "Szoba azonosítója": "117",
                                    "Foglalás azonosítója": "612",
                                    "Foglalás időtartama": "2",
                                    "A szoba előző foglalásának időtartama": "1"
                                },
                                {
                                    "Szoba azonosítója": "117",
                                    "Foglalás azonosítója": "1192",
                                    "Foglalás időtartama": "2",
                                    "A szoba előző foglalásának időtartama": "2"
                                },
                                {
                                    "Szoba azonosítója": "117",
                                    "Foglalás azonosítója": "1247",
                                    "Foglalás időtartama": "3",
                                    "A szoba előző foglalásának időtartama": "2"
                                },
                                {
                                    "Szoba azonosítója": "117",
                                    "Foglalás azonosítója": "617",
                                    "Foglalás időtartama": "3",
                                    "A szoba előző foglalásának időtartama": "3"
                                },
                                {
                                    "Szoba azonosítója": "117",
                                    "Foglalás azonosítója": "962",
                                    "Foglalás időtartama": "4",
                                    "A szoba előző foglalásának időtartama": "3"
                                },
                                {
                                    "Szoba azonosítója": "117",
                                    "Foglalás azonosítója": "953",
                                    "Foglalás időtartama": "5",
                                    "A szoba előző foglalásának időtartama": "4"
                                },
                                {
                                    "Szoba azonosítója": "117",
                                    "Foglalás azonosítója": "1468",
                                    "Foglalás időtartama": "7",
                                    "A szoba előző foglalásának időtartama": "5"
                                },
                                {
                                    "Szoba azonosítója": "118",
                                    "Foglalás azonosítója": "716",
                                    "Foglalás időtartama": "1",
                                    "A szoba előző foglalásának időtartama": "0"
                                },
                                {
                                    "Szoba azonosítója": "118",
                                    "Foglalás azonosítója": "996",
                                    "Foglalás időtartama": "3",
                                    "A szoba előző foglalásának időtartama": "1"
                                },
                                {
                                    "Szoba azonosítója": "118",
                                    "Foglalás azonosítója": "1481",
                                    "Foglalás időtartama": "3",
                                    "A szoba előző foglalásának időtartama": "3"
                                },
                                {
                                    "Szoba azonosítója": "118",
                                    "Foglalás azonosítója": "1374",
                                    "Foglalás időtartama": "5",
                                    "A szoba előző foglalásának időtartama": "3"
                                },
                                {
                                    "Szoba azonosítója": "118",
                                    "Foglalás azonosítója": "1472",
                                    "Foglalás időtartama": "6",
                                    "A szoba előző foglalásának időtartama": "5"
                                },
                                {
                                    "Szoba azonosítója": "118",
                                    "Foglalás azonosítója": "864",
                                    "Foglalás időtartama": "6",
                                    "A szoba előző foglalásának időtartama": "6"
                                },
                                {
                                    "Szoba azonosítója": "118",
                                    "Foglalás azonosítója": "994",
                                    "Foglalás időtartama": "7",
                                    "A szoba előző foglalásának időtartama": "6"
                                },
                                {
                                    "Szoba azonosítója": "119",
                                    "Foglalás azonosítója": "722",
                                    "Foglalás időtartama": "1",
                                    "A szoba előző foglalásának időtartama": "0"
                                },
                                {
                                    "Szoba azonosítója": "119",
                                    "Foglalás azonosítója": "706",
                                    "Foglalás időtartama": "2",
                                    "A szoba előző foglalásának időtartama": "1"
                                },
                                {
                                    "Szoba azonosítója": "119",
                                    "Foglalás azonosítója": "1026",
                                    "Foglalás időtartama": "3",
                                    "A szoba előző foglalásának időtartama": "2"
                                },
                                {
                                    "Szoba azonosítója": "119",
                                    "Foglalás azonosítója": "1488",
                                    "Foglalás időtartama": "3",
                                    "A szoba előző foglalásának időtartama": "3"
                                },
                                {
                                    "Szoba azonosítója": "119",
                                    "Foglalás azonosítója": "1413",
                                    "Foglalás időtartama": "3",
                                    "A szoba előző foglalásának időtartama": "3"
                                },
                                {
                                    "Szoba azonosítója": "120",
                                    "Foglalás azonosítója": "1483",
                                    "Foglalás időtartama": "1",
                                    "A szoba előző foglalásának időtartama": "0"
                                },
                                {
                                    "Szoba azonosítója": "120",
                                    "Foglalás azonosítója": "998",
                                    "Foglalás időtartama": "3",
                                    "A szoba előző foglalásának időtartama": "1"
                                },
                                {
                                    "Szoba azonosítója": "120",
                                    "Foglalás azonosítója": "762",
                                    "Foglalás időtartama": "3",
                                    "A szoba előző foglalásának időtartama": "3"
                                },
                                {
                                    "Szoba azonosítója": "120",
                                    "Foglalás azonosítója": "1089",
                                    "Foglalás időtartama": "6",
                                    "A szoba előző foglalásának időtartama": "3"
                                },
                                {
                                    "Szoba azonosítója": "120",
                                    "Foglalás azonosítója": "1339",
                                    "Foglalás időtartama": "6",
                                    "A szoba előző foglalásának időtartama": "6"
                                },
                                {
                                    "Szoba azonosítója": "120",
                                    "Foglalás azonosítója": "1493",
                                    "Foglalás időtartama": "7",
                                    "A szoba előző foglalásának időtartama": "6"
                                },
                                {
                                    "Szoba azonosítója": "121",
                                    "Foglalás azonosítója": "1049",
                                    "Foglalás időtartama": "3",
                                    "A szoba előző foglalásának időtartama": "0"
                                },
                                {
                                    "Szoba azonosítója": "121",
                                    "Foglalás azonosítója": "1128",
                                    "Foglalás időtartama": "4",
                                    "A szoba előző foglalásának időtartama": "3"
                                },
                                {
                                    "Szoba azonosítója": "121",
                                    "Foglalás azonosítója": "1215",
                                    "Foglalás időtartama": "4",
                                    "A szoba előző foglalásának időtartama": "4"
                                },
                                {
                                    "Szoba azonosítója": "121",
                                    "Foglalás azonosítója": "1373",
                                    "Foglalás időtartama": "5",
                                    "A szoba előző foglalásának időtartama": "4"
                                },
                                {
                                    "Szoba azonosítója": "121",
                                    "Foglalás azonosítója": "858",
                                    "Foglalás időtartama": "5",
                                    "A szoba előző foglalásának időtartama": "5"
                                },
                                {
                                    "Szoba azonosítója": "121",
                                    "Foglalás azonosítója": "739",
                                    "Foglalás időtartama": "6",
                                    "A szoba előző foglalásának időtartama": "5"
                                },
                                {
                                    "Szoba azonosítója": "121",
                                    "Foglalás azonosítója": "735",
                                    "Foglalás időtartama": "6",
                                    "A szoba előző foglalásának időtartama": "6"
                                },
                                {
                                    "Szoba azonosítója": "121",
                                    "Foglalás azonosítója": "1393",
                                    "Foglalás időtartama": "6",
                                    "A szoba előző foglalásának időtartama": "6"
                                },
                                {
                                    "Szoba azonosítója": "122",
                                    "Foglalás azonosítója": "1209",
                                    "Foglalás időtartama": "1",
                                    "A szoba előző foglalásának időtartama": "0"
                                },
                                {
                                    "Szoba azonosítója": "122",
                                    "Foglalás azonosítója": "1245",
                                    "Foglalás időtartama": "2",
                                    "A szoba előző foglalásának időtartama": "1"
                                },
                                {
                                    "Szoba azonosítója": "122",
                                    "Foglalás azonosítója": "1337",
                                    "Foglalás időtartama": "2",
                                    "A szoba előző foglalásának időtartama": "2"
                                },
                                {
                                    "Szoba azonosítója": "122",
                                    "Foglalás azonosítója": "1036",
                                    "Foglalás időtartama": "2",
                                    "A szoba előző foglalásának időtartama": "2"
                                },
                                {
                                    "Szoba azonosítója": "122",
                                    "Foglalás azonosítója": "1007",
                                    "Foglalás időtartama": "2",
                                    "A szoba előző foglalásának időtartama": "2"
                                },
                                {
                                    "Szoba azonosítója": "122",
                                    "Foglalás azonosítója": "1062",
                                    "Foglalás időtartama": "3",
                                    "A szoba előző foglalásának időtartama": "2"
                                },
                                {
                                    "Szoba azonosítója": "122",
                                    "Foglalás azonosítója": "1440",
                                    "Foglalás időtartama": "3",
                                    "A szoba előző foglalásának időtartama": "3"
                                },
                                {
                                    "Szoba azonosítója": "122",
                                    "Foglalás azonosítója": "1166",
                                    "Foglalás időtartama": "4",
                                    "A szoba előző foglalásának időtartama": "3"
                                },
                                {
                                    "Szoba azonosítója": "122",
                                    "Foglalás azonosítója": "1385",
                                    "Foglalás időtartama": "5",
                                    "A szoba előző foglalásának időtartama": "4"
                                },
                                {
                                    "Szoba azonosítója": "123",
                                    "Foglalás azonosítója": "1223",
                                    "Foglalás időtartama": "1",
                                    "A szoba előző foglalásának időtartama": "0"
                                },
                                {
                                    "Szoba azonosítója": "123",
                                    "Foglalás azonosítója": "923",
                                    "Foglalás időtartama": "4",
                                    "A szoba előző foglalásának időtartama": "1"
                                },
                                {
                                    "Szoba azonosítója": "123",
                                    "Foglalás azonosítója": "967",
                                    "Foglalás időtartama": "5",
                                    "A szoba előző foglalásának időtartama": "4"
                                },
                                {
                                    "Szoba azonosítója": "123",
                                    "Foglalás azonosítója": "1282",
                                    "Foglalás időtartama": "6",
                                    "A szoba előző foglalásának időtartama": "5"
                                },
                                {
                                    "Szoba azonosítója": "123",
                                    "Foglalás azonosítója": "587",
                                    "Foglalás időtartama": "7",
                                    "A szoba előző foglalásának időtartama": "6"
                                },
                                {
                                    "Szoba azonosítója": "124",
                                    "Foglalás azonosítója": "861",
                                    "Foglalás időtartama": "1",
                                    "A szoba előző foglalásának időtartama": "0"
                                },
                                {
                                    "Szoba azonosítója": "124",
                                    "Foglalás azonosítója": "1419",
                                    "Foglalás időtartama": "3",
                                    "A szoba előző foglalásának időtartama": "1"
                                },
                                {
                                    "Szoba azonosítója": "124",
                                    "Foglalás azonosítója": "1210",
                                    "Foglalás időtartama": "4",
                                    "A szoba előző foglalásának időtartama": "3"
                                },
                                {
                                    "Szoba azonosítója": "124",
                                    "Foglalás azonosítója": "1403",
                                    "Foglalás időtartama": "6",
                                    "A szoba előző foglalásának időtartama": "4"
                                },
                                {
                                    "Szoba azonosítója": "124",
                                    "Foglalás azonosítója": "1531",
                                    "Foglalás időtartama": "6",
                                    "A szoba előző foglalásának időtartama": "6"
                                },
                                {
                                    "Szoba azonosítója": "124",
                                    "Foglalás azonosítója": "1330",
                                    "Foglalás időtartama": "7",
                                    "A szoba előző foglalásának időtartama": "6"
                                },
                                {
                                    "Szoba azonosítója": "125",
                                    "Foglalás azonosítója": "576",
                                    "Foglalás időtartama": "1",
                                    "A szoba előző foglalásának időtartama": "0"
                                },
                                {
                                    "Szoba azonosítója": "126",
                                    "Foglalás azonosítója": "1134",
                                    "Foglalás időtartama": "1",
                                    "A szoba előző foglalásának időtartama": "0"
                                },
                                {
                                    "Szoba azonosítója": "126",
                                    "Foglalás azonosítója": "1500",
                                    "Foglalás időtartama": "4",
                                    "A szoba előző foglalásának időtartama": "1"
                                },
                                {
                                    "Szoba azonosítója": "126",
                                    "Foglalás azonosítója": "754",
                                    "Foglalás időtartama": "4",
                                    "A szoba előző foglalásának időtartama": "4"
                                },
                                {
                                    "Szoba azonosítója": "126",
                                    "Foglalás azonosítója": "806",
                                    "Foglalás időtartama": "6",
                                    "A szoba előző foglalásának időtartama": "4"
                                },
                                {
                                    "Szoba azonosítója": "126",
                                    "Foglalás azonosítója": "1364",
                                    "Foglalás időtartama": "6",
                                    "A szoba előző foglalásának időtartama": "6"
                                },
                                {
                                    "Szoba azonosítója": "126",
                                    "Foglalás azonosítója": "1428",
                                    "Foglalás időtartama": "7",
                                    "A szoba előző foglalásának időtartama": "6"
                                },
                                {
                                    "Szoba azonosítója": "127",
                                    "Foglalás azonosítója": "1286",
                                    "Foglalás időtartama": "1",
                                    "A szoba előző foglalásának időtartama": "0"
                                },
                                {
                                    "Szoba azonosítója": "127",
                                    "Foglalás azonosítója": "643",
                                    "Foglalás időtartama": "2",
                                    "A szoba előző foglalásának időtartama": "1"
                                },
                                {
                                    "Szoba azonosítója": "127",
                                    "Foglalás azonosítója": "879",
                                    "Foglalás időtartama": "2",
                                    "A szoba előző foglalásának időtartama": "2"
                                },
                                {
                                    "Szoba azonosítója": "127",
                                    "Foglalás azonosítója": "853",
                                    "Foglalás időtartama": "5",
                                    "A szoba előző foglalásának időtartama": "2"
                                },
                                {
                                    "Szoba azonosítója": "127",
                                    "Foglalás azonosítója": "1226",
                                    "Foglalás időtartama": "5",
                                    "A szoba előző foglalásának időtartama": "5"
                                },
                                {
                                    "Szoba azonosítója": "127",
                                    "Foglalás azonosítója": "1579",
                                    "Foglalás időtartama": "5",
                                    "A szoba előző foglalásának időtartama": "5"
                                },
                                {
                                    "Szoba azonosítója": "127",
                                    "Foglalás azonosítója": "1034",
                                    "Foglalás időtartama": "6",
                                    "A szoba előző foglalásának időtartama": "5"
                                },
                                {
                                    "Szoba azonosítója": "128",
                                    "Foglalás azonosítója": "815",
                                    "Foglalás időtartama": "1",
                                    "A szoba előző foglalásának időtartama": "0"
                                },
                                {
                                    "Szoba azonosítója": "128",
                                    "Foglalás azonosítója": "1574",
                                    "Foglalás időtartama": "1",
                                    "A szoba előző foglalásának időtartama": "1"
                                },
                                {
                                    "Szoba azonosítója": "128",
                                    "Foglalás azonosítója": "1290",
                                    "Foglalás időtartama": "1",
                                    "A szoba előző foglalásának időtartama": "1"
                                },
                                {
                                    "Szoba azonosítója": "128",
                                    "Foglalás azonosítója": "717",
                                    "Foglalás időtartama": "2",
                                    "A szoba előző foglalásának időtartama": "1"
                                },
                                {
                                    "Szoba azonosítója": "128",
                                    "Foglalás azonosítója": "1583",
                                    "Foglalás időtartama": "4",
                                    "A szoba előző foglalásának időtartama": "2"
                                },
                                {
                                    "Szoba azonosítója": "129",
                                    "Foglalás azonosítója": "1509",
                                    "Foglalás időtartama": "6",
                                    "A szoba előző foglalásának időtartama": "0"
                                },
                                {
                                    "Szoba azonosítója": "129",
                                    "Foglalás azonosítója": "1360",
                                    "Foglalás időtartama": "6",
                                    "A szoba előző foglalásának időtartama": "6"
                                },
                                {
                                    "Szoba azonosítója": "129",
                                    "Foglalás azonosítója": "1445",
                                    "Foglalás időtartama": "7",
                                    "A szoba előző foglalásának időtartama": "6"
                                },
                                {
                                    "Szoba azonosítója": "129",
                                    "Foglalás azonosítója": "723",
                                    "Foglalás időtartama": "7",
                                    "A szoba előző foglalásának időtartama": "7"
                                },
                                {
                                    "Szoba azonosítója": "130",
                                    "Foglalás azonosítója": "1040",
                                    "Foglalás időtartama": "1",
                                    "A szoba előző foglalásának időtartama": "0"
                                },
                                {
                                    "Szoba azonosítója": "130",
                                    "Foglalás azonosítója": "910",
                                    "Foglalás időtartama": "2",
                                    "A szoba előző foglalásának időtartama": "1"
                                },
                                {
                                    "Szoba azonosítója": "130",
                                    "Foglalás azonosítója": "580",
                                    "Foglalás időtartama": "3",
                                    "A szoba előző foglalásának időtartama": "2"
                                },
                                {
                                    "Szoba azonosítója": "130",
                                    "Foglalás azonosítója": "613",
                                    "Foglalás időtartama": "3",
                                    "A szoba előző foglalásának időtartama": "3"
                                },
                                {
                                    "Szoba azonosítója": "130",
                                    "Foglalás azonosítója": "779",
                                    "Foglalás időtartama": "6",
                                    "A szoba előző foglalásának időtartama": "3"
                                },
                                {
                                    "Szoba azonosítója": "130",
                                    "Foglalás azonosítója": "1475",
                                    "Foglalás időtartama": "7",
                                    "A szoba előző foglalásának időtartama": "6"
                                },
                                {
                                    "Szoba azonosítója": "131",
                                    "Foglalás azonosítója": "655",
                                    "Foglalás időtartama": "1",
                                    "A szoba előző foglalásának időtartama": "0"
                                },
                                {
                                    "Szoba azonosítója": "131",
                                    "Foglalás azonosítója": "559",
                                    "Foglalás időtartama": "2",
                                    "A szoba előző foglalásának időtartama": "1"
                                },
                                {
                                    "Szoba azonosítója": "131",
                                    "Foglalás azonosítója": "760",
                                    "Foglalás időtartama": "4",
                                    "A szoba előző foglalásának időtartama": "2"
                                },
                                {
                                    "Szoba azonosítója": "131",
                                    "Foglalás azonosítója": "1474",
                                    "Foglalás időtartama": "5",
                                    "A szoba előző foglalásának időtartama": "4"
                                },
                                {
                                    "Szoba azonosítója": "131",
                                    "Foglalás azonosítója": "881",
                                    "Foglalás időtartama": "6",
                                    "A szoba előző foglalásának időtartama": "5"
                                },
                                {
                                    "Szoba azonosítója": "132",
                                    "Foglalás azonosítója": "1519",
                                    "Foglalás időtartama": "2",
                                    "A szoba előző foglalásának időtartama": "0"
                                },
                                {
                                    "Szoba azonosítója": "132",
                                    "Foglalás azonosítója": "1301",
                                    "Foglalás időtartama": "2",
                                    "A szoba előző foglalásának időtartama": "2"
                                },
                                {
                                    "Szoba azonosítója": "132",
                                    "Foglalás azonosítója": "1111",
                                    "Foglalás időtartama": "3",
                                    "A szoba előző foglalásának időtartama": "2"
                                },
                                {
                                    "Szoba azonosítója": "132",
                                    "Foglalás azonosítója": "999",
                                    "Foglalás időtartama": "6",
                                    "A szoba előző foglalásának időtartama": "3"
                                },
                                {
                                    "Szoba azonosítója": "132",
                                    "Foglalás azonosítója": "1090",
                                    "Foglalás időtartama": "7",
                                    "A szoba előző foglalásának időtartama": "6"
                                },
                                {
                                    "Szoba azonosítója": "132",
                                    "Foglalás azonosítója": "619",
                                    "Foglalás időtartama": "7",
                                    "A szoba előző foglalásának időtartama": "7"
                                },
                                {
                                    "Szoba azonosítója": "133",
                                    "Foglalás azonosítója": "1409",
                                    "Foglalás időtartama": "1",
                                    "A szoba előző foglalásának időtartama": "0"
                                },
                                {
                                    "Szoba azonosítója": "133",
                                    "Foglalás azonosítója": "1306",
                                    "Foglalás időtartama": "3",
                                    "A szoba előző foglalásának időtartama": "1"
                                },
                                {
                                    "Szoba azonosítója": "133",
                                    "Foglalás azonosítója": "988",
                                    "Foglalás időtartama": "3",
                                    "A szoba előző foglalásának időtartama": "3"
                                },
                                {
                                    "Szoba azonosítója": "133",
                                    "Foglalás azonosítója": "909",
                                    "Foglalás időtartama": "4",
                                    "A szoba előző foglalásának időtartama": "3"
                                },
                                {
                                    "Szoba azonosítója": "133",
                                    "Foglalás azonosítója": "1363",
                                    "Foglalás időtartama": "5",
                                    "A szoba előző foglalásának időtartama": "4"
                                },
                                {
                                    "Szoba azonosítója": "133",
                                    "Foglalás azonosítója": "1149",
                                    "Foglalás időtartama": "7",
                                    "A szoba előző foglalásának időtartama": "5"
                                },
                                {
                                    "Szoba azonosítója": "134",
                                    "Foglalás azonosítója": "1024",
                                    "Foglalás időtartama": "1",
                                    "A szoba előző foglalásának időtartama": "0"
                                },
                                {
                                    "Szoba azonosítója": "134",
                                    "Foglalás azonosítója": "1045",
                                    "Foglalás időtartama": "2",
                                    "A szoba előző foglalásának időtartama": "1"
                                },
                                {
                                    "Szoba azonosítója": "134",
                                    "Foglalás azonosítója": "1004",
                                    "Foglalás időtartama": "5",
                                    "A szoba előző foglalásának időtartama": "2"
                                },
                                {
                                    "Szoba azonosítója": "134",
                                    "Foglalás azonosítója": "1219",
                                    "Foglalás időtartama": "6",
                                    "A szoba előző foglalásának időtartama": "5"
                                },
                                {
                                    "Szoba azonosítója": "134",
                                    "Foglalás azonosítója": "1178",
                                    "Foglalás időtartama": "7",
                                    "A szoba előző foglalásának időtartama": "6"
                                },
                                {
                                    "Szoba azonosítója": "134",
                                    "Foglalás azonosítója": "1535",
                                    "Foglalás időtartama": "7",
                                    "A szoba előző foglalásának időtartama": "7"
                                },
                                {
                                    "Szoba azonosítója": "135",
                                    "Foglalás azonosítója": "1289",
                                    "Foglalás időtartama": "3",
                                    "A szoba előző foglalásának időtartama": "0"
                                },
                                {
                                    "Szoba azonosítója": "135",
                                    "Foglalás azonosítója": "724",
                                    "Foglalás időtartama": "6",
                                    "A szoba előző foglalásának időtartama": "3"
                                },
                                {
                                    "Szoba azonosítója": "135",
                                    "Foglalás azonosítója": "849",
                                    "Foglalás időtartama": "7",
                                    "A szoba előző foglalásának időtartama": "6"
                                },
                                {
                                    "Szoba azonosítója": "136",
                                    "Foglalás azonosítója": "584",
                                    "Foglalás időtartama": "2",
                                    "A szoba előző foglalásának időtartama": "0"
                                },
                                {
                                    "Szoba azonosítója": "136",
                                    "Foglalás azonosítója": "1046",
                                    "Foglalás időtartama": "4",
                                    "A szoba előző foglalásának időtartama": "2"
                                },
                                {
                                    "Szoba azonosítója": "136",
                                    "Foglalás azonosítója": "661",
                                    "Foglalás időtartama": "5",
                                    "A szoba előző foglalásának időtartama": "4"
                                },
                                {
                                    "Szoba azonosítója": "137",
                                    "Foglalás azonosítója": "1014",
                                    "Foglalás időtartama": "1",
                                    "A szoba előző foglalásának időtartama": "0"
                                },
                                {
                                    "Szoba azonosítója": "137",
                                    "Foglalás azonosítója": "582",
                                    "Foglalás időtartama": "3",
                                    "A szoba előző foglalásának időtartama": "1"
                                },
                                {
                                    "Szoba azonosítója": "137",
                                    "Foglalás azonosítója": "1280",
                                    "Foglalás időtartama": "3",
                                    "A szoba előző foglalásának időtartama": "3"
                                },
                                {
                                    "Szoba azonosítója": "137",
                                    "Foglalás azonosítója": "649",
                                    "Foglalás időtartama": "5",
                                    "A szoba előző foglalásának időtartama": "3"
                                },
                                {
                                    "Szoba azonosítója": "137",
                                    "Foglalás azonosítója": "657",
                                    "Foglalás időtartama": "6",
                                    "A szoba előző foglalásának időtartama": "5"
                                },
                                {
                                    "Szoba azonosítója": "137",
                                    "Foglalás azonosítója": "1201",
                                    "Foglalás időtartama": "6",
                                    "A szoba előző foglalásának időtartama": "6"
                                },
                                {
                                    "Szoba azonosítója": "138",
                                    "Foglalás azonosítója": "1283",
                                    "Foglalás időtartama": "2",
                                    "A szoba előző foglalásának időtartama": "0"
                                },
                                {
                                    "Szoba azonosítója": "138",
                                    "Foglalás azonosítója": "1256",
                                    "Foglalás időtartama": "4",
                                    "A szoba előző foglalásának időtartama": "2"
                                },
                                {
                                    "Szoba azonosítója": "138",
                                    "Foglalás azonosítója": "796",
                                    "Foglalás időtartama": "4",
                                    "A szoba előző foglalásának időtartama": "4"
                                },
                                {
                                    "Szoba azonosítója": "138",
                                    "Foglalás azonosítója": "1294",
                                    "Foglalás időtartama": "5",
                                    "A szoba előző foglalásának időtartama": "4"
                                },
                                {
                                    "Szoba azonosítója": "138",
                                    "Foglalás azonosítója": "1370",
                                    "Foglalás időtartama": "5",
                                    "A szoba előző foglalásának időtartama": "5"
                                },
                                {
                                    "Szoba azonosítója": "138",
                                    "Foglalás azonosítója": "768",
                                    "Foglalás időtartama": "6",
                                    "A szoba előző foglalásának időtartama": "5"
                                },
                                {
                                    "Szoba azonosítója": "138",
                                    "Foglalás azonosítója": "1358",
                                    "Foglalás időtartama": "7",
                                    "A szoba előző foglalásának időtartama": "6"
                                },
                                {
                                    "Szoba azonosítója": "139",
                                    "Foglalás azonosítója": "745",
                                    "Foglalás időtartama": "1",
                                    "A szoba előző foglalásának időtartama": "0"
                                },
                                {
                                    "Szoba azonosítója": "139",
                                    "Foglalás azonosítója": "579",
                                    "Foglalás időtartama": "2",
                                    "A szoba előző foglalásának időtartama": "1"
                                },
                                {
                                    "Szoba azonosítója": "139",
                                    "Foglalás azonosítója": "1042",
                                    "Foglalás időtartama": "2",
                                    "A szoba előző foglalásának időtartama": "2"
                                },
                                {
                                    "Szoba azonosítója": "139",
                                    "Foglalás azonosítója": "751",
                                    "Foglalás időtartama": "4",
                                    "A szoba előző foglalásának időtartama": "2"
                                },
                                {
                                    "Szoba azonosítója": "139",
                                    "Foglalás azonosítója": "1064",
                                    "Foglalás időtartama": "6",
                                    "A szoba előző foglalásának időtartama": "4"
                                },
                                {
                                    "Szoba azonosítója": "139",
                                    "Foglalás azonosítója": "1433",
                                    "Foglalás időtartama": "6",
                                    "A szoba előző foglalásának időtartama": "6"
                                },
                                {
                                    "Szoba azonosítója": "139",
                                    "Foglalás azonosítója": "1450",
                                    "Foglalás időtartama": "7",
                                    "A szoba előző foglalásának időtartama": "6"
                                },
                                {
                                    "Szoba azonosítója": "140",
                                    "Foglalás azonosítója": "1371",
                                    "Foglalás időtartama": "1",
                                    "A szoba előző foglalásának időtartama": "0"
                                },
                                {
                                    "Szoba azonosítója": "140",
                                    "Foglalás azonosítója": "733",
                                    "Foglalás időtartama": "1",
                                    "A szoba előző foglalásának időtartama": "1"
                                },
                                {
                                    "Szoba azonosítója": "140",
                                    "Foglalás azonosítója": "1098",
                                    "Foglalás időtartama": "2",
                                    "A szoba előző foglalásának időtartama": "1"
                                },
                                {
                                    "Szoba azonosítója": "140",
                                    "Foglalás azonosítója": "915",
                                    "Foglalás időtartama": "2",
                                    "A szoba előző foglalásának időtartama": "2"
                                },
                                {
                                    "Szoba azonosítója": "140",
                                    "Foglalás azonosítója": "1361",
                                    "Foglalás időtartama": "3",
                                    "A szoba előző foglalásának időtartama": "2"
                                },
                                {
                                    "Szoba azonosítója": "140",
                                    "Foglalás azonosítója": "1156",
                                    "Foglalás időtartama": "3",
                                    "A szoba előző foglalásának időtartama": "3"
                                },
                                {
                                    "Szoba azonosítója": "140",
                                    "Foglalás azonosítója": "1357",
                                    "Foglalás időtartama": "4",
                                    "A szoba előző foglalásának időtartama": "3"
                                },
                                {
                                    "Szoba azonosítója": "140",
                                    "Foglalás azonosítója": "1259",
                                    "Foglalás időtartama": "7",
                                    "A szoba előző foglalásának időtartama": "4"
                                },
                                {
                                    "Szoba azonosítója": "141",
                                    "Foglalás azonosítója": "908",
                                    "Foglalás időtartama": "2",
                                    "A szoba előző foglalásának időtartama": "0"
                                },
                                {
                                    "Szoba azonosítója": "141",
                                    "Foglalás azonosítója": "761",
                                    "Foglalás időtartama": "3",
                                    "A szoba előző foglalásának időtartama": "2"
                                },
                                {
                                    "Szoba azonosítója": "141",
                                    "Foglalás azonosítója": "1254",
                                    "Foglalás időtartama": "4",
                                    "A szoba előző foglalásának időtartama": "3"
                                },
                                {
                                    "Szoba azonosítója": "141",
                                    "Foglalás azonosítója": "1401",
                                    "Foglalás időtartama": "6",
                                    "A szoba előző foglalásának időtartama": "4"
                                },
                                {
                                    "Szoba azonosítója": "141",
                                    "Foglalás azonosítója": "565",
                                    "Foglalás időtartama": "6",
                                    "A szoba előző foglalásának időtartama": "6"
                                },
                                {
                                    "Szoba azonosítója": "141",
                                    "Foglalás azonosítója": "784",
                                    "Foglalás időtartama": "7",
                                    "A szoba előző foglalásának időtartama": "6"
                                },
                                {
                                    "Szoba azonosítója": "142",
                                    "Foglalás azonosítója": "1545",
                                    "Foglalás időtartama": "3",
                                    "A szoba előző foglalásának időtartama": "0"
                                },
                                {
                                    "Szoba azonosítója": "142",
                                    "Foglalás azonosítója": "1369",
                                    "Foglalás időtartama": "6",
                                    "A szoba előző foglalásának időtartama": "3"
                                },
                                {
                                    "Szoba azonosítója": "143",
                                    "Foglalás azonosítója": "1222",
                                    "Foglalás időtartama": "2",
                                    "A szoba előző foglalásának időtartama": "0"
                                },
                                {
                                    "Szoba azonosítója": "143",
                                    "Foglalás azonosítója": "1394",
                                    "Foglalás időtartama": "3",
                                    "A szoba előző foglalásának időtartama": "2"
                                },
                                {
                                    "Szoba azonosítója": "143",
                                    "Foglalás azonosítója": "980",
                                    "Foglalás időtartama": "3",
                                    "A szoba előző foglalásának időtartama": "3"
                                },
                                {
                                    "Szoba azonosítója": "143",
                                    "Foglalás azonosítója": "1313",
                                    "Foglalás időtartama": "4",
                                    "A szoba előző foglalásának időtartama": "3"
                                },
                                {
                                    "Szoba azonosítója": "143",
                                    "Foglalás azonosítója": "1193",
                                    "Foglalás időtartama": "6",
                                    "A szoba előző foglalásának időtartama": "4"
                                },
                                {
                                    "Szoba azonosítója": "143",
                                    "Foglalás azonosítója": "1448",
                                    "Foglalás időtartama": "6",
                                    "A szoba előző foglalásának időtartama": "6"
                                },
                                {
                                    "Szoba azonosítója": "143",
                                    "Foglalás azonosítója": "1155",
                                    "Foglalás időtartama": "7",
                                    "A szoba előző foglalásának időtartama": "6"
                                },
                                {
                                    "Szoba azonosítója": "144",
                                    "Foglalás azonosítója": "1297",
                                    "Foglalás időtartama": "1",
                                    "A szoba előző foglalásának időtartama": "0"
                                },
                                {
                                    "Szoba azonosítója": "144",
                                    "Foglalás azonosítója": "1572",
                                    "Foglalás időtartama": "2",
                                    "A szoba előző foglalásának időtartama": "1"
                                },
                                {
                                    "Szoba azonosítója": "144",
                                    "Foglalás azonosítója": "1087",
                                    "Foglalás időtartama": "2",
                                    "A szoba előző foglalásának időtartama": "2"
                                },
                                {
                                    "Szoba azonosítója": "144",
                                    "Foglalás azonosítója": "581",
                                    "Foglalás időtartama": "4",
                                    "A szoba előző foglalásának időtartama": "2"
                                },
                                {
                                    "Szoba azonosítója": "144",
                                    "Foglalás azonosítója": "1199",
                                    "Foglalás időtartama": "7",
                                    "A szoba előző foglalásának időtartama": "4"
                                },
                                {
                                    "Szoba azonosítója": "145",
                                    "Foglalás azonosítója": "1471",
                                    "Foglalás időtartama": "1",
                                    "A szoba előző foglalásának időtartama": "0"
                                },
                                {
                                    "Szoba azonosítója": "145",
                                    "Foglalás azonosítója": "1077",
                                    "Foglalás időtartama": "1",
                                    "A szoba előző foglalásának időtartama": "1"
                                },
                                {
                                    "Szoba azonosítója": "145",
                                    "Foglalás azonosítója": "1120",
                                    "Foglalás időtartama": "1",
                                    "A szoba előző foglalásának időtartama": "1"
                                },
                                {
                                    "Szoba azonosítója": "145",
                                    "Foglalás azonosítója": "1338",
                                    "Foglalás időtartama": "2",
                                    "A szoba előző foglalásának időtartama": "1"
                                },
                                {
                                    "Szoba azonosítója": "145",
                                    "Foglalás azonosítója": "1145",
                                    "Foglalás időtartama": "4",
                                    "A szoba előző foglalásának időtartama": "2"
                                },
                                {
                                    "Szoba azonosítója": "145",
                                    "Foglalás azonosítója": "703",
                                    "Foglalás időtartama": "4",
                                    "A szoba előző foglalásának időtartama": "4"
                                },
                                {
                                    "Szoba azonosítója": "146",
                                    "Foglalás azonosítója": "664",
                                    "Foglalás időtartama": "3",
                                    "A szoba előző foglalásának időtartama": "0"
                                },
                                {
                                    "Szoba azonosítója": "146",
                                    "Foglalás azonosítója": "890",
                                    "Foglalás időtartama": "3",
                                    "A szoba előző foglalásának időtartama": "3"
                                },
                                {
                                    "Szoba azonosítója": "146",
                                    "Foglalás azonosítója": "1032",
                                    "Foglalás időtartama": "5",
                                    "A szoba előző foglalásának időtartama": "3"
                                },
                                {
                                    "Szoba azonosítója": "146",
                                    "Foglalás azonosítója": "1479",
                                    "Foglalás időtartama": "6",
                                    "A szoba előző foglalásának időtartama": "5"
                                },
                                {
                                    "Szoba azonosítója": "146",
                                    "Foglalás azonosítója": "789",
                                    "Foglalás időtartama": "7",
                                    "A szoba előző foglalásának időtartama": "6"
                                },
                                {
                                    "Szoba azonosítója": "146",
                                    "Foglalás azonosítója": "804",
                                    "Foglalás időtartama": "7",
                                    "A szoba előző foglalásának időtartama": "7"
                                },
                                {
                                    "Szoba azonosítója": "147",
                                    "Foglalás azonosítója": "771",
                                    "Foglalás időtartama": "4",
                                    "A szoba előző foglalásának időtartama": "0"
                                },
                                {
                                    "Szoba azonosítója": "148",
                                    "Foglalás azonosítója": "808",
                                    "Foglalás időtartama": "2",
                                    "A szoba előző foglalásának időtartama": "0"
                                },
                                {
                                    "Szoba azonosítója": "148",
                                    "Foglalás azonosítója": "765",
                                    "Foglalás időtartama": "3",
                                    "A szoba előző foglalásának időtartama": "2"
                                },
                                {
                                    "Szoba azonosítója": "148",
                                    "Foglalás azonosítója": "678",
                                    "Foglalás időtartama": "4",
                                    "A szoba előző foglalásának időtartama": "3"
                                },
                                {
                                    "Szoba azonosítója": "148",
                                    "Foglalás azonosítója": "812",
                                    "Foglalás időtartama": "6",
                                    "A szoba előző foglalásának időtartama": "4"
                                },
                                {
                                    "Szoba azonosítója": "148",
                                    "Foglalás azonosítója": "783",
                                    "Foglalás időtartama": "7",
                                    "A szoba előző foglalásának időtartama": "6"
                                },
                                {
                                    "Szoba azonosítója": "148",
                                    "Foglalás azonosítója": "1578",
                                    "Foglalás időtartama": "7",
                                    "A szoba előző foglalásának időtartama": "7"
                                },
                                {
                                    "Szoba azonosítója": "149",
                                    "Foglalás azonosítója": "652",
                                    "Foglalás időtartama": "1",
                                    "A szoba előző foglalásának időtartama": "0"
                                },
                                {
                                    "Szoba azonosítója": "149",
                                    "Foglalás azonosítója": "591",
                                    "Foglalás időtartama": "1",
                                    "A szoba előző foglalásának időtartama": "1"
                                },
                                {
                                    "Szoba azonosítója": "149",
                                    "Foglalás azonosítója": "833",
                                    "Foglalás időtartama": "2",
                                    "A szoba előző foglalásának időtartama": "1"
                                },
                                {
                                    "Szoba azonosítója": "149",
                                    "Foglalás azonosítója": "843",
                                    "Foglalás időtartama": "4",
                                    "A szoba előző foglalásának időtartama": "2"
                                },
                                {
                                    "Szoba azonosítója": "149",
                                    "Foglalás azonosítója": "834",
                                    "Foglalás időtartama": "5",
                                    "A szoba előző foglalásának időtartama": "4"
                                },
                                {
                                    "Szoba azonosítója": "149",
                                    "Foglalás azonosítója": "1514",
                                    "Foglalás időtartama": "5",
                                    "A szoba előző foglalásának időtartama": "5"
                                },
                                {
                                    "Szoba azonosítója": "149",
                                    "Foglalás azonosítója": "1146",
                                    "Foglalás időtartama": "6",
                                    "A szoba előző foglalásának időtartama": "5"
                                },
                                {
                                    "Szoba azonosítója": "150",
                                    "Foglalás azonosítója": "1177",
                                    "Foglalás időtartama": "1",
                                    "A szoba előző foglalásának időtartama": "0"
                                },
                                {
                                    "Szoba azonosítója": "150",
                                    "Foglalás azonosítója": "1105",
                                    "Foglalás időtartama": "1",
                                    "A szoba előző foglalásának időtartama": "1"
                                },
                                {
                                    "Szoba azonosítója": "150",
                                    "Foglalás azonosítója": "641",
                                    "Foglalás időtartama": "3",
                                    "A szoba előző foglalásának időtartama": "1"
                                },
                                {
                                    "Szoba azonosítója": "150",
                                    "Foglalás azonosítója": "1432",
                                    "Foglalás időtartama": "3",
                                    "A szoba előző foglalásának időtartama": "3"
                                },
                                {
                                    "Szoba azonosítója": "150",
                                    "Foglalás azonosítója": "1203",
                                    "Foglalás időtartama": "4",
                                    "A szoba előző foglalásának időtartama": "3"
                                },
                                {
                                    "Szoba azonosítója": "150",
                                    "Foglalás azonosítója": "1100",
                                    "Foglalás időtartama": "5",
                                    "A szoba előző foglalásának időtartama": "4"
                                },
                                {
                                    "Szoba azonosítója": "151",
                                    "Foglalás azonosítója": "1115",
                                    "Foglalás időtartama": "3",
                                    "A szoba előző foglalásának időtartama": "0"
                                },
                                {
                                    "Szoba azonosítója": "151",
                                    "Foglalás azonosítója": "1058",
                                    "Foglalás időtartama": "3",
                                    "A szoba előző foglalásának időtartama": "3"
                                },
                                {
                                    "Szoba azonosítója": "151",
                                    "Foglalás azonosítója": "893",
                                    "Foglalás időtartama": "3",
                                    "A szoba előző foglalásának időtartama": "3"
                                },
                                {
                                    "Szoba azonosítója": "152",
                                    "Foglalás azonosítója": "730",
                                    "Foglalás időtartama": "2",
                                    "A szoba előző foglalásának időtartama": "0"
                                },
                                {
                                    "Szoba azonosítója": "152",
                                    "Foglalás azonosítója": "1558",
                                    "Foglalás időtartama": "2",
                                    "A szoba előző foglalásának időtartama": "2"
                                },
                                {
                                    "Szoba azonosítója": "152",
                                    "Foglalás azonosítója": "1197",
                                    "Foglalás időtartama": "6",
                                    "A szoba előző foglalásának időtartama": "2"
                                },
                                {
                                    "Szoba azonosítója": "152",
                                    "Foglalás azonosítója": "1160",
                                    "Foglalás időtartama": "7",
                                    "A szoba előző foglalásának időtartama": "6"
                                },
                                {
                                    "Szoba azonosítója": "153",
                                    "Foglalás azonosítója": "1507",
                                    "Foglalás időtartama": "3",
                                    "A szoba előző foglalásának időtartama": "0"
                                },
                                {
                                    "Szoba azonosítója": "153",
                                    "Foglalás azonosítója": "1460",
                                    "Foglalás időtartama": "3",
                                    "A szoba előző foglalásának időtartama": "3"
                                },
                                {
                                    "Szoba azonosítója": "153",
                                    "Foglalás azonosítója": "594",
                                    "Foglalás időtartama": "3",
                                    "A szoba előző foglalásának időtartama": "3"
                                },
                                {
                                    "Szoba azonosítója": "153",
                                    "Foglalás azonosítója": "1470",
                                    "Foglalás időtartama": "5",
                                    "A szoba előző foglalásának időtartama": "3"
                                },
                                {
                                    "Szoba azonosítója": "153",
                                    "Foglalás azonosítója": "969",
                                    "Foglalás időtartama": "6",
                                    "A szoba előző foglalásának időtartama": "5"
                                },
                                {
                                    "Szoba azonosítója": "154",
                                    "Foglalás azonosítója": "968",
                                    "Foglalás időtartama": "1",
                                    "A szoba előző foglalásának időtartama": "0"
                                },
                                {
                                    "Szoba azonosítója": "154",
                                    "Foglalás azonosítója": "1262",
                                    "Foglalás időtartama": "1",
                                    "A szoba előző foglalásának időtartama": "1"
                                },
                                {
                                    "Szoba azonosítója": "154",
                                    "Foglalás azonosítója": "1539",
                                    "Foglalás időtartama": "2",
                                    "A szoba előző foglalásának időtartama": "1"
                                },
                                {
                                    "Szoba azonosítója": "154",
                                    "Foglalás azonosítója": "1168",
                                    "Foglalás időtartama": "6",
                                    "A szoba előző foglalásának időtartama": "2"
                                },
                                {
                                    "Szoba azonosítója": "154",
                                    "Foglalás azonosítója": "1061",
                                    "Foglalás időtartama": "7",
                                    "A szoba előző foglalásának időtartama": "6"
                                },
                                {
                                    "Szoba azonosítója": "155",
                                    "Foglalás azonosítója": "575",
                                    "Foglalás időtartama": "1",
                                    "A szoba előző foglalásának időtartama": "0"
                                },
                                {
                                    "Szoba azonosítója": "155",
                                    "Foglalás azonosítója": "1310",
                                    "Foglalás időtartama": "1",
                                    "A szoba előző foglalásának időtartama": "1"
                                },
                                {
                                    "Szoba azonosítója": "155",
                                    "Foglalás azonosítója": "1541",
                                    "Foglalás időtartama": "1",
                                    "A szoba előző foglalásának időtartama": "1"
                                },
                                {
                                    "Szoba azonosítója": "155",
                                    "Foglalás azonosítója": "577",
                                    "Foglalás időtartama": "3",
                                    "A szoba előző foglalásának időtartama": "1"
                                },
                                {
                                    "Szoba azonosítója": "155",
                                    "Foglalás azonosítója": "1112",
                                    "Foglalás időtartama": "4",
                                    "A szoba előző foglalásának időtartama": "3"
                                },
                                {
                                    "Szoba azonosítója": "156",
                                    "Foglalás azonosítója": "1490",
                                    "Foglalás időtartama": "1",
                                    "A szoba előző foglalásának időtartama": "0"
                                },
                                {
                                    "Szoba azonosítója": "156",
                                    "Foglalás azonosítója": "907",
                                    "Foglalás időtartama": "3",
                                    "A szoba előző foglalásának időtartama": "1"
                                },
                                {
                                    "Szoba azonosítója": "156",
                                    "Foglalás azonosítója": "1561",
                                    "Foglalás időtartama": "4",
                                    "A szoba előző foglalásának időtartama": "3"
                                },
                                {
                                    "Szoba azonosítója": "156",
                                    "Foglalás azonosítója": "956",
                                    "Foglalás időtartama": "6",
                                    "A szoba előző foglalásának időtartama": "4"
                                },
                                {
                                    "Szoba azonosítója": "156",
                                    "Foglalás azonosítója": "692",
                                    "Foglalás időtartama": "6",
                                    "A szoba előző foglalásának időtartama": "6"
                                },
                                {
                                    "Szoba azonosítója": "156",
                                    "Foglalás azonosítója": "588",
                                    "Foglalás időtartama": "7",
                                    "A szoba előző foglalásának időtartama": "6"
                                },
                                {
                                    "Szoba azonosítója": "156",
                                    "Foglalás azonosítója": "1462",
                                    "Foglalás időtartama": "7",
                                    "A szoba előző foglalásának időtartama": "7"
                                },
                                {
                                    "Szoba azonosítója": "157",
                                    "Foglalás azonosítója": "1551",
                                    "Foglalás időtartama": "3",
                                    "A szoba előző foglalásának időtartama": "0"
                                },
                                {
                                    "Szoba azonosítója": "157",
                                    "Foglalás azonosítója": "1025",
                                    "Foglalás időtartama": "3",
                                    "A szoba előző foglalásának időtartama": "3"
                                },
                                {
                                    "Szoba azonosítója": "157",
                                    "Foglalás azonosítója": "1047",
                                    "Foglalás időtartama": "4",
                                    "A szoba előző foglalásának időtartama": "3"
                                },
                                {
                                    "Szoba azonosítója": "157",
                                    "Foglalás azonosítója": "648",
                                    "Foglalás időtartama": "4",
                                    "A szoba előző foglalásának időtartama": "4"
                                },
                                {
                                    "Szoba azonosítója": "157",
                                    "Foglalás azonosítója": "1240",
                                    "Foglalás időtartama": "7",
                                    "A szoba előző foglalásának időtartama": "4"
                                },
                                {
                                    "Szoba azonosítója": "158",
                                    "Foglalás azonosítója": "1117",
                                    "Foglalás időtartama": "3",
                                    "A szoba előző foglalásának időtartama": "0"
                                },
                                {
                                    "Szoba azonosítója": "158",
                                    "Foglalás azonosítója": "840",
                                    "Foglalás időtartama": "4",
                                    "A szoba előző foglalásának időtartama": "3"
                                },
                                {
                                    "Szoba azonosítója": "158",
                                    "Foglalás azonosítója": "825",
                                    "Foglalás időtartama": "4",
                                    "A szoba előző foglalásának időtartama": "4"
                                },
                                {
                                    "Szoba azonosítója": "160",
                                    "Foglalás azonosítója": "720",
                                    "Foglalás időtartama": "2",
                                    "A szoba előző foglalásának időtartama": "0"
                                },
                                {
                                    "Szoba azonosítója": "160",
                                    "Foglalás azonosítója": "922",
                                    "Foglalás időtartama": "2",
                                    "A szoba előző foglalásának időtartama": "2"
                                },
                                {
                                    "Szoba azonosítója": "160",
                                    "Foglalás azonosítója": "1565",
                                    "Foglalás időtartama": "3",
                                    "A szoba előző foglalásának időtartama": "2"
                                },
                                {
                                    "Szoba azonosítója": "160",
                                    "Foglalás azonosítója": "927",
                                    "Foglalás időtartama": "4",
                                    "A szoba előző foglalásának időtartama": "3"
                                },
                                {
                                    "Szoba azonosítója": "160",
                                    "Foglalás azonosítója": "933",
                                    "Foglalás időtartama": "4",
                                    "A szoba előző foglalásának időtartama": "4"
                                },
                                {
                                    "Szoba azonosítója": "161",
                                    "Foglalás azonosítója": "911",
                                    "Foglalás időtartama": "4",
                                    "A szoba előző foglalásának időtartama": "0"
                                },
                                {
                                    "Szoba azonosítója": "161",
                                    "Foglalás azonosítója": "639",
                                    "Foglalás időtartama": "4",
                                    "A szoba előző foglalásának időtartama": "4"
                                },
                                {
                                    "Szoba azonosítója": "161",
                                    "Foglalás azonosítója": "1571",
                                    "Foglalás időtartama": "4",
                                    "A szoba előző foglalásának időtartama": "4"
                                },
                                {
                                    "Szoba azonosítója": "161",
                                    "Foglalás azonosítója": "1068",
                                    "Foglalás időtartama": "6",
                                    "A szoba előző foglalásának időtartama": "4"
                                },
                                {
                                    "Szoba azonosítója": "161",
                                    "Foglalás azonosítója": "653",
                                    "Foglalás időtartama": "7",
                                    "A szoba előző foglalásának időtartama": "6"
                                },
                                {
                                    "Szoba azonosítója": "161",
                                    "Foglalás azonosítója": "1190",
                                    "Foglalás időtartama": "7",
                                    "A szoba előző foglalásának időtartama": "7"
                                },
                                {
                                    "Szoba azonosítója": "162",
                                    "Foglalás azonosítója": "1400",
                                    "Foglalás időtartama": "1",
                                    "A szoba előző foglalásának időtartama": "0"
                                },
                                {
                                    "Szoba azonosítója": "162",
                                    "Foglalás azonosítója": "599",
                                    "Foglalás időtartama": "4",
                                    "A szoba előző foglalásának időtartama": "1"
                                },
                                {
                                    "Szoba azonosítója": "162",
                                    "Foglalás azonosítója": "1205",
                                    "Foglalás időtartama": "6",
                                    "A szoba előző foglalásának időtartama": "4"
                                },
                                {
                                    "Szoba azonosítója": "163",
                                    "Foglalás azonosítója": "941",
                                    "Foglalás időtartama": "1",
                                    "A szoba előző foglalásának időtartama": "0"
                                },
                                {
                                    "Szoba azonosítója": "163",
                                    "Foglalás azonosítója": "630",
                                    "Foglalás időtartama": "2",
                                    "A szoba előző foglalásának időtartama": "1"
                                },
                                {
                                    "Szoba azonosítója": "163",
                                    "Foglalás azonosítója": "782",
                                    "Foglalás időtartama": "3",
                                    "A szoba előző foglalásának időtartama": "2"
                                },
                                {
                                    "Szoba azonosítója": "163",
                                    "Foglalás azonosítója": "1107",
                                    "Foglalás időtartama": "3",
                                    "A szoba előző foglalásának időtartama": "3"
                                },
                                {
                                    "Szoba azonosítója": "163",
                                    "Foglalás azonosítója": "1487",
                                    "Foglalás időtartama": "3",
                                    "A szoba előző foglalásának időtartama": "3"
                                },
                                {
                                    "Szoba azonosítója": "163",
                                    "Foglalás azonosítója": "1075",
                                    "Foglalás időtartama": "4",
                                    "A szoba előző foglalásának időtartama": "3"
                                },
                                {
                                    "Szoba azonosítója": "163",
                                    "Foglalás azonosítója": "1265",
                                    "Foglalás időtartama": "5",
                                    "A szoba előző foglalásának időtartama": "4"
                                },
                                {
                                    "Szoba azonosítója": "164",
                                    "Foglalás azonosítója": "1292",
                                    "Foglalás időtartama": "2",
                                    "A szoba előző foglalásának időtartama": "0"
                                },
                                {
                                    "Szoba azonosítója": "164",
                                    "Foglalás azonosítója": "1010",
                                    "Foglalás időtartama": "2",
                                    "A szoba előző foglalásának időtartama": "2"
                                },
                                {
                                    "Szoba azonosítója": "164",
                                    "Foglalás azonosítója": "1284",
                                    "Foglalás időtartama": "4",
                                    "A szoba előző foglalásának időtartama": "2"
                                },
                                {
                                    "Szoba azonosítója": "164",
                                    "Foglalás azonosítója": "742",
                                    "Foglalás időtartama": "6",
                                    "A szoba előző foglalásának időtartama": "4"
                                },
                                {
                                    "Szoba azonosítója": "164",
                                    "Foglalás azonosítója": "570",
                                    "Foglalás időtartama": "7",
                                    "A szoba előző foglalásának időtartama": "6"
                                },
                                {
                                    "Szoba azonosítója": "165",
                                    "Foglalás azonosítója": "1141",
                                    "Foglalás időtartama": "1",
                                    "A szoba előző foglalásának időtartama": "0"
                                },
                                {
                                    "Szoba azonosítója": "165",
                                    "Foglalás azonosítója": "640",
                                    "Foglalás időtartama": "3",
                                    "A szoba előző foglalásának időtartama": "1"
                                },
                                {
                                    "Szoba azonosítója": "165",
                                    "Foglalás azonosítója": "892",
                                    "Foglalás időtartama": "3",
                                    "A szoba előző foglalásának időtartama": "3"
                                },
                                {
                                    "Szoba azonosítója": "165",
                                    "Foglalás azonosítója": "1375",
                                    "Foglalás időtartama": "4",
                                    "A szoba előző foglalásának időtartama": "3"
                                },
                                {
                                    "Szoba azonosítója": "165",
                                    "Foglalás azonosítója": "857",
                                    "Foglalás időtartama": "5",
                                    "A szoba előző foglalásának időtartama": "4"
                                },
                                {
                                    "Szoba azonosítója": "165",
                                    "Foglalás azonosítója": "900",
                                    "Foglalás időtartama": "6",
                                    "A szoba előző foglalásának időtartama": "5"
                                },
                                {
                                    "Szoba azonosítója": "165",
                                    "Foglalás azonosítója": "897",
                                    "Foglalás időtartama": "6",
                                    "A szoba előző foglalásának időtartama": "6"
                                },
                                {
                                    "Szoba azonosítója": "166",
                                    "Foglalás azonosítója": "1526",
                                    "Foglalás időtartama": "2",
                                    "A szoba előző foglalásának időtartama": "0"
                                },
                                {
                                    "Szoba azonosítója": "166",
                                    "Foglalás azonosítója": "644",
                                    "Foglalás időtartama": "7",
                                    "A szoba előző foglalásának időtartama": "2"
                                },
                                {
                                    "Szoba azonosítója": "166",
                                    "Foglalás azonosítója": "781",
                                    "Foglalás időtartama": "7",
                                    "A szoba előző foglalásának időtartama": "7"
                                },
                                {
                                    "Szoba azonosítója": "167",
                                    "Foglalás azonosítója": "1414",
                                    "Foglalás időtartama": "3",
                                    "A szoba előző foglalásának időtartama": "0"
                                },
                                {
                                    "Szoba azonosítója": "167",
                                    "Foglalás azonosítója": "854",
                                    "Foglalás időtartama": "7",
                                    "A szoba előző foglalásának időtartama": "3"
                                },
                                {
                                    "Szoba azonosítója": "168",
                                    "Foglalás azonosítója": "930",
                                    "Foglalás időtartama": "3",
                                    "A szoba előző foglalásának időtartama": "0"
                                },
                                {
                                    "Szoba azonosítója": "168",
                                    "Foglalás azonosítója": "792",
                                    "Foglalás időtartama": "3",
                                    "A szoba előző foglalásának időtartama": "3"
                                },
                                {
                                    "Szoba azonosítója": "168",
                                    "Foglalás azonosítója": "794",
                                    "Foglalás időtartama": "4",
                                    "A szoba előző foglalásának időtartama": "3"
                                },
                                {
                                    "Szoba azonosítója": "168",
                                    "Foglalás azonosítója": "1266",
                                    "Foglalás időtartama": "4",
                                    "A szoba előző foglalásának időtartama": "4"
                                },
                                {
                                    "Szoba azonosítója": "168",
                                    "Foglalás azonosítója": "1249",
                                    "Foglalás időtartama": "4",
                                    "A szoba előző foglalásának időtartama": "4"
                                },
                                {
                                    "Szoba azonosítója": "169",
                                    "Foglalás azonosítója": "1427",
                                    "Foglalás időtartama": "1",
                                    "A szoba előző foglalásának időtartama": "0"
                                },
                                {
                                    "Szoba azonosítója": "169",
                                    "Foglalás azonosítója": "974",
                                    "Foglalás időtartama": "1",
                                    "A szoba előző foglalásának időtartama": "1"
                                },
                                {
                                    "Szoba azonosítója": "169",
                                    "Foglalás azonosítója": "1356",
                                    "Foglalás időtartama": "4",
                                    "A szoba előző foglalásának időtartama": "1"
                                },
                                {
                                    "Szoba azonosítója": "169",
                                    "Foglalás azonosítója": "573",
                                    "Foglalás időtartama": "5",
                                    "A szoba előző foglalásának időtartama": "4"
                                },
                                {
                                    "Szoba azonosítója": "169",
                                    "Foglalás azonosítója": "659",
                                    "Foglalás időtartama": "6",
                                    "A szoba előző foglalásának időtartama": "5"
                                },
                                {
                                    "Szoba azonosítója": "169",
                                    "Foglalás azonosítója": "746",
                                    "Foglalás időtartama": "7",
                                    "A szoba előző foglalásának időtartama": "6"
                                },
                                {
                                    "Szoba azonosítója": "170",
                                    "Foglalás azonosítója": "944",
                                    "Foglalás időtartama": "4",
                                    "A szoba előző foglalásának időtartama": "0"
                                },
                                {
                                    "Szoba azonosítója": "170",
                                    "Foglalás azonosítója": "1194",
                                    "Foglalás időtartama": "4",
                                    "A szoba előző foglalásának időtartama": "4"
                                },
                                {
                                    "Szoba azonosítója": "170",
                                    "Foglalás azonosítója": "1342",
                                    "Foglalás időtartama": "6",
                                    "A szoba előző foglalásának időtartama": "4"
                                },
                                {
                                    "Szoba azonosítója": "170",
                                    "Foglalás azonosítója": "1267",
                                    "Foglalás időtartama": "7",
                                    "A szoba előző foglalásának időtartama": "6"
                                },
                                {
                                    "Szoba azonosítója": "170",
                                    "Foglalás azonosítója": "567",
                                    "Foglalás időtartama": "7",
                                    "A szoba előző foglalásának időtartama": "7"
                                },
                                {
                                    "Szoba azonosítója": "171",
                                    "Foglalás azonosítója": "574",
                                    "Foglalás időtartama": "2",
                                    "A szoba előző foglalásának időtartama": "0"
                                },
                                {
                                    "Szoba azonosítója": "171",
                                    "Foglalás azonosítója": "981",
                                    "Foglalás időtartama": "4",
                                    "A szoba előző foglalásának időtartama": "2"
                                },
                                {
                                    "Szoba azonosítója": "171",
                                    "Foglalás azonosítója": "1329",
                                    "Foglalás időtartama": "5",
                                    "A szoba előző foglalásának időtartama": "4"
                                },
                                {
                                    "Szoba azonosítója": "171",
                                    "Foglalás azonosítója": "1181",
                                    "Foglalás időtartama": "6",
                                    "A szoba előző foglalásának időtartama": "5"
                                },
                                {
                                    "Szoba azonosítója": "171",
                                    "Foglalás azonosítója": "1567",
                                    "Foglalás időtartama": "6",
                                    "A szoba előző foglalásának időtartama": "6"
                                },
                                {
                                    "Szoba azonosítója": "172",
                                    "Foglalás azonosítója": "1491",
                                    "Foglalás időtartama": "2",
                                    "A szoba előző foglalásának időtartama": "0"
                                },
                                {
                                    "Szoba azonosítója": "172",
                                    "Foglalás azonosítója": "1142",
                                    "Foglalás időtartama": "4",
                                    "A szoba előző foglalásának időtartama": "2"
                                },
                                {
                                    "Szoba azonosítója": "172",
                                    "Foglalás azonosítója": "984",
                                    "Foglalás időtartama": "4",
                                    "A szoba előző foglalásának időtartama": "4"
                                },
                                {
                                    "Szoba azonosítója": "172",
                                    "Foglalás azonosítója": "709",
                                    "Foglalás időtartama": "5",
                                    "A szoba előző foglalásának időtartama": "4"
                                },
                                {
                                    "Szoba azonosítója": "172",
                                    "Foglalás azonosítója": "839",
                                    "Foglalás időtartama": "5",
                                    "A szoba előző foglalásának időtartama": "5"
                                },
                                {
                                    "Szoba azonosítója": "172",
                                    "Foglalás azonosítója": "1171",
                                    "Foglalás időtartama": "5",
                                    "A szoba előző foglalásának időtartama": "5"
                                },
                                {
                                    "Szoba azonosítója": "172",
                                    "Foglalás azonosítója": "1336",
                                    "Foglalás időtartama": "5",
                                    "A szoba előző foglalásának időtartama": "5"
                                },
                                {
                                    "Szoba azonosítója": "172",
                                    "Foglalás azonosítója": "1421",
                                    "Foglalás időtartama": "5",
                                    "A szoba előző foglalásának időtartama": "5"
                                },
                                {
                                    "Szoba azonosítója": "172",
                                    "Foglalás azonosítója": "749",
                                    "Foglalás időtartama": "6",
                                    "A szoba előző foglalásának időtartama": "5"
                                },
                                {
                                    "Szoba azonosítója": "173",
                                    "Foglalás azonosítója": "913",
                                    "Foglalás időtartama": "1",
                                    "A szoba előző foglalásának időtartama": "0"
                                },
                                {
                                    "Szoba azonosítója": "173",
                                    "Foglalás azonosítója": "1350",
                                    "Foglalás időtartama": "3",
                                    "A szoba előző foglalásának időtartama": "1"
                                },
                                {
                                    "Szoba azonosítója": "173",
                                    "Foglalás azonosítója": "1429",
                                    "Foglalás időtartama": "4",
                                    "A szoba előző foglalásának időtartama": "3"
                                },
                                {
                                    "Szoba azonosítója": "173",
                                    "Foglalás azonosítója": "669",
                                    "Foglalás időtartama": "7",
                                    "A szoba előző foglalásának időtartama": "4"
                                },
                                {
                                    "Szoba azonosítója": "174",
                                    "Foglalás azonosítója": "1276",
                                    "Foglalás időtartama": "1",
                                    "A szoba előző foglalásának időtartama": "0"
                                },
                                {
                                    "Szoba azonosítója": "174",
                                    "Foglalás azonosítója": "917",
                                    "Foglalás időtartama": "2",
                                    "A szoba előző foglalásának időtartama": "1"
                                },
                                {
                                    "Szoba azonosítója": "174",
                                    "Foglalás azonosítója": "682",
                                    "Foglalás időtartama": "3",
                                    "A szoba előző foglalásának időtartama": "2"
                                },
                                {
                                    "Szoba azonosítója": "174",
                                    "Foglalás azonosítója": "1015",
                                    "Foglalás időtartama": "5",
                                    "A szoba előző foglalásának időtartama": "3"
                                },
                                {
                                    "Szoba azonosítója": "175",
                                    "Foglalás azonosítója": "1133",
                                    "Foglalás időtartama": "2",
                                    "A szoba előző foglalásának időtartama": "0"
                                },
                                {
                                    "Szoba azonosítója": "175",
                                    "Foglalás azonosítója": "799",
                                    "Foglalás időtartama": "4",
                                    "A szoba előző foglalásának időtartama": "2"
                                },
                                {
                                    "Szoba azonosítója": "175",
                                    "Foglalás azonosítója": "1094",
                                    "Foglalás időtartama": "5",
                                    "A szoba előző foglalásának időtartama": "4"
                                },
                                {
                                    "Szoba azonosítója": "175",
                                    "Foglalás azonosítója": "867",
                                    "Foglalás időtartama": "6",
                                    "A szoba előző foglalásának időtartama": "5"
                                },
                                {
                                    "Szoba azonosítója": "175",
                                    "Foglalás azonosítója": "1407",
                                    "Foglalás időtartama": "7",
                                    "A szoba előző foglalásának időtartama": "6"
                                },
                                {
                                    "Szoba azonosítója": "176",
                                    "Foglalás azonosítója": "1511",
                                    "Foglalás időtartama": "2",
                                    "A szoba előző foglalásának időtartama": "0"
                                },
                                {
                                    "Szoba azonosítója": "176",
                                    "Foglalás azonosítója": "1570",
                                    "Foglalás időtartama": "3",
                                    "A szoba előző foglalásának időtartama": "2"
                                },
                                {
                                    "Szoba azonosítója": "176",
                                    "Foglalás azonosítója": "1383",
                                    "Foglalás időtartama": "4",
                                    "A szoba előző foglalásának időtartama": "3"
                                },
                                {
                                    "Szoba azonosítója": "176",
                                    "Foglalás azonosítója": "592",
                                    "Foglalás időtartama": "5",
                                    "A szoba előző foglalásának időtartama": "4"
                                },
                                {
                                    "Szoba azonosítója": "176",
                                    "Foglalás azonosítója": "1278",
                                    "Foglalás időtartama": "6",
                                    "A szoba előző foglalásának időtartama": "5"
                                },
                                {
                                    "Szoba azonosítója": "176",
                                    "Foglalás azonosítója": "1143",
                                    "Foglalás időtartama": "6",
                                    "A szoba előző foglalásának időtartama": "6"
                                },
                                {
                                    "Szoba azonosítója": "177",
                                    "Foglalás azonosítója": "1176",
                                    "Foglalás időtartama": "3",
                                    "A szoba előző foglalásának időtartama": "0"
                                },
                                {
                                    "Szoba azonosítója": "177",
                                    "Foglalás azonosítója": "1503",
                                    "Foglalás időtartama": "3",
                                    "A szoba előző foglalásának időtartama": "3"
                                },
                                {
                                    "Szoba azonosítója": "177",
                                    "Foglalás azonosítója": "785",
                                    "Foglalás időtartama": "3",
                                    "A szoba előző foglalásának időtartama": "3"
                                },
                                {
                                    "Szoba azonosítója": "177",
                                    "Foglalás azonosítója": "831",
                                    "Foglalás időtartama": "7",
                                    "A szoba előző foglalásának időtartama": "3"
                                },
                                {
                                    "Szoba azonosítója": "178",
                                    "Foglalás azonosítója": "1242",
                                    "Foglalás időtartama": "1",
                                    "A szoba előző foglalásának időtartama": "0"
                                },
                                {
                                    "Szoba azonosítója": "178",
                                    "Foglalás azonosítója": "1211",
                                    "Foglalás időtartama": "3",
                                    "A szoba előző foglalásának időtartama": "1"
                                },
                                {
                                    "Szoba azonosítója": "178",
                                    "Foglalás azonosítója": "816",
                                    "Foglalás időtartama": "4",
                                    "A szoba előző foglalásának időtartama": "3"
                                },
                                {
                                    "Szoba azonosítója": "178",
                                    "Foglalás azonosítója": "991",
                                    "Foglalás időtartama": "7",
                                    "A szoba előző foglalásának időtartama": "4"
                                },
                                {
                                    "Szoba azonosítója": "179",
                                    "Foglalás azonosítója": "1021",
                                    "Foglalás időtartama": "1",
                                    "A szoba előző foglalásának időtartama": "0"
                                },
                                {
                                    "Szoba azonosítója": "179",
                                    "Foglalás azonosítója": "1497",
                                    "Foglalás időtartama": "1",
                                    "A szoba előző foglalásának időtartama": "1"
                                },
                                {
                                    "Szoba azonosítója": "179",
                                    "Foglalás azonosítója": "662",
                                    "Foglalás időtartama": "2",
                                    "A szoba előző foglalásának időtartama": "1"
                                },
                                {
                                    "Szoba azonosítója": "180",
                                    "Foglalás azonosítója": "1559",
                                    "Foglalás időtartama": "3",
                                    "A szoba előző foglalásának időtartama": "0"
                                },
                                {
                                    "Szoba azonosítója": "180",
                                    "Foglalás azonosítója": "905",
                                    "Foglalás időtartama": "5",
                                    "A szoba előző foglalásának időtartama": "3"
                                },
                                {
                                    "Szoba azonosítója": "180",
                                    "Foglalás azonosítója": "1563",
                                    "Foglalás időtartama": "6",
                                    "A szoba előző foglalásának időtartama": "5"
                                },
                                {
                                    "Szoba azonosítója": "181",
                                    "Foglalás azonosítója": "1022",
                                    "Foglalás időtartama": "1",
                                    "A szoba előző foglalásának időtartama": "0"
                                },
                                {
                                    "Szoba azonosítója": "181",
                                    "Foglalás azonosítója": "937",
                                    "Foglalás időtartama": "3",
                                    "A szoba előző foglalásának időtartama": "1"
                                },
                                {
                                    "Szoba azonosítója": "181",
                                    "Foglalás azonosítója": "677",
                                    "Foglalás időtartama": "4",
                                    "A szoba előző foglalásának időtartama": "3"
                                },
                                {
                                    "Szoba azonosítója": "181",
                                    "Foglalás azonosítója": "958",
                                    "Foglalás időtartama": "5",
                                    "A szoba előző foglalásának időtartama": "4"
                                },
                                {
                                    "Szoba azonosítója": "181",
                                    "Foglalás azonosítója": "731",
                                    "Foglalás időtartama": "6",
                                    "A szoba előző foglalásának időtartama": "5"
                                },
                                {
                                    "Szoba azonosítója": "181",
                                    "Foglalás azonosítója": "1346",
                                    "Foglalás időtartama": "6",
                                    "A szoba előző foglalásának időtartama": "6"
                                },
                                {
                                    "Szoba azonosítója": "182",
                                    "Foglalás azonosítója": "1308",
                                    "Foglalás időtartama": "1",
                                    "A szoba előző foglalásának időtartama": "0"
                                },
                                {
                                    "Szoba azonosítója": "182",
                                    "Foglalás azonosítója": "1188",
                                    "Foglalás időtartama": "1",
                                    "A szoba előző foglalásának időtartama": "1"
                                },
                                {
                                    "Szoba azonosítója": "182",
                                    "Foglalás azonosítója": "571",
                                    "Foglalás időtartama": "2",
                                    "A szoba előző foglalásának időtartama": "1"
                                },
                                {
                                    "Szoba azonosítója": "182",
                                    "Foglalás azonosítója": "928",
                                    "Foglalás időtartama": "2",
                                    "A szoba előző foglalásának időtartama": "2"
                                },
                                {
                                    "Szoba azonosítója": "182",
                                    "Foglalás azonosítója": "740",
                                    "Foglalás időtartama": "3",
                                    "A szoba előző foglalásának időtartama": "2"
                                },
                                {
                                    "Szoba azonosítója": "182",
                                    "Foglalás azonosítója": "1317",
                                    "Foglalás időtartama": "3",
                                    "A szoba előző foglalásának időtartama": "3"
                                },
                                {
                                    "Szoba azonosítója": "182",
                                    "Foglalás azonosítója": "1422",
                                    "Foglalás időtartama": "3",
                                    "A szoba előző foglalásának időtartama": "3"
                                },
                                {
                                    "Szoba azonosítója": "182",
                                    "Foglalás azonosítója": "1326",
                                    "Foglalás időtartama": "4",
                                    "A szoba előző foglalásának időtartama": "3"
                                },
                                {
                                    "Szoba azonosítója": "182",
                                    "Foglalás azonosítója": "1410",
                                    "Foglalás időtartama": "4",
                                    "A szoba előző foglalásának időtartama": "4"
                                },
                                {
                                    "Szoba azonosítója": "182",
                                    "Foglalás azonosítója": "1231",
                                    "Foglalás időtartama": "4",
                                    "A szoba előző foglalásának időtartama": "4"
                                },
                                {
                                    "Szoba azonosítója": "182",
                                    "Foglalás azonosítója": "1008",
                                    "Foglalás időtartama": "6",
                                    "A szoba előző foglalásának időtartama": "4"
                                },
                                {
                                    "Szoba azonosítója": "182",
                                    "Foglalás azonosítója": "1230",
                                    "Foglalás időtartama": "7",
                                    "A szoba előző foglalásának időtartama": "6"
                                },
                                {
                                    "Szoba azonosítója": "183",
                                    "Foglalás azonosítója": "1147",
                                    "Foglalás időtartama": "4",
                                    "A szoba előző foglalásának időtartama": "0"
                                },
                                {
                                    "Szoba azonosítója": "183",
                                    "Foglalás azonosítója": "1437",
                                    "Foglalás időtartama": "4",
                                    "A szoba előző foglalásának időtartama": "4"
                                },
                                {
                                    "Szoba azonosítója": "183",
                                    "Foglalás azonosítója": "939",
                                    "Foglalás időtartama": "4",
                                    "A szoba előző foglalásának időtartama": "4"
                                },
                                {
                                    "Szoba azonosítója": "183",
                                    "Foglalás azonosítója": "1067",
                                    "Foglalás időtartama": "7",
                                    "A szoba előző foglalásának időtartama": "4"
                                },
                                {
                                    "Szoba azonosítója": "184",
                                    "Foglalás azonosítója": "608",
                                    "Foglalás időtartama": "2",
                                    "A szoba előző foglalásának időtartama": "0"
                                },
                                {
                                    "Szoba azonosítója": "184",
                                    "Foglalás azonosítója": "684",
                                    "Foglalás időtartama": "3",
                                    "A szoba előző foglalásának időtartama": "2"
                                },
                                {
                                    "Szoba azonosítója": "184",
                                    "Foglalás azonosítója": "880",
                                    "Foglalás időtartama": "4",
                                    "A szoba előző foglalásának időtartama": "3"
                                },
                                {
                                    "Szoba azonosítója": "184",
                                    "Foglalás azonosítója": "1251",
                                    "Foglalás időtartama": "4",
                                    "A szoba előző foglalásának időtartama": "4"
                                },
                                {
                                    "Szoba azonosítója": "185",
                                    "Foglalás azonosítója": "693",
                                    "Foglalás időtartama": "2",
                                    "A szoba előző foglalásának időtartama": "0"
                                },
                                {
                                    "Szoba azonosítója": "185",
                                    "Foglalás azonosítója": "672",
                                    "Foglalás időtartama": "3",
                                    "A szoba előző foglalásának időtartama": "2"
                                },
                                {
                                    "Szoba azonosítója": "185",
                                    "Foglalás azonosítója": "711",
                                    "Foglalás időtartama": "3",
                                    "A szoba előző foglalásának időtartama": "3"
                                },
                                {
                                    "Szoba azonosítója": "185",
                                    "Foglalás azonosítója": "1125",
                                    "Foglalás időtartama": "3",
                                    "A szoba előző foglalásának időtartama": "3"
                                },
                                {
                                    "Szoba azonosítója": "185",
                                    "Foglalás azonosítója": "898",
                                    "Foglalás időtartama": "4",
                                    "A szoba előző foglalásának időtartama": "3"
                                },
                                {
                                    "Szoba azonosítója": "185",
                                    "Foglalás azonosítója": "863",
                                    "Foglalás időtartama": "4",
                                    "A szoba előző foglalásának időtartama": "4"
                                },
                                {
                                    "Szoba azonosítója": "185",
                                    "Foglalás azonosítója": "679",
                                    "Foglalás időtartama": "5",
                                    "A szoba előző foglalásának időtartama": "4"
                                },
                                {
                                    "Szoba azonosítója": "185",
                                    "Foglalás azonosítója": "1183",
                                    "Foglalás időtartama": "5",
                                    "A szoba előző foglalásának időtartama": "5"
                                },
                                {
                                    "Szoba azonosítója": "185",
                                    "Foglalás azonosítója": "578",
                                    "Foglalás időtartama": "6",
                                    "A szoba előző foglalásának időtartama": "5"
                                },
                                {
                                    "Szoba azonosítója": "185",
                                    "Foglalás azonosítója": "925",
                                    "Foglalás időtartama": "6",
                                    "A szoba előző foglalásának időtartama": "6"
                                },
                                {
                                    "Szoba azonosítója": "185",
                                    "Foglalás azonosítója": "1441",
                                    "Foglalás időtartama": "7",
                                    "A szoba előző foglalásának időtartama": "6"
                                },
                                {
                                    "Szoba azonosítója": "185",
                                    "Foglalás azonosítója": "1463",
                                    "Foglalás időtartama": "7",
                                    "A szoba előző foglalásának időtartama": "7"
                                },
                                {
                                    "Szoba azonosítója": "186",
                                    "Foglalás azonosítója": "1248",
                                    "Foglalás időtartama": "2",
                                    "A szoba előző foglalásának időtartama": "0"
                                },
                                {
                                    "Szoba azonosítója": "186",
                                    "Foglalás azonosítója": "1153",
                                    "Foglalás időtartama": "3",
                                    "A szoba előző foglalásának időtartama": "2"
                                },
                                {
                                    "Szoba azonosítója": "186",
                                    "Foglalás azonosítója": "1467",
                                    "Foglalás időtartama": "3",
                                    "A szoba előző foglalásának időtartama": "3"
                                },
                                {
                                    "Szoba azonosítója": "186",
                                    "Foglalás azonosítója": "615",
                                    "Foglalás időtartama": "3",
                                    "A szoba előző foglalásának időtartama": "3"
                                },
                                {
                                    "Szoba azonosítója": "187",
                                    "Foglalás azonosítója": "766",
                                    "Foglalás időtartama": "1",
                                    "A szoba előző foglalásának időtartama": "0"
                                },
                                {
                                    "Szoba azonosítója": "187",
                                    "Foglalás azonosítója": "743",
                                    "Foglalás időtartama": "2",
                                    "A szoba előző foglalásának időtartama": "1"
                                },
                                {
                                    "Szoba azonosítója": "187",
                                    "Foglalás azonosítója": "1404",
                                    "Foglalás időtartama": "2",
                                    "A szoba előző foglalásának időtartama": "2"
                                },
                                {
                                    "Szoba azonosítója": "187",
                                    "Foglalás azonosítója": "957",
                                    "Foglalás időtartama": "4",
                                    "A szoba előző foglalásának időtartama": "2"
                                },
                                {
                                    "Szoba azonosítója": "187",
                                    "Foglalás azonosítója": "868",
                                    "Foglalás időtartama": "4",
                                    "A szoba előző foglalásának időtartama": "4"
                                },
                                {
                                    "Szoba azonosítója": "187",
                                    "Foglalás azonosítója": "695",
                                    "Foglalás időtartama": "6",
                                    "A szoba előző foglalásának időtartama": "4"
                                },
                                {
                                    "Szoba azonosítója": "187",
                                    "Foglalás azonosítója": "633",
                                    "Foglalás időtartama": "6",
                                    "A szoba előző foglalásának időtartama": "6"
                                },
                                {
                                    "Szoba azonosítója": "188",
                                    "Foglalás azonosítója": "912",
                                    "Foglalás időtartama": "1",
                                    "A szoba előző foglalásának időtartama": "0"
                                },
                                {
                                    "Szoba azonosítója": "188",
                                    "Foglalás azonosítója": "747",
                                    "Foglalás időtartama": "3",
                                    "A szoba előző foglalásának időtartama": "1"
                                },
                                {
                                    "Szoba azonosítója": "188",
                                    "Foglalás azonosítója": "690",
                                    "Foglalás időtartama": "4",
                                    "A szoba előző foglalásának időtartama": "3"
                                },
                                {
                                    "Szoba azonosítója": "188",
                                    "Foglalás azonosítója": "1030",
                                    "Foglalás időtartama": "4",
                                    "A szoba előző foglalásának időtartama": "4"
                                },
                                {
                                    "Szoba azonosítója": "188",
                                    "Foglalás azonosítója": "1390",
                                    "Foglalás időtartama": "5",
                                    "A szoba előző foglalásának időtartama": "4"
                                },
                                {
                                    "Szoba azonosítója": "188",
                                    "Foglalás azonosítója": "710",
                                    "Foglalás időtartama": "7",
                                    "A szoba előző foglalásának időtartama": "5"
                                },
                                {
                                    "Szoba azonosítója": "189",
                                    "Foglalás azonosítója": "753",
                                    "Foglalás időtartama": "1",
                                    "A szoba előző foglalásának időtartama": "0"
                                },
                                {
                                    "Szoba azonosítója": "189",
                                    "Foglalás azonosítója": "699",
                                    "Foglalás időtartama": "2",
                                    "A szoba előző foglalásának időtartama": "1"
                                },
                                {
                                    "Szoba azonosítója": "189",
                                    "Foglalás azonosítója": "1204",
                                    "Foglalás időtartama": "2",
                                    "A szoba előző foglalásának időtartama": "2"
                                },
                                {
                                    "Szoba azonosítója": "189",
                                    "Foglalás azonosítója": "1449",
                                    "Foglalás időtartama": "2",
                                    "A szoba előző foglalásának időtartama": "2"
                                },
                                {
                                    "Szoba azonosítója": "189",
                                    "Foglalás azonosítója": "1576",
                                    "Foglalás időtartama": "3",
                                    "A szoba előző foglalásának időtartama": "2"
                                },
                                {
                                    "Szoba azonosítója": "190",
                                    "Foglalás azonosítója": "1017",
                                    "Foglalás időtartama": "1",
                                    "A szoba előző foglalásának időtartama": "0"
                                },
                                {
                                    "Szoba azonosítója": "190",
                                    "Foglalás azonosítója": "989",
                                    "Foglalás időtartama": "1",
                                    "A szoba előző foglalásának időtartama": "1"
                                },
                                {
                                    "Szoba azonosítója": "190",
                                    "Foglalás azonosítója": "774",
                                    "Foglalás időtartama": "5",
                                    "A szoba előző foglalásának időtartama": "1"
                                },
                                {
                                    "Szoba azonosítója": "190",
                                    "Foglalás azonosítója": "1517",
                                    "Foglalás időtartama": "5",
                                    "A szoba előző foglalásának időtartama": "5"
                                },
                                {
                                    "Szoba azonosítója": "190",
                                    "Foglalás azonosítója": "600",
                                    "Foglalás időtartama": "7",
                                    "A szoba előző foglalásának időtartama": "5"
                                },
                                {
                                    "Szoba azonosítója": "191",
                                    "Foglalás azonosítója": "1302",
                                    "Foglalás időtartama": "1",
                                    "A szoba előző foglalásának időtartama": "0"
                                },
                                {
                                    "Szoba azonosítója": "191",
                                    "Foglalás azonosítója": "1502",
                                    "Foglalás időtartama": "2",
                                    "A szoba előző foglalásának időtartama": "1"
                                },
                                {
                                    "Szoba azonosítója": "191",
                                    "Foglalás azonosítója": "1039",
                                    "Foglalás időtartama": "6",
                                    "A szoba előző foglalásának időtartama": "2"
                                },
                                {
                                    "Szoba azonosítója": "191",
                                    "Foglalás azonosítója": "1508",
                                    "Foglalás időtartama": "7",
                                    "A szoba előző foglalásának időtartama": "6"
                                },
                                {
                                    "Szoba azonosítója": "191",
                                    "Foglalás azonosítója": "1323",
                                    "Foglalás időtartama": "7",
                                    "A szoba előző foglalásának időtartama": "7"
                                },
                                {
                                    "Szoba azonosítója": "192",
                                    "Foglalás azonosítója": "680",
                                    "Foglalás időtartama": "4",
                                    "A szoba előző foglalásának időtartama": "0"
                                },
                                {
                                    "Szoba azonosítója": "192",
                                    "Foglalás azonosítója": "903",
                                    "Foglalás időtartama": "7",
                                    "A szoba előző foglalásának időtartama": "4"
                                },
                                {
                                    "Szoba azonosítója": "193",
                                    "Foglalás azonosítója": "926",
                                    "Foglalás időtartama": "1",
                                    "A szoba előző foglalásának időtartama": "0"
                                },
                                {
                                    "Szoba azonosítója": "193",
                                    "Foglalás azonosítója": "977",
                                    "Foglalás időtartama": "2",
                                    "A szoba előző foglalásának időtartama": "1"
                                },
                                {
                                    "Szoba azonosítója": "193",
                                    "Foglalás azonosítója": "675",
                                    "Foglalás időtartama": "2",
                                    "A szoba előző foglalásának időtartama": "2"
                                },
                                {
                                    "Szoba azonosítója": "193",
                                    "Foglalás azonosítója": "835",
                                    "Foglalás időtartama": "2",
                                    "A szoba előző foglalásának időtartama": "2"
                                },
                                {
                                    "Szoba azonosítója": "193",
                                    "Foglalás azonosítója": "634",
                                    "Foglalás időtartama": "6",
                                    "A szoba előző foglalásának időtartama": "2"
                                },
                                {
                                    "Szoba azonosítója": "193",
                                    "Foglalás azonosítója": "1043",
                                    "Foglalás időtartama": "6",
                                    "A szoba előző foglalásának időtartama": "6"
                                },
                                {
                                    "Szoba azonosítója": "193",
                                    "Foglalás azonosítója": "1238",
                                    "Foglalás időtartama": "6",
                                    "A szoba előző foglalásának időtartama": "6"
                                },
                                {
                                    "Szoba azonosítója": "194",
                                    "Foglalás azonosítója": "1095",
                                    "Foglalás időtartama": "5",
                                    "A szoba előző foglalásának időtartama": "0"
                                },
                                {
                                    "Szoba azonosítója": "195",
                                    "Foglalás azonosítója": "1484",
                                    "Foglalás időtartama": "1",
                                    "A szoba előző foglalásának időtartama": "0"
                                },
                                {
                                    "Szoba azonosítója": "195",
                                    "Foglalás azonosítója": "842",
                                    "Foglalás időtartama": "4",
                                    "A szoba előző foglalásának időtartama": "1"
                                },
                                {
                                    "Szoba azonosítója": "195",
                                    "Foglalás azonosítója": "721",
                                    "Foglalás időtartama": "4",
                                    "A szoba előző foglalásának időtartama": "4"
                                },
                                {
                                    "Szoba azonosítója": "195",
                                    "Foglalás azonosítója": "1184",
                                    "Foglalás időtartama": "5",
                                    "A szoba előző foglalásának időtartama": "4"
                                },
                                {
                                    "Szoba azonosítója": "195",
                                    "Foglalás azonosítója": "1473",
                                    "Foglalás időtartama": "7",
                                    "A szoba előző foglalásának időtartama": "5"
                                },
                                {
                                    "Szoba azonosítója": "195",
                                    "Foglalás azonosítója": "1074",
                                    "Foglalás időtartama": "7",
                                    "A szoba előző foglalásának időtartama": "7"
                                },
                                {
                                    "Szoba azonosítója": "196",
                                    "Foglalás azonosítója": "952",
                                    "Foglalás időtartama": "3",
                                    "A szoba előző foglalásának időtartama": "0"
                                },
                                {
                                    "Szoba azonosítója": "196",
                                    "Foglalás azonosítója": "673",
                                    "Foglalás időtartama": "5",
                                    "A szoba előző foglalásának időtartama": "3"
                                },
                                {
                                    "Szoba azonosítója": "196",
                                    "Foglalás azonosítója": "1314",
                                    "Foglalás időtartama": "5",
                                    "A szoba előző foglalásának időtartama": "5"
                                },
                                {
                                    "Szoba azonosítója": "196",
                                    "Foglalás azonosítója": "1340",
                                    "Foglalás időtartama": "5",
                                    "A szoba előző foglalásának időtartama": "5"
                                },
                                {
                                    "Szoba azonosítója": "197",
                                    "Foglalás azonosítója": "1387",
                                    "Foglalás időtartama": "3",
                                    "A szoba előző foglalásának időtartama": "0"
                                },
                                {
                                    "Szoba azonosítója": "197",
                                    "Foglalás azonosítója": "1304",
                                    "Foglalás időtartama": "7",
                                    "A szoba előző foglalásának időtartama": "3"
                                },
                                {
                                    "Szoba azonosítója": "197",
                                    "Foglalás azonosítója": "1172",
                                    "Foglalás időtartama": "7",
                                    "A szoba előző foglalásának időtartama": "7"
                                },
                                {
                                    "Szoba azonosítója": "197",
                                    "Foglalás azonosítója": "764",
                                    "Foglalás időtartama": "7",
                                    "A szoba előző foglalásának időtartama": "7"
                                },
                                {
                                    "Szoba azonosítója": "197",
                                    "Foglalás azonosítója": "1091",
                                    "Foglalás időtartama": "7",
                                    "A szoba előző foglalásának időtartama": "7"
                                },
                                {
                                    "Szoba azonosítója": "197",
                                    "Foglalás azonosítója": "993",
                                    "Foglalás időtartama": "7",
                                    "A szoba előző foglalásának időtartama": "7"
                                },
                                {
                                    "Szoba azonosítója": "198",
                                    "Foglalás azonosítója": "1116",
                                    "Foglalás időtartama": "1",
                                    "A szoba előző foglalásának időtartama": "0"
                                },
                                {
                                    "Szoba azonosítója": "198",
                                    "Foglalás azonosítója": "978",
                                    "Foglalás időtartama": "1",
                                    "A szoba előző foglalásának időtartama": "1"
                                },
                                {
                                    "Szoba azonosítója": "198",
                                    "Foglalás azonosítója": "1065",
                                    "Foglalás időtartama": "3",
                                    "A szoba előző foglalásának időtartama": "1"
                                },
                                {
                                    "Szoba azonosítója": "198",
                                    "Foglalás azonosítója": "1138",
                                    "Foglalás időtartama": "5",
                                    "A szoba előző foglalásának időtartama": "3"
                                },
                                {
                                    "Szoba azonosítója": "198",
                                    "Foglalás azonosítója": "1161",
                                    "Foglalás időtartama": "5",
                                    "A szoba előző foglalásának időtartama": "5"
                                },
                                {
                                    "Szoba azonosítója": "198",
                                    "Foglalás azonosítója": "1420",
                                    "Foglalás időtartama": "5",
                                    "A szoba előző foglalásának időtartama": "5"
                                },
                                {
                                    "Szoba azonosítója": "198",
                                    "Foglalás azonosítója": "1216",
                                    "Foglalás időtartama": "7",
                                    "A szoba előző foglalásának időtartama": "5"
                                },
                                {
                                    "Szoba azonosítója": "198",
                                    "Foglalás azonosítója": "1011",
                                    "Foglalás időtartama": "7",
                                    "A szoba előző foglalásának időtartama": "7"
                                }
                            ]
                        },
                        "text/html": [
                            "<table>",
                            "<tr><th>Szoba azonosítója</th><th>Foglalás azonosítója</th><th>Foglalás időtartama</th><th>A szoba előző foglalásának időtartama</th></tr>",
                            "<tr><td>1</td><td>949</td><td>1</td><td>0</td></tr>",
                            "<tr><td>1</td><td>1152</td><td>1</td><td>1</td></tr>",
                            "<tr><td>1</td><td>1274</td><td>1</td><td>1</td></tr>",
                            "<tr><td>1</td><td>1137</td><td>2</td><td>1</td></tr>",
                            "<tr><td>1</td><td>1334</td><td>4</td><td>2</td></tr>",
                            "<tr><td>1</td><td>803</td><td>4</td><td>4</td></tr>",
                            "<tr><td>1</td><td>620</td><td>5</td><td>4</td></tr>",
                            "<tr><td>1</td><td>738</td><td>7</td><td>5</td></tr>",
                            "<tr><td>2</td><td>1051</td><td>1</td><td>0</td></tr>",
                            "<tr><td>2</td><td>828</td><td>3</td><td>1</td></tr>",
                            "<tr><td>2</td><td>1069</td><td>7</td><td>3</td></tr>",
                            "<tr><td>2</td><td>1311</td><td>7</td><td>7</td></tr>",
                            "<tr><td>3</td><td>1151</td><td>1</td><td>0</td></tr>",
                            "<tr><td>3</td><td>1038</td><td>3</td><td>1</td></tr>",
                            "<tr><td>3</td><td>629</td><td>4</td><td>3</td></tr>",
                            "<tr><td>3</td><td>1434</td><td>5</td><td>4</td></tr>",
                            "<tr><td>3</td><td>1544</td><td>5</td><td>5</td></tr>",
                            "<tr><td>3</td><td>666</td><td>6</td><td>5</td></tr>",
                            "<tr><td>3</td><td>788</td><td>6</td><td>6</td></tr>",
                            "<tr><td>3</td><td>1110</td><td>7</td><td>6</td></tr>",
                            "<tr><td>4</td><td>1127</td><td>3</td><td>0</td></tr>",
                            "<tr><td>4</td><td>946</td><td>5</td><td>3</td></tr>",
                            "<tr><td>4</td><td>1492</td><td>6</td><td>5</td></tr>",
                            "<tr><td>4</td><td>1132</td><td>6</td><td>6</td></tr>",
                            "<tr><td>4</td><td>1001</td><td>7</td><td>6</td></tr>",
                            "<tr><td>4</td><td>651</td><td>7</td><td>7</td></tr>",
                            "<tr><td>5</td><td>564</td><td>2</td><td>0</td></tr>",
                            "<tr><td>5</td><td>1257</td><td>3</td><td>2</td></tr>",
                            "<tr><td>5</td><td>1073</td><td>5</td><td>3</td></tr>",
                            "<tr><td>5</td><td>965</td><td>7</td><td>5</td></tr>",
                            "<tr><td>6</td><td>850</td><td>2</td><td>0</td></tr>",
                            "<tr><td>6</td><td>873</td><td>3</td><td>2</td></tr>",
                            "<tr><td>6</td><td>1099</td><td>4</td><td>3</td></tr>",
                            "<tr><td>6</td><td>990</td><td>4</td><td>4</td></tr>",
                            "<tr><td>6</td><td>560</td><td>6</td><td>4</td></tr>",
                            "<tr><td>6</td><td>772</td><td>6</td><td>6</td></tr>",
                            "<tr><td>7</td><td>1131</td><td>1</td><td>0</td></tr>",
                            "<tr><td>7</td><td>1252</td><td>2</td><td>1</td></tr>",
                            "<tr><td>7</td><td>1175</td><td>4</td><td>2</td></tr>",
                            "<tr><td>7</td><td>1182</td><td>4</td><td>4</td></tr>",
                            "<tr><td>7</td><td>562</td><td>4</td><td>4</td></tr>",
                            "<tr><td>7</td><td>759</td><td>7</td><td>4</td></tr>",
                            "<tr><td>8</td><td>882</td><td>1</td><td>0</td></tr>",
                            "<tr><td>8</td><td>947</td><td>3</td><td>1</td></tr>",
                            "<tr><td>8</td><td>832</td><td>4</td><td>3</td></tr>",
                            "<tr><td>8</td><td>818</td><td>4</td><td>4</td></tr>",
                            "<tr><td>8</td><td>694</td><td>4</td><td>4</td></tr>",
                            "<tr><td>9</td><td>609</td><td>2</td><td>0</td></tr>",
                            "<tr><td>9</td><td>1220</td><td>3</td><td>2</td></tr>",
                            "<tr><td>9</td><td>1537</td><td>3</td><td>3</td></tr>",
                            "<tr><td>9</td><td>1423</td><td>3</td><td>3</td></tr>",
                            "<tr><td>9</td><td>1260</td><td>6</td><td>3</td></tr>",
                            "<tr><td>9</td><td>1157</td><td>6</td><td>6</td></tr>",
                            "<tr><td>10</td><td>569</td><td>3</td><td>0</td></tr>",
                            "<tr><td>10</td><td>795</td><td>4</td><td>3</td></tr>",
                            "<tr><td>10</td><td>790</td><td>5</td><td>4</td></tr>",
                            "<tr><td>10</td><td>1319</td><td>6</td><td>5</td></tr>",
                            "<tr><td>11</td><td>1236</td><td>1</td><td>0</td></tr>",
                            "<tr><td>11</td><td>1523</td><td>1</td><td>1</td></tr>",
                            "<tr><td>11</td><td>1123</td><td>5</td><td>1</td></tr>",
                            "<tr><td>11</td><td>918</td><td>6</td><td>5</td></tr>",
                            "<tr><td>12</td><td>970</td><td>2</td><td>0</td></tr>",
                            "<tr><td>12</td><td>697</td><td>2</td><td>2</td></tr>",
                            "<tr><td>12</td><td>1430</td><td>2</td><td>2</td></tr>",
                            "<tr><td>12</td><td>1140</td><td>3</td><td>2</td></tr>",
                            "<tr><td>12</td><td>951</td><td>3</td><td>3</td></tr>",
                            "<tr><td>12</td><td>775</td><td>4</td><td>3</td></tr>",
                            "<tr><td>12</td><td>1020</td><td>5</td><td>4</td></tr>",
                            "<tr><td>12</td><td>1164</td><td>5</td><td>5</td></tr>",
                            "<tr><td>12</td><td>876</td><td>7</td><td>5</td></tr>",
                            "<tr><td>13</td><td>1469</td><td>2</td><td>0</td></tr>",
                            "<tr><td>13</td><td>1347</td><td>3</td><td>2</td></tr>",
                            "<tr><td>13</td><td>763</td><td>4</td><td>3</td></tr>",
                            "<tr><td>13</td><td>1044</td><td>6</td><td>4</td></tr>",
                            "<tr><td>14</td><td>663</td><td>1</td><td>0</td></tr>",
                            "<tr><td>14</td><td>813</td><td>3</td><td>1</td></tr>",
                            "<tr><td>14</td><td>1542</td><td>4</td><td>3</td></tr>",
                            "<tr><td>15</td><td>1244</td><td>1</td><td>0</td></tr>",
                            "<tr><td>15</td><td>1028</td><td>2</td><td>1</td></tr>",
                            "<tr><td>15</td><td>1442</td><td>3</td><td>2</td></tr>",
                            "<tr><td>15</td><td>1129</td><td>4</td><td>3</td></tr>",
                            "<tr><td>15</td><td>1418</td><td>4</td><td>4</td></tr>",
                            "<tr><td>15</td><td>791</td><td>5</td><td>4</td></tr>",
                            "<tr><td>16</td><td>896</td><td>1</td><td>0</td></tr>",
                            "<tr><td>16</td><td>973</td><td>1</td><td>1</td></tr>",
                            "<tr><td>16</td><td>687</td><td>3</td><td>1</td></tr>",
                            "<tr><td>16</td><td>856</td><td>6</td><td>3</td></tr>",
                            "<tr><td>16</td><td>1498</td><td>7</td><td>6</td></tr>",
                            "<tr><td>17</td><td>744</td><td>1</td><td>0</td></tr>",
                            "<tr><td>17</td><td>916</td><td>2</td><td>1</td></tr>",
                            "<tr><td>17</td><td>1549</td><td>3</td><td>2</td></tr>",
                            "<tr><td>17</td><td>1316</td><td>5</td><td>3</td></tr>",
                            "<tr><td>17</td><td>713</td><td>6</td><td>5</td></tr>",
                            "<tr><td>17</td><td>602</td><td>6</td><td>6</td></tr>",
                            "<tr><td>18</td><td>626</td><td>3</td><td>0</td></tr>",
                            "<tr><td>18</td><td>767</td><td>3</td><td>3</td></tr>",
                            "<tr><td>18</td><td>1198</td><td>4</td><td>3</td></tr>",
                            "<tr><td>18</td><td>1173</td><td>6</td><td>4</td></tr>",
                            "<tr><td>18</td><td>1505</td><td>6</td><td>6</td></tr>",
                            "<tr><td>18</td><td>1035</td><td>6</td><td>6</td></tr>",
                            "<tr><td>19</td><td>778</td><td>1</td><td>0</td></tr>",
                            "<tr><td>19</td><td>696</td><td>1</td><td>1</td></tr>",
                            "<tr><td>19</td><td>1533</td><td>1</td><td>1</td></tr>",
                            "<tr><td>19</td><td>1237</td><td>1</td><td>1</td></tr>",
                            "<tr><td>19</td><td>948</td><td>2</td><td>1</td></tr>",
                            "<tr><td>19</td><td>1139</td><td>7</td><td>2</td></tr>",
                            "<tr><td>20</td><td>1070</td><td>1</td><td>0</td></tr>",
                            "<tr><td>20</td><td>820</td><td>1</td><td>1</td></tr>",
                            "<tr><td>20</td><td>1106</td><td>2</td><td>1</td></tr>",
                            "<tr><td>20</td><td>1114</td><td>5</td><td>2</td></tr>",
                            "<tr><td>20</td><td>755</td><td>6</td><td>5</td></tr>",
                            "<tr><td>21</td><td>805</td><td>1</td><td>0</td></tr>",
                            "<tr><td>21</td><td>660</td><td>5</td><td>1</td></tr>",
                            "<tr><td>21</td><td>566</td><td>6</td><td>5</td></tr>",
                            "<tr><td>21</td><td>1212</td><td>6</td><td>6</td></tr>",
                            "<tr><td>22</td><td>1130</td><td>1</td><td>0</td></tr>",
                            "<tr><td>22</td><td>906</td><td>1</td><td>1</td></tr>",
                            "<tr><td>22</td><td>1005</td><td>3</td><td>1</td></tr>",
                            "<tr><td>22</td><td>1287</td><td>3</td><td>3</td></tr>",
                            "<tr><td>22</td><td>1195</td><td>6</td><td>3</td></tr>",
                            "<tr><td>22</td><td>1206</td><td>7</td><td>6</td></tr>",
                            "<tr><td>23</td><td>848</td><td>1</td><td>0</td></tr>",
                            "<tr><td>23</td><td>934</td><td>1</td><td>1</td></tr>",
                            "<tr><td>23</td><td>945</td><td>7</td><td>1</td></tr>",
                            "<tr><td>24</td><td>1167</td><td>1</td><td>0</td></tr>",
                            "<tr><td>24</td><td>852</td><td>2</td><td>1</td></tr>",
                            "<tr><td>24</td><td>1415</td><td>3</td><td>2</td></tr>",
                            "<tr><td>25</td><td>1362</td><td>2</td><td>0</td></tr>",
                            "<tr><td>25</td><td>1052</td><td>3</td><td>2</td></tr>",
                            "<tr><td>26</td><td>1158</td><td>2</td><td>0</td></tr>",
                            "<tr><td>26</td><td>1388</td><td>3</td><td>2</td></tr>",
                            "<tr><td>27</td><td>1377</td><td>1</td><td>0</td></tr>",
                            "<tr><td>27</td><td>1476</td><td>1</td><td>1</td></tr>",
                            "<tr><td>27</td><td>1031</td><td>2</td><td>1</td></tr>",
                            "<tr><td>27</td><td>807</td><td>2</td><td>2</td></tr>",
                            "<tr><td>27</td><td>758</td><td>3</td><td>2</td></tr>",
                            "<tr><td>27</td><td>1082</td><td>5</td><td>3</td></tr>",
                            "<tr><td>27</td><td>1275</td><td>6</td><td>5</td></tr>",
                            "<tr><td>28</td><td>1459</td><td>2</td><td>0</td></tr>",
                            "<tr><td>28</td><td>901</td><td>4</td><td>2</td></tr>",
                            "<tr><td>28</td><td>886</td><td>4</td><td>4</td></tr>",
                            "<tr><td>28</td><td>872</td><td>5</td><td>4</td></tr>",
                            "<tr><td>28</td><td>725</td><td>5</td><td>5</td></tr>",
                            "<tr><td>28</td><td>1150</td><td>6</td><td>5</td></tr>",
                            "<tr><td>29</td><td>894</td><td>1</td><td>0</td></tr>",
                            "<tr><td>29</td><td>611</td><td>5</td><td>1</td></tr>",
                            "<tr><td>29</td><td>1185</td><td>5</td><td>5</td></tr>",
                            "<tr><td>29</td><td>1235</td><td>7</td><td>5</td></tr>",
                            "<tr><td>29</td><td>1568</td><td>7</td><td>7</td></tr>",
                            "<tr><td>29</td><td>1076</td><td>7</td><td>7</td></tr>",
                            "<tr><td>30</td><td>604</td><td>2</td><td>0</td></tr>",
                            "<tr><td>30</td><td>1136</td><td>5</td><td>2</td></tr>",
                            "<tr><td>30</td><td>1023</td><td>7</td><td>5</td></tr>",
                            "<tr><td>31</td><td>606</td><td>1</td><td>0</td></tr>",
                            "<tr><td>31</td><td>598</td><td>2</td><td>1</td></tr>",
                            "<tr><td>31</td><td>728</td><td>4</td><td>2</td></tr>",
                            "<tr><td>32</td><td>920</td><td>4</td><td>0</td></tr>",
                            "<tr><td>33</td><td>1053</td><td>1</td><td>0</td></tr>",
                            "<tr><td>33</td><td>1321</td><td>4</td><td>1</td></tr>",
                            "<tr><td>33</td><td>1344</td><td>5</td><td>4</td></tr>",
                            "<tr><td>33</td><td>1381</td><td>6</td><td>5</td></tr>",
                            "<tr><td>33</td><td>624</td><td>6</td><td>6</td></tr>",
                            "<tr><td>33</td><td>1012</td><td>7</td><td>6</td></tr>",
                            "<tr><td>34</td><td>821</td><td>1</td><td>0</td></tr>",
                            "<tr><td>34</td><td>904</td><td>2</td><td>1</td></tr>",
                            "<tr><td>34</td><td>777</td><td>3</td><td>2</td></tr>",
                            "<tr><td>34</td><td>870</td><td>6</td><td>3</td></tr>",
                            "<tr><td>35</td><td>1411</td><td>1</td><td>0</td></tr>",
                            "<tr><td>35</td><td>1436</td><td>1</td><td>1</td></tr>",
                            "<tr><td>35</td><td>829</td><td>2</td><td>1</td></tr>",
                            "<tr><td>35</td><td>707</td><td>2</td><td>2</td></tr>",
                            "<tr><td>35</td><td>971</td><td>3</td><td>2</td></tr>",
                            "<tr><td>35</td><td>1529</td><td>4</td><td>3</td></tr>",
                            "<tr><td>35</td><td>686</td><td>6</td><td>4</td></tr>",
                            "<tr><td>35</td><td>979</td><td>7</td><td>6</td></tr>",
                            "<tr><td>35</td><td>1480</td><td>37</td><td>7</td></tr>",
                            "<tr><td>36</td><td>919</td><td>1</td><td>0</td></tr>",
                            "<tr><td>36</td><td>748</td><td>2</td><td>1</td></tr>",
                            "<tr><td>36</td><td>1003</td><td>4</td><td>2</td></tr>",
                            "<tr><td>36</td><td>895</td><td>5</td><td>4</td></tr>",
                            "<tr><td>36</td><td>985</td><td>6</td><td>5</td></tr>",
                            "<tr><td>36</td><td>750</td><td>6</td><td>6</td></tr>",
                            "<tr><td>37</td><td>688</td><td>2</td><td>0</td></tr>",
                            "<tr><td>37</td><td>705</td><td>4</td><td>2</td></tr>",
                            "<tr><td>37</td><td>1335</td><td>7</td><td>4</td></tr>",
                            "<tr><td>38</td><td>1033</td><td>2</td><td>0</td></tr>",
                            "<tr><td>38</td><td>1060</td><td>2</td><td>2</td></tr>",
                            "<tr><td>38</td><td>1351</td><td>4</td><td>2</td></tr>",
                            "<tr><td>38</td><td>1478</td><td>4</td><td>4</td></tr>",
                            "<tr><td>38</td><td>1416</td><td>5</td><td>4</td></tr>",
                            "<tr><td>38</td><td>1556</td><td>6</td><td>5</td></tr>",
                            "<tr><td>38</td><td>627</td><td>6</td><td>6</td></tr>",
                            "<tr><td>38</td><td>1078</td><td>7</td><td>6</td></tr>",
                            "<tr><td>39</td><td>1454</td><td>1</td><td>0</td></tr>",
                            "<tr><td>39</td><td>1538</td><td>2</td><td>1</td></tr>",
                            "<tr><td>39</td><td>1380</td><td>5</td><td>2</td></tr>",
                            "<tr><td>39</td><td>1214</td><td>5</td><td>5</td></tr>",
                            "<tr><td>39</td><td>899</td><td>6</td><td>5</td></tr>",
                            "<tr><td>39</td><td>601</td><td>6</td><td>6</td></tr>",
                            "<tr><td>39</td><td>1435</td><td>7</td><td>6</td></tr>",
                            "<tr><td>40</td><td>924</td><td>5</td><td>0</td></tr>",
                            "<tr><td>40</td><td>1118</td><td>5</td><td>5</td></tr>",
                            "<tr><td>40</td><td>1018</td><td>5</td><td>5</td></tr>",
                            "<tr><td>40</td><td>932</td><td>6</td><td>5</td></tr>",
                            "<tr><td>41</td><td>1144</td><td>1</td><td>0</td></tr>",
                            "<tr><td>41</td><td>960</td><td>6</td><td>1</td></tr>",
                            "<tr><td>42</td><td>1309</td><td>2</td><td>0</td></tr>",
                            "<tr><td>42</td><td>770</td><td>3</td><td>2</td></tr>",
                            "<tr><td>42</td><td>561</td><td>4</td><td>3</td></tr>",
                            "<tr><td>42</td><td>590</td><td>5</td><td>4</td></tr>",
                            "<tr><td>42</td><td>1444</td><td>6</td><td>5</td></tr>",
                            "<tr><td>42</td><td>851</td><td>7</td><td>6</td></tr>",
                            "<tr><td>43</td><td>1524</td><td>1</td><td>0</td></tr>",
                            "<tr><td>43</td><td>1207</td><td>1</td><td>1</td></tr>",
                            "<tr><td>43</td><td>1088</td><td>2</td><td>1</td></tr>",
                            "<tr><td>43</td><td>1019</td><td>4</td><td>2</td></tr>",
                            "<tr><td>43</td><td>670</td><td>4</td><td>4</td></tr>",
                            "<tr><td>43</td><td>1270</td><td>4</td><td>4</td></tr>",
                            "<tr><td>43</td><td>1227</td><td>5</td><td>4</td></tr>",
                            "<tr><td>43</td><td>1553</td><td>5</td><td>5</td></tr>",
                            "<tr><td>44</td><td>1552</td><td>2</td><td>0</td></tr>",
                            "<tr><td>44</td><td>1425</td><td>2</td><td>2</td></tr>",
                            "<tr><td>44</td><td>1295</td><td>2</td><td>2</td></tr>",
                            "<tr><td>44</td><td>589</td><td>2</td><td>2</td></tr>",
                            "<tr><td>44</td><td>823</td><td>2</td><td>2</td></tr>",
                            "<tr><td>44</td><td>658</td><td>6</td><td>2</td></tr>",
                            "<tr><td>45</td><td>1303</td><td>2</td><td>0</td></tr>",
                            "<tr><td>45</td><td>1135</td><td>3</td><td>2</td></tr>",
                            "<tr><td>45</td><td>846</td><td>3</td><td>3</td></tr>",
                            "<tr><td>45</td><td>800</td><td>5</td><td>3</td></tr>",
                            "<tr><td>45</td><td>802</td><td>7</td><td>5</td></tr>",
                            "<tr><td>46</td><td>1291</td><td>3</td><td>0</td></tr>",
                            "<tr><td>46</td><td>1515</td><td>4</td><td>3</td></tr>",
                            "<tr><td>46</td><td>752</td><td>5</td><td>4</td></tr>",
                            "<tr><td>46</td><td>1187</td><td>7</td><td>5</td></tr>",
                            "<tr><td>47</td><td>955</td><td>1</td><td>0</td></tr>",
                            "<tr><td>47</td><td>1056</td><td>7</td><td>1</td></tr>",
                            "<tr><td>48</td><td>1547</td><td>1</td><td>0</td></tr>",
                            "<tr><td>48</td><td>824</td><td>2</td><td>1</td></tr>",
                            "<tr><td>48</td><td>628</td><td>2</td><td>2</td></tr>",
                            "<tr><td>48</td><td>603</td><td>3</td><td>2</td></tr>",
                            "<tr><td>48</td><td>1546</td><td>3</td><td>3</td></tr>",
                            "<tr><td>48</td><td>1581</td><td>5</td><td>3</td></tr>",
                            "<tr><td>48</td><td>986</td><td>5</td><td>5</td></tr>",
                            "<tr><td>48</td><td>914</td><td>5</td><td>5</td></tr>",
                            "<tr><td>48</td><td>1243</td><td>6</td><td>5</td></tr>",
                            "<tr><td>49</td><td>1221</td><td>2</td><td>0</td></tr>",
                            "<tr><td>49</td><td>826</td><td>4</td><td>2</td></tr>",
                            "<tr><td>49</td><td>793</td><td>6</td><td>4</td></tr>",
                            "<tr><td>49</td><td>1536</td><td>6</td><td>6</td></tr>",
                            "<tr><td>49</td><td>1200</td><td>7</td><td>6</td></tr>",
                            "<tr><td>49</td><td>888</td><td>7</td><td>7</td></tr>",
                            "<tr><td>49</td><td>1066</td><td>7</td><td>7</td></tr>",
                            "<tr><td>50</td><td>1224</td><td>1</td><td>0</td></tr>",
                            "<tr><td>50</td><td>1272</td><td>1</td><td>1</td></tr>",
                            "<tr><td>50</td><td>1063</td><td>2</td><td>1</td></tr>",
                            "<tr><td>50</td><td>787</td><td>3</td><td>2</td></tr>",
                            "<tr><td>51</td><td>1550</td><td>1</td><td>0</td></tr>",
                            "<tr><td>51</td><td>811</td><td>2</td><td>1</td></tr>",
                            "<tr><td>51</td><td>1165</td><td>5</td><td>2</td></tr>",
                            "<tr><td>51</td><td>1477</td><td>6</td><td>5</td></tr>",
                            "<tr><td>51</td><td>865</td><td>7</td><td>6</td></tr>",
                            "<tr><td>52</td><td>1202</td><td>2</td><td>0</td></tr>",
                            "<tr><td>52</td><td>1258</td><td>5</td><td>2</td></tr>",
                            "<tr><td>52</td><td>1431</td><td>5</td><td>5</td></tr>",
                            "<tr><td>52</td><td>1534</td><td>5</td><td>5</td></tr>",
                            "<tr><td>52</td><td>822</td><td>7</td><td>5</td></tr>",
                            "<tr><td>53</td><td>855</td><td>1</td><td>0</td></tr>",
                            "<tr><td>53</td><td>987</td><td>4</td><td>1</td></tr>",
                            "<tr><td>54</td><td>668</td><td>1</td><td>0</td></tr>",
                            "<tr><td>54</td><td>889</td><td>2</td><td>1</td></tr>",
                            "<tr><td>54</td><td>1096</td><td>4</td><td>2</td></tr>",
                            "<tr><td>54</td><td>1328</td><td>4</td><td>4</td></tr>",
                            "<tr><td>54</td><td>642</td><td>5</td><td>4</td></tr>",
                            "<tr><td>54</td><td>622</td><td>7</td><td>5</td></tr>",
                            "<tr><td>55</td><td>1512</td><td>1</td><td>0</td></tr>",
                            "<tr><td>55</td><td>1520</td><td>1</td><td>1</td></tr>",
                            "<tr><td>55</td><td>1386</td><td>2</td><td>1</td></tr>",
                            "<tr><td>55</td><td>1163</td><td>2</td><td>2</td></tr>",
                            "<tr><td>55</td><td>1086</td><td>5</td><td>2</td></tr>",
                            "<tr><td>55</td><td>734</td><td>6</td><td>5</td></tr>",
                            "<tr><td>55</td><td>1327</td><td>6</td><td>6</td></tr>",
                            "<tr><td>55</td><td>1232</td><td>7</td><td>6</td></tr>",
                            "<tr><td>56</td><td>838</td><td>2</td><td>0</td></tr>",
                            "<tr><td>56</td><td>935</td><td>4</td><td>2</td></tr>",
                            "<tr><td>57</td><td>1389</td><td>1</td><td>0</td></tr>",
                            "<tr><td>57</td><td>1348</td><td>1</td><td>1</td></tr>",
                            "<tr><td>57</td><td>1504</td><td>4</td><td>1</td></tr>",
                            "<tr><td>57</td><td>1466</td><td>7</td><td>4</td></tr>",
                            "<tr><td>58</td><td>773</td><td>2</td><td>0</td></tr>",
                            "<tr><td>58</td><td>719</td><td>3</td><td>2</td></tr>",
                            "<tr><td>58</td><td>1113</td><td>3</td><td>3</td></tr>",
                            "<tr><td>58</td><td>1322</td><td>3</td><td>3</td></tr>",
                            "<tr><td>58</td><td>1293</td><td>3</td><td>3</td></tr>",
                            "<tr><td>58</td><td>883</td><td>5</td><td>3</td></tr>",
                            "<tr><td>58</td><td>1307</td><td>6</td><td>5</td></tr>",
                            "<tr><td>58</td><td>1208</td><td>6</td><td>6</td></tr>",
                            "<tr><td>58</td><td>1261</td><td>6</td><td>6</td></tr>",
                            "<tr><td>58</td><td>1186</td><td>6</td><td>6</td></tr>",
                            "<tr><td>58</td><td>1451</td><td>6</td><td>6</td></tr>",
                            "<tr><td>58</td><td>1255</td><td>7</td><td>6</td></tr>",
                            "<tr><td>58</td><td>1285</td><td>7</td><td>7</td></tr>",
                            "<tr><td>59</td><td>1573</td><td>1</td><td>0</td></tr>",
                            "<tr><td>59</td><td>1080</td><td>1</td><td>1</td></tr>",
                            "<tr><td>59</td><td>1084</td><td>2</td><td>1</td></tr>",
                            "<tr><td>59</td><td>1239</td><td>2</td><td>2</td></tr>",
                            "<tr><td>59</td><td>1288</td><td>3</td><td>2</td></tr>",
                            "<tr><td>59</td><td>1170</td><td>5</td><td>3</td></tr>",
                            "<tr><td>59</td><td>1191</td><td>6</td><td>5</td></tr>",
                            "<tr><td>60</td><td>676</td><td>2</td><td>0</td></tr>",
                            "<tr><td>61</td><td>701</td><td>2</td><td>0</td></tr>",
                            "<tr><td>61</td><td>1218</td><td>2</td><td>2</td></tr>",
                            "<tr><td>61</td><td>1148</td><td>3</td><td>2</td></tr>",
                            "<tr><td>61</td><td>756</td><td>6</td><td>3</td></tr>",
                            "<tr><td>61</td><td>1496</td><td>7</td><td>6</td></tr>",
                            "<tr><td>62</td><td>938</td><td>1</td><td>0</td></tr>",
                            "<tr><td>62</td><td>936</td><td>3</td><td>1</td></tr>",
                            "<tr><td>62</td><td>1426</td><td>4</td><td>3</td></tr>",
                            "<tr><td>62</td><td>702</td><td>5</td><td>4</td></tr>",
                            "<tr><td>62</td><td>1081</td><td>7</td><td>5</td></tr>",
                            "<tr><td>63</td><td>845</td><td>1</td><td>0</td></tr>",
                            "<tr><td>63</td><td>625</td><td>3</td><td>1</td></tr>",
                            "<tr><td>63</td><td>769</td><td>5</td><td>3</td></tr>",
                            "<tr><td>63</td><td>891</td><td>6</td><td>5</td></tr>",
                            "<tr><td>64</td><td>1582</td><td>1</td><td>0</td></tr>",
                            "<tr><td>64</td><td>875</td><td>2</td><td>1</td></tr>",
                            "<tr><td>64</td><td>1122</td><td>4</td><td>2</td></tr>",
                            "<tr><td>64</td><td>1465</td><td>4</td><td>4</td></tr>",
                            "<tr><td>64</td><td>1446</td><td>6</td><td>4</td></tr>",
                            "<tr><td>64</td><td>1233</td><td>7</td><td>6</td></tr>",
                            "<tr><td>65</td><td>650</td><td>6</td><td>0</td></tr>",
                            "<tr><td>66</td><td>736</td><td>3</td><td>0</td></tr>",
                            "<tr><td>66</td><td>950</td><td>3</td><td>3</td></tr>",
                            "<tr><td>66</td><td>1234</td><td>3</td><td>3</td></tr>",
                            "<tr><td>66</td><td>1264</td><td>4</td><td>3</td></tr>",
                            "<tr><td>67</td><td>1382</td><td>1</td><td>0</td></tr>",
                            "<tr><td>67</td><td>1584</td><td>1</td><td>1</td></tr>",
                            "<tr><td>67</td><td>1580</td><td>5</td><td>1</td></tr>",
                            "<tr><td>67</td><td>638</td><td>5</td><td>5</td></tr>",
                            "<tr><td>67</td><td>645</td><td>6</td><td>5</td></tr>",
                            "<tr><td>67</td><td>874</td><td>6</td><td>6</td></tr>",
                            "<tr><td>68</td><td>1324</td><td>4</td><td>0</td></tr>",
                            "<tr><td>68</td><td>563</td><td>5</td><td>4</td></tr>",
                            "<tr><td>68</td><td>1027</td><td>7</td><td>5</td></tr>",
                            "<tr><td>69</td><td>885</td><td>1</td><td>0</td></tr>",
                            "<tr><td>69</td><td>1055</td><td>5</td><td>1</td></tr>",
                            "<tr><td>69</td><td>1225</td><td>5</td><td>5</td></tr>",
                            "<tr><td>69</td><td>1246</td><td>7</td><td>5</td></tr>",
                            "<tr><td>70</td><td>860</td><td>2</td><td>0</td></tr>",
                            "<tr><td>70</td><td>1006</td><td>3</td><td>2</td></tr>",
                            "<tr><td>70</td><td>1126</td><td>3</td><td>3</td></tr>",
                            "<tr><td>70</td><td>1092</td><td>3</td><td>3</td></tr>",
                            "<tr><td>70</td><td>704</td><td>3</td><td>3</td></tr>",
                            "<tr><td>70</td><td>814</td><td>3</td><td>3</td></tr>",
                            "<tr><td>70</td><td>1365</td><td>3</td><td>3</td></tr>",
                            "<tr><td>70</td><td>585</td><td>5</td><td>3</td></tr>",
                            "<tr><td>70</td><td>1333</td><td>6</td><td>5</td></tr>",
                            "<tr><td>70</td><td>1325</td><td>7</td><td>6</td></tr>",
                            "<tr><td>70</td><td>1457</td><td>7</td><td>7</td></tr>",
                            "<tr><td>71</td><td>712</td><td>1</td><td>0</td></tr>",
                            "<tr><td>71</td><td>1009</td><td>1</td><td>1</td></tr>",
                            "<tr><td>71</td><td>681</td><td>3</td><td>1</td></tr>",
                            "<tr><td>72</td><td>1318</td><td>2</td><td>0</td></tr>",
                            "<tr><td>72</td><td>1396</td><td>3</td><td>2</td></tr>",
                            "<tr><td>72</td><td>902</td><td>5</td><td>3</td></tr>",
                            "<tr><td>72</td><td>961</td><td>6</td><td>5</td></tr>",
                            "<tr><td>73</td><td>1000</td><td>4</td><td>0</td></tr>",
                            "<tr><td>73</td><td>1331</td><td>4</td><td>4</td></tr>",
                            "<tr><td>73</td><td>1159</td><td>5</td><td>4</td></tr>",
                            "<tr><td>73</td><td>714</td><td>7</td><td>5</td></tr>",
                            "<tr><td>74</td><td>830</td><td>1</td><td>0</td></tr>",
                            "<tr><td>74</td><td>963</td><td>1</td><td>1</td></tr>",
                            "<tr><td>74</td><td>847</td><td>3</td><td>1</td></tr>",
                            "<tr><td>74</td><td>877</td><td>4</td><td>3</td></tr>",
                            "<tr><td>74</td><td>940</td><td>5</td><td>4</td></tr>",
                            "<tr><td>74</td><td>797</td><td>5</td><td>5</td></tr>",
                            "<tr><td>74</td><td>1093</td><td>6</td><td>5</td></tr>",
                            "<tr><td>74</td><td>595</td><td>7</td><td>6</td></tr>",
                            "<tr><td>74</td><td>1179</td><td>7</td><td>7</td></tr>",
                            "<tr><td>75</td><td>1458</td><td>1</td><td>0</td></tr>",
                            "<tr><td>75</td><td>1412</td><td>2</td><td>1</td></tr>",
                            "<tr><td>75</td><td>1013</td><td>5</td><td>2</td></tr>",
                            "<tr><td>76</td><td>976</td><td>2</td><td>0</td></tr>",
                            "<tr><td>76</td><td>1557</td><td>3</td><td>2</td></tr>",
                            "<tr><td>76</td><td>683</td><td>7</td><td>3</td></tr>",
                            "<tr><td>77</td><td>1104</td><td>1</td><td>0</td></tr>",
                            "<tr><td>77</td><td>982</td><td>3</td><td>1</td></tr>",
                            "<tr><td>77</td><td>593</td><td>3</td><td>3</td></tr>",
                            "<tr><td>77</td><td>698</td><td>4</td><td>3</td></tr>",
                            "<tr><td>77</td><td>1461</td><td>4</td><td>4</td></tr>",
                            "<tr><td>77</td><td>1439</td><td>6</td><td>4</td></tr>",
                            "<tr><td>78</td><td>568</td><td>1</td><td>0</td></tr>",
                            "<tr><td>78</td><td>1268</td><td>2</td><td>1</td></tr>",
                            "<tr><td>78</td><td>1281</td><td>3</td><td>2</td></tr>",
                            "<tr><td>78</td><td>646</td><td>3</td><td>3</td></tr>",
                            "<tr><td>78</td><td>700</td><td>5</td><td>3</td></tr>",
                            "<tr><td>78</td><td>1577</td><td>7</td><td>5</td></tr>",
                            "<tr><td>79</td><td>1054</td><td>1</td><td>0</td></tr>",
                            "<tr><td>79</td><td>1345</td><td>3</td><td>1</td></tr>",
                            "<tr><td>79</td><td>1447</td><td>4</td><td>3</td></tr>",
                            "<tr><td>79</td><td>583</td><td>6</td><td>4</td></tr>",
                            "<tr><td>79</td><td>1229</td><td>7</td><td>6</td></tr>",
                            "<tr><td>80</td><td>929</td><td>2</td><td>0</td></tr>",
                            "<tr><td>80</td><td>1367</td><td>3</td><td>2</td></tr>",
                            "<tr><td>80</td><td>1071</td><td>4</td><td>3</td></tr>",
                            "<tr><td>80</td><td>1279</td><td>5</td><td>4</td></tr>",
                            "<tr><td>80</td><td>983</td><td>6</td><td>5</td></tr>",
                            "<tr><td>80</td><td>887</td><td>6</td><td>6</td></tr>",
                            "<tr><td>80</td><td>667</td><td>6</td><td>6</td></tr>",
                            "<tr><td>81</td><td>1506</td><td>3</td><td>0</td></tr>",
                            "<tr><td>81</td><td>1562</td><td>3</td><td>3</td></tr>",
                            "<tr><td>81</td><td>1366</td><td>5</td><td>3</td></tr>",
                            "<tr><td>81</td><td>1443</td><td>7</td><td>5</td></tr>",
                            "<tr><td>81</td><td>1464</td><td>7</td><td>7</td></tr>",
                            "<tr><td>82</td><td>1406</td><td>1</td><td>0</td></tr>",
                            "<tr><td>82</td><td>1341</td><td>2</td><td>1</td></tr>",
                            "<tr><td>82</td><td>862</td><td>4</td><td>2</td></tr>",
                            "<tr><td>82</td><td>871</td><td>5</td><td>4</td></tr>",
                            "<tr><td>82</td><td>1277</td><td>5</td><td>5</td></tr>",
                            "<tr><td>82</td><td>997</td><td>6</td><td>5</td></tr>",
                            "<tr><td>83</td><td>674</td><td>4</td><td>0</td></tr>",
                            "<tr><td>83</td><td>798</td><td>4</td><td>4</td></tr>",
                            "<tr><td>83</td><td>995</td><td>5</td><td>4</td></tr>",
                            "<tr><td>83</td><td>1119</td><td>6</td><td>5</td></tr>",
                            "<tr><td>83</td><td>869</td><td>6</td><td>6</td></tr>",
                            "<tr><td>83</td><td>878</td><td>6</td><td>6</td></tr>",
                            "<tr><td>83</td><td>572</td><td>7</td><td>6</td></tr>",
                            "<tr><td>83</td><td>1379</td><td>7</td><td>7</td></tr>",
                            "<tr><td>84</td><td>819</td><td>2</td><td>0</td></tr>",
                            "<tr><td>84</td><td>954</td><td>5</td><td>2</td></tr>",
                            "<tr><td>84</td><td>1376</td><td>5</td><td>5</td></tr>",
                            "<tr><td>84</td><td>1384</td><td>7</td><td>5</td></tr>",
                            "<tr><td>85</td><td>1320</td><td>1</td><td>0</td></tr>",
                            "<tr><td>85</td><td>1059</td><td>3</td><td>1</td></tr>",
                            "<tr><td>85</td><td>647</td><td>3</td><td>3</td></tr>",
                            "<tr><td>85</td><td>1513</td><td>7</td><td>3</td></tr>",
                            "<tr><td>86</td><td>1453</td><td>1</td><td>0</td></tr>",
                            "<tr><td>86</td><td>1108</td><td>1</td><td>1</td></tr>",
                            "<tr><td>86</td><td>859</td><td>1</td><td>1</td></tr>",
                            "<tr><td>86</td><td>1079</td><td>4</td><td>1</td></tr>",
                            "<tr><td>86</td><td>1057</td><td>5</td><td>4</td></tr>",
                            "<tr><td>87</td><td>844</td><td>1</td><td>0</td></tr>",
                            "<tr><td>87</td><td>1103</td><td>3</td><td>1</td></tr>",
                            "<tr><td>87</td><td>558</td><td>4</td><td>3</td></tr>",
                            "<tr><td>87</td><td>1456</td><td>5</td><td>4</td></tr>",
                            "<tr><td>87</td><td>1349</td><td>5</td><td>5</td></tr>",
                            "<tr><td>88</td><td>1359</td><td>2</td><td>0</td></tr>",
                            "<tr><td>88</td><td>866</td><td>2</td><td>2</td></tr>",
                            "<tr><td>88</td><td>1300</td><td>3</td><td>2</td></tr>",
                            "<tr><td>88</td><td>1196</td><td>3</td><td>3</td></tr>",
                            "<tr><td>88</td><td>1575</td><td>6</td><td>3</td></tr>",
                            "<tr><td>88</td><td>1548</td><td>7</td><td>6</td></tr>",
                            "<tr><td>88</td><td>1273</td><td>7</td><td>7</td></tr>",
                            "<tr><td>88</td><td>757</td><td>7</td><td>7</td></tr>",
                            "<tr><td>89</td><td>1269</td><td>2</td><td>0</td></tr>",
                            "<tr><td>89</td><td>1253</td><td>2</td><td>2</td></tr>",
                            "<tr><td>89</td><td>1399</td><td>2</td><td>2</td></tr>",
                            "<tr><td>89</td><td>817</td><td>3</td><td>2</td></tr>",
                            "<tr><td>89</td><td>1101</td><td>5</td><td>3</td></tr>",
                            "<tr><td>89</td><td>1189</td><td>6</td><td>5</td></tr>",
                            "<tr><td>89</td><td>1521</td><td>7</td><td>6</td></tr>",
                            "<tr><td>89</td><td>1037</td><td>7</td><td>7</td></tr>",
                            "<tr><td>90</td><td>729</td><td>2</td><td>0</td></tr>",
                            "<tr><td>90</td><td>1405</td><td>5</td><td>2</td></tr>",
                            "<tr><td>90</td><td>1299</td><td>6</td><td>5</td></tr>",
                            "<tr><td>90</td><td>1174</td><td>7</td><td>6</td></tr>",
                            "<tr><td>91</td><td>1213</td><td>3</td><td>0</td></tr>",
                            "<tr><td>91</td><td>1397</td><td>4</td><td>3</td></tr>",
                            "<tr><td>91</td><td>732</td><td>4</td><td>4</td></tr>",
                            "<tr><td>91</td><td>636</td><td>6</td><td>4</td></tr>",
                            "<tr><td>92</td><td>1016</td><td>2</td><td>0</td></tr>",
                            "<tr><td>92</td><td>1527</td><td>2</td><td>2</td></tr>",
                            "<tr><td>92</td><td>809</td><td>3</td><td>2</td></tr>",
                            "<tr><td>92</td><td>1555</td><td>4</td><td>3</td></tr>",
                            "<tr><td>92</td><td>841</td><td>6</td><td>4</td></tr>",
                            "<tr><td>92</td><td>942</td><td>6</td><td>6</td></tr>",
                            "<tr><td>93</td><td>1217</td><td>1</td><td>0</td></tr>",
                            "<tr><td>93</td><td>1355</td><td>2</td><td>1</td></tr>",
                            "<tr><td>93</td><td>1391</td><td>4</td><td>2</td></tr>",
                            "<tr><td>93</td><td>1169</td><td>4</td><td>4</td></tr>",
                            "<tr><td>93</td><td>741</td><td>7</td><td>4</td></tr>",
                            "<tr><td>94</td><td>1368</td><td>1</td><td>0</td></tr>",
                            "<tr><td>94</td><td>1305</td><td>2</td><td>1</td></tr>",
                            "<tr><td>94</td><td>1518</td><td>2</td><td>2</td></tr>",
                            "<tr><td>94</td><td>1312</td><td>3</td><td>2</td></tr>",
                            "<tr><td>94</td><td>727</td><td>3</td><td>3</td></tr>",
                            "<tr><td>94</td><td>616</td><td>4</td><td>3</td></tr>",
                            "<tr><td>94</td><td>975</td><td>5</td><td>4</td></tr>",
                            "<tr><td>94</td><td>665</td><td>7</td><td>5</td></tr>",
                            "<tr><td>94</td><td>1241</td><td>7</td><td>7</td></tr>",
                            "<tr><td>94</td><td>1564</td><td>7</td><td>7</td></tr>",
                            "<tr><td>95</td><td>1048</td><td>3</td><td>0</td></tr>",
                            "<tr><td>95</td><td>1097</td><td>4</td><td>3</td></tr>",
                            "<tr><td>95</td><td>656</td><td>7</td><td>4</td></tr>",
                            "<tr><td>95</td><td>1543</td><td>7</td><td>7</td></tr>",
                            "<tr><td>96</td><td>780</td><td>1</td><td>0</td></tr>",
                            "<tr><td>96</td><td>1438</td><td>2</td><td>1</td></tr>",
                            "<tr><td>96</td><td>1378</td><td>3</td><td>2</td></tr>",
                            "<tr><td>96</td><td>671</td><td>4</td><td>3</td></tr>",
                            "<tr><td>96</td><td>607</td><td>4</td><td>4</td></tr>",
                            "<tr><td>96</td><td>623</td><td>7</td><td>4</td></tr>",
                            "<tr><td>96</td><td>1569</td><td>7</td><td>7</td></tr>",
                            "<tr><td>97</td><td>1395</td><td>1</td><td>0</td></tr>",
                            "<tr><td>97</td><td>1528</td><td>2</td><td>1</td></tr>",
                            "<tr><td>97</td><td>836</td><td>2</td><td>2</td></tr>",
                            "<tr><td>97</td><td>635</td><td>3</td><td>2</td></tr>",
                            "<tr><td>97</td><td>726</td><td>4</td><td>3</td></tr>",
                            "<tr><td>97</td><td>718</td><td>7</td><td>4</td></tr>",
                            "<tr><td>97</td><td>1417</td><td>7</td><td>7</td></tr>",
                            "<tr><td>98</td><td>1402</td><td>2</td><td>0</td></tr>",
                            "<tr><td>98</td><td>884</td><td>5</td><td>2</td></tr>",
                            "<tr><td>98</td><td>1050</td><td>6</td><td>5</td></tr>",
                            "<tr><td>98</td><td>631</td><td>6</td><td>6</td></tr>",
                            "<tr><td>99</td><td>632</td><td>1</td><td>0</td></tr>",
                            "<tr><td>99</td><td>1072</td><td>1</td><td>1</td></tr>",
                            "<tr><td>99</td><td>1408</td><td>1</td><td>1</td></tr>",
                            "<tr><td>99</td><td>1486</td><td>5</td><td>1</td></tr>",
                            "<tr><td>99</td><td>691</td><td>5</td><td>5</td></tr>",
                            "<tr><td>100</td><td>597</td><td>1</td><td>0</td></tr>",
                            "<tr><td>100</td><td>637</td><td>5</td><td>1</td></tr>",
                            "<tr><td>100</td><td>1315</td><td>5</td><td>5</td></tr>",
                            "<tr><td>100</td><td>1482</td><td>7</td><td>5</td></tr>",
                            "<tr><td>101</td><td>715</td><td>3</td><td>0</td></tr>",
                            "<tr><td>101</td><td>1516</td><td>4</td><td>3</td></tr>",
                            "<tr><td>101</td><td>1332</td><td>6</td><td>4</td></tr>",
                            "<tr><td>102</td><td>1343</td><td>2</td><td>0</td></tr>",
                            "<tr><td>102</td><td>689</td><td>5</td><td>2</td></tr>",
                            "<tr><td>103</td><td>1398</td><td>1</td><td>0</td></tr>",
                            "<tr><td>103</td><td>972</td><td>2</td><td>1</td></tr>",
                            "<tr><td>103</td><td>1485</td><td>4</td><td>2</td></tr>",
                            "<tr><td>103</td><td>992</td><td>7</td><td>4</td></tr>",
                            "<tr><td>104</td><td>1180</td><td>1</td><td>0</td></tr>",
                            "<tr><td>104</td><td>1522</td><td>2</td><td>1</td></tr>",
                            "<tr><td>104</td><td>1532</td><td>3</td><td>2</td></tr>",
                            "<tr><td>104</td><td>837</td><td>4</td><td>3</td></tr>",
                            "<tr><td>105</td><td>618</td><td>1</td><td>0</td></tr>",
                            "<tr><td>105</td><td>1525</td><td>5</td><td>1</td></tr>",
                            "<tr><td>106</td><td>610</td><td>3</td><td>0</td></tr>",
                            "<tr><td>106</td><td>1271</td><td>5</td><td>3</td></tr>",
                            "<tr><td>106</td><td>1510</td><td>6</td><td>5</td></tr>",
                            "<tr><td>106</td><td>1228</td><td>7</td><td>6</td></tr>",
                            "<tr><td>106</td><td>1372</td><td>7</td><td>7</td></tr>",
                            "<tr><td>106</td><td>708</td><td>7</td><td>7</td></tr>",
                            "<tr><td>107</td><td>1354</td><td>1</td><td>0</td></tr>",
                            "<tr><td>107</td><td>1494</td><td>2</td><td>1</td></tr>",
                            "<tr><td>107</td><td>1250</td><td>4</td><td>2</td></tr>",
                            "<tr><td>107</td><td>1452</td><td>6</td><td>4</td></tr>",
                            "<tr><td>107</td><td>586</td><td>6</td><td>6</td></tr>",
                            "<tr><td>108</td><td>1102</td><td>1</td><td>0</td></tr>",
                            "<tr><td>108</td><td>1392</td><td>6</td><td>1</td></tr>",
                            "<tr><td>109</td><td>1560</td><td>1</td><td>0</td></tr>",
                            "<tr><td>109</td><td>1083</td><td>1</td><td>1</td></tr>",
                            "<tr><td>109</td><td>810</td><td>2</td><td>1</td></tr>",
                            "<tr><td>109</td><td>614</td><td>4</td><td>2</td></tr>",
                            "<tr><td>109</td><td>1298</td><td>4</td><td>4</td></tr>",
                            "<tr><td>109</td><td>654</td><td>5</td><td>4</td></tr>",
                            "<tr><td>109</td><td>621</td><td>7</td><td>5</td></tr>",
                            "<tr><td>110</td><td>685</td><td>1</td><td>0</td></tr>",
                            "<tr><td>110</td><td>1424</td><td>1</td><td>1</td></tr>",
                            "<tr><td>110</td><td>1162</td><td>2</td><td>1</td></tr>",
                            "<tr><td>110</td><td>1041</td><td>3</td><td>2</td></tr>",
                            "<tr><td>110</td><td>1109</td><td>5</td><td>3</td></tr>",
                            "<tr><td>110</td><td>931</td><td>5</td><td>5</td></tr>",
                            "<tr><td>110</td><td>964</td><td>6</td><td>5</td></tr>",
                            "<tr><td>110</td><td>1489</td><td>6</td><td>6</td></tr>",
                            "<tr><td>111</td><td>1296</td><td>3</td><td>0</td></tr>",
                            "<tr><td>111</td><td>786</td><td>4</td><td>3</td></tr>",
                            "<tr><td>111</td><td>1353</td><td>5</td><td>4</td></tr>",
                            "<tr><td>111</td><td>605</td><td>7</td><td>5</td></tr>",
                            "<tr><td>111</td><td>959</td><td>7</td><td>7</td></tr>",
                            "<tr><td>112</td><td>921</td><td>1</td><td>0</td></tr>",
                            "<tr><td>112</td><td>776</td><td>4</td><td>1</td></tr>",
                            "<tr><td>112</td><td>801</td><td>5</td><td>4</td></tr>",
                            "<tr><td>112</td><td>1124</td><td>6</td><td>5</td></tr>",
                            "<tr><td>112</td><td>1530</td><td>6</td><td>6</td></tr>",
                            "<tr><td>113</td><td>1263</td><td>1</td><td>0</td></tr>",
                            "<tr><td>113</td><td>1499</td><td>2</td><td>1</td></tr>",
                            "<tr><td>113</td><td>1085</td><td>4</td><td>2</td></tr>",
                            "<tr><td>113</td><td>1029</td><td>5</td><td>4</td></tr>",
                            "<tr><td>113</td><td>1495</td><td>7</td><td>5</td></tr>",
                            "<tr><td>114</td><td>737</td><td>2</td><td>0</td></tr>",
                            "<tr><td>114</td><td>1540</td><td>3</td><td>2</td></tr>",
                            "<tr><td>114</td><td>966</td><td>6</td><td>3</td></tr>",
                            "<tr><td>114</td><td>827</td><td>7</td><td>6</td></tr>",
                            "<tr><td>115</td><td>1566</td><td>1</td><td>0</td></tr>",
                            "<tr><td>115</td><td>1554</td><td>3</td><td>1</td></tr>",
                            "<tr><td>115</td><td>1352</td><td>3</td><td>3</td></tr>",
                            "<tr><td>115</td><td>1154</td><td>4</td><td>3</td></tr>",
                            "<tr><td>115</td><td>596</td><td>7</td><td>4</td></tr>",
                            "<tr><td>115</td><td>943</td><td>7</td><td>7</td></tr>",
                            "<tr><td>115</td><td>1121</td><td>7</td><td>7</td></tr>",
                            "<tr><td>116</td><td>1455</td><td>2</td><td>0</td></tr>",
                            "<tr><td>116</td><td>1501</td><td>4</td><td>2</td></tr>",
                            "<tr><td>117</td><td>1002</td><td>1</td><td>0</td></tr>",
                            "<tr><td>117</td><td>612</td><td>2</td><td>1</td></tr>",
                            "<tr><td>117</td><td>1192</td><td>2</td><td>2</td></tr>",
                            "<tr><td>117</td><td>1247</td><td>3</td><td>2</td></tr>",
                            "<tr><td>117</td><td>617</td><td>3</td><td>3</td></tr>",
                            "<tr><td>117</td><td>962</td><td>4</td><td>3</td></tr>",
                            "<tr><td>117</td><td>953</td><td>5</td><td>4</td></tr>",
                            "<tr><td>117</td><td>1468</td><td>7</td><td>5</td></tr>",
                            "<tr><td>118</td><td>716</td><td>1</td><td>0</td></tr>",
                            "<tr><td>118</td><td>996</td><td>3</td><td>1</td></tr>",
                            "<tr><td>118</td><td>1481</td><td>3</td><td>3</td></tr>",
                            "<tr><td>118</td><td>1374</td><td>5</td><td>3</td></tr>",
                            "<tr><td>118</td><td>1472</td><td>6</td><td>5</td></tr>",
                            "<tr><td>118</td><td>864</td><td>6</td><td>6</td></tr>",
                            "<tr><td>118</td><td>994</td><td>7</td><td>6</td></tr>",
                            "<tr><td>119</td><td>722</td><td>1</td><td>0</td></tr>",
                            "<tr><td>119</td><td>706</td><td>2</td><td>1</td></tr>",
                            "<tr><td>119</td><td>1026</td><td>3</td><td>2</td></tr>",
                            "<tr><td>119</td><td>1488</td><td>3</td><td>3</td></tr>",
                            "<tr><td>119</td><td>1413</td><td>3</td><td>3</td></tr>",
                            "<tr><td>120</td><td>1483</td><td>1</td><td>0</td></tr>",
                            "<tr><td>120</td><td>998</td><td>3</td><td>1</td></tr>",
                            "<tr><td>120</td><td>762</td><td>3</td><td>3</td></tr>",
                            "<tr><td>120</td><td>1089</td><td>6</td><td>3</td></tr>",
                            "<tr><td>120</td><td>1339</td><td>6</td><td>6</td></tr>",
                            "<tr><td>120</td><td>1493</td><td>7</td><td>6</td></tr>",
                            "<tr><td>121</td><td>1049</td><td>3</td><td>0</td></tr>",
                            "<tr><td>121</td><td>1128</td><td>4</td><td>3</td></tr>",
                            "<tr><td>121</td><td>1215</td><td>4</td><td>4</td></tr>",
                            "<tr><td>121</td><td>1373</td><td>5</td><td>4</td></tr>",
                            "<tr><td>121</td><td>858</td><td>5</td><td>5</td></tr>",
                            "<tr><td>121</td><td>739</td><td>6</td><td>5</td></tr>",
                            "<tr><td>121</td><td>735</td><td>6</td><td>6</td></tr>",
                            "<tr><td>121</td><td>1393</td><td>6</td><td>6</td></tr>",
                            "<tr><td>122</td><td>1209</td><td>1</td><td>0</td></tr>",
                            "<tr><td>122</td><td>1245</td><td>2</td><td>1</td></tr>",
                            "<tr><td>122</td><td>1337</td><td>2</td><td>2</td></tr>",
                            "<tr><td>122</td><td>1036</td><td>2</td><td>2</td></tr>",
                            "<tr><td>122</td><td>1007</td><td>2</td><td>2</td></tr>",
                            "<tr><td>122</td><td>1062</td><td>3</td><td>2</td></tr>",
                            "<tr><td>122</td><td>1440</td><td>3</td><td>3</td></tr>",
                            "<tr><td>122</td><td>1166</td><td>4</td><td>3</td></tr>",
                            "<tr><td>122</td><td>1385</td><td>5</td><td>4</td></tr>",
                            "<tr><td>123</td><td>1223</td><td>1</td><td>0</td></tr>",
                            "<tr><td>123</td><td>923</td><td>4</td><td>1</td></tr>",
                            "<tr><td>123</td><td>967</td><td>5</td><td>4</td></tr>",
                            "<tr><td>123</td><td>1282</td><td>6</td><td>5</td></tr>",
                            "<tr><td>123</td><td>587</td><td>7</td><td>6</td></tr>",
                            "<tr><td>124</td><td>861</td><td>1</td><td>0</td></tr>",
                            "<tr><td>124</td><td>1419</td><td>3</td><td>1</td></tr>",
                            "<tr><td>124</td><td>1210</td><td>4</td><td>3</td></tr>",
                            "<tr><td>124</td><td>1403</td><td>6</td><td>4</td></tr>",
                            "<tr><td>124</td><td>1531</td><td>6</td><td>6</td></tr>",
                            "<tr><td>124</td><td>1330</td><td>7</td><td>6</td></tr>",
                            "<tr><td>125</td><td>576</td><td>1</td><td>0</td></tr>",
                            "<tr><td>126</td><td>1134</td><td>1</td><td>0</td></tr>",
                            "<tr><td>126</td><td>1500</td><td>4</td><td>1</td></tr>",
                            "<tr><td>126</td><td>754</td><td>4</td><td>4</td></tr>",
                            "<tr><td>126</td><td>806</td><td>6</td><td>4</td></tr>",
                            "<tr><td>126</td><td>1364</td><td>6</td><td>6</td></tr>",
                            "<tr><td>126</td><td>1428</td><td>7</td><td>6</td></tr>",
                            "<tr><td>127</td><td>1286</td><td>1</td><td>0</td></tr>",
                            "<tr><td>127</td><td>643</td><td>2</td><td>1</td></tr>",
                            "<tr><td>127</td><td>879</td><td>2</td><td>2</td></tr>",
                            "<tr><td>127</td><td>853</td><td>5</td><td>2</td></tr>",
                            "<tr><td>127</td><td>1226</td><td>5</td><td>5</td></tr>",
                            "<tr><td>127</td><td>1579</td><td>5</td><td>5</td></tr>",
                            "<tr><td>127</td><td>1034</td><td>6</td><td>5</td></tr>",
                            "<tr><td>128</td><td>815</td><td>1</td><td>0</td></tr>",
                            "<tr><td>128</td><td>1574</td><td>1</td><td>1</td></tr>",
                            "<tr><td>128</td><td>1290</td><td>1</td><td>1</td></tr>",
                            "<tr><td>128</td><td>717</td><td>2</td><td>1</td></tr>",
                            "<tr><td>128</td><td>1583</td><td>4</td><td>2</td></tr>",
                            "<tr><td>129</td><td>1509</td><td>6</td><td>0</td></tr>",
                            "<tr><td>129</td><td>1360</td><td>6</td><td>6</td></tr>",
                            "<tr><td>129</td><td>1445</td><td>7</td><td>6</td></tr>",
                            "<tr><td>129</td><td>723</td><td>7</td><td>7</td></tr>",
                            "<tr><td>130</td><td>1040</td><td>1</td><td>0</td></tr>",
                            "<tr><td>130</td><td>910</td><td>2</td><td>1</td></tr>",
                            "<tr><td>130</td><td>580</td><td>3</td><td>2</td></tr>",
                            "<tr><td>130</td><td>613</td><td>3</td><td>3</td></tr>",
                            "<tr><td>130</td><td>779</td><td>6</td><td>3</td></tr>",
                            "<tr><td>130</td><td>1475</td><td>7</td><td>6</td></tr>",
                            "<tr><td>131</td><td>655</td><td>1</td><td>0</td></tr>",
                            "<tr><td>131</td><td>559</td><td>2</td><td>1</td></tr>",
                            "<tr><td>131</td><td>760</td><td>4</td><td>2</td></tr>",
                            "<tr><td>131</td><td>1474</td><td>5</td><td>4</td></tr>",
                            "<tr><td>131</td><td>881</td><td>6</td><td>5</td></tr>",
                            "<tr><td>132</td><td>1519</td><td>2</td><td>0</td></tr>",
                            "<tr><td>132</td><td>1301</td><td>2</td><td>2</td></tr>",
                            "<tr><td>132</td><td>1111</td><td>3</td><td>2</td></tr>",
                            "<tr><td>132</td><td>999</td><td>6</td><td>3</td></tr>",
                            "<tr><td>132</td><td>1090</td><td>7</td><td>6</td></tr>",
                            "<tr><td>132</td><td>619</td><td>7</td><td>7</td></tr>",
                            "<tr><td>133</td><td>1409</td><td>1</td><td>0</td></tr>",
                            "<tr><td>133</td><td>1306</td><td>3</td><td>1</td></tr>",
                            "<tr><td>133</td><td>988</td><td>3</td><td>3</td></tr>",
                            "<tr><td>133</td><td>909</td><td>4</td><td>3</td></tr>",
                            "<tr><td>133</td><td>1363</td><td>5</td><td>4</td></tr>",
                            "<tr><td>133</td><td>1149</td><td>7</td><td>5</td></tr>",
                            "<tr><td>134</td><td>1024</td><td>1</td><td>0</td></tr>",
                            "<tr><td>134</td><td>1045</td><td>2</td><td>1</td></tr>",
                            "<tr><td>134</td><td>1004</td><td>5</td><td>2</td></tr>",
                            "<tr><td>134</td><td>1219</td><td>6</td><td>5</td></tr>",
                            "<tr><td>134</td><td>1178</td><td>7</td><td>6</td></tr>",
                            "<tr><td>134</td><td>1535</td><td>7</td><td>7</td></tr>",
                            "<tr><td>135</td><td>1289</td><td>3</td><td>0</td></tr>",
                            "<tr><td>135</td><td>724</td><td>6</td><td>3</td></tr>",
                            "<tr><td>135</td><td>849</td><td>7</td><td>6</td></tr>",
                            "<tr><td>136</td><td>584</td><td>2</td><td>0</td></tr>",
                            "<tr><td>136</td><td>1046</td><td>4</td><td>2</td></tr>",
                            "<tr><td>136</td><td>661</td><td>5</td><td>4</td></tr>",
                            "<tr><td>137</td><td>1014</td><td>1</td><td>0</td></tr>",
                            "<tr><td>137</td><td>582</td><td>3</td><td>1</td></tr>",
                            "<tr><td>137</td><td>1280</td><td>3</td><td>3</td></tr>",
                            "<tr><td>137</td><td>649</td><td>5</td><td>3</td></tr>",
                            "<tr><td>137</td><td>657</td><td>6</td><td>5</td></tr>",
                            "<tr><td>137</td><td>1201</td><td>6</td><td>6</td></tr>",
                            "<tr><td>138</td><td>1283</td><td>2</td><td>0</td></tr>",
                            "<tr><td>138</td><td>1256</td><td>4</td><td>2</td></tr>",
                            "<tr><td>138</td><td>796</td><td>4</td><td>4</td></tr>",
                            "<tr><td>138</td><td>1294</td><td>5</td><td>4</td></tr>",
                            "<tr><td>138</td><td>1370</td><td>5</td><td>5</td></tr>",
                            "<tr><td>138</td><td>768</td><td>6</td><td>5</td></tr>",
                            "<tr><td>138</td><td>1358</td><td>7</td><td>6</td></tr>",
                            "<tr><td>139</td><td>745</td><td>1</td><td>0</td></tr>",
                            "<tr><td>139</td><td>579</td><td>2</td><td>1</td></tr>",
                            "<tr><td>139</td><td>1042</td><td>2</td><td>2</td></tr>",
                            "<tr><td>139</td><td>751</td><td>4</td><td>2</td></tr>",
                            "<tr><td>139</td><td>1064</td><td>6</td><td>4</td></tr>",
                            "<tr><td>139</td><td>1433</td><td>6</td><td>6</td></tr>",
                            "<tr><td>139</td><td>1450</td><td>7</td><td>6</td></tr>",
                            "<tr><td>140</td><td>1371</td><td>1</td><td>0</td></tr>",
                            "<tr><td>140</td><td>733</td><td>1</td><td>1</td></tr>",
                            "<tr><td>140</td><td>1098</td><td>2</td><td>1</td></tr>",
                            "<tr><td>140</td><td>915</td><td>2</td><td>2</td></tr>",
                            "<tr><td>140</td><td>1361</td><td>3</td><td>2</td></tr>",
                            "<tr><td>140</td><td>1156</td><td>3</td><td>3</td></tr>",
                            "<tr><td>140</td><td>1357</td><td>4</td><td>3</td></tr>",
                            "<tr><td>140</td><td>1259</td><td>7</td><td>4</td></tr>",
                            "<tr><td>141</td><td>908</td><td>2</td><td>0</td></tr>",
                            "<tr><td>141</td><td>761</td><td>3</td><td>2</td></tr>",
                            "<tr><td>141</td><td>1254</td><td>4</td><td>3</td></tr>",
                            "<tr><td>141</td><td>1401</td><td>6</td><td>4</td></tr>",
                            "<tr><td>141</td><td>565</td><td>6</td><td>6</td></tr>",
                            "<tr><td>141</td><td>784</td><td>7</td><td>6</td></tr>",
                            "<tr><td>142</td><td>1545</td><td>3</td><td>0</td></tr>",
                            "<tr><td>142</td><td>1369</td><td>6</td><td>3</td></tr>",
                            "<tr><td>143</td><td>1222</td><td>2</td><td>0</td></tr>",
                            "<tr><td>143</td><td>1394</td><td>3</td><td>2</td></tr>",
                            "<tr><td>143</td><td>980</td><td>3</td><td>3</td></tr>",
                            "<tr><td>143</td><td>1313</td><td>4</td><td>3</td></tr>",
                            "<tr><td>143</td><td>1193</td><td>6</td><td>4</td></tr>",
                            "<tr><td>143</td><td>1448</td><td>6</td><td>6</td></tr>",
                            "<tr><td>143</td><td>1155</td><td>7</td><td>6</td></tr>",
                            "<tr><td>144</td><td>1297</td><td>1</td><td>0</td></tr>",
                            "<tr><td>144</td><td>1572</td><td>2</td><td>1</td></tr>",
                            "<tr><td>144</td><td>1087</td><td>2</td><td>2</td></tr>",
                            "<tr><td>144</td><td>581</td><td>4</td><td>2</td></tr>",
                            "<tr><td>144</td><td>1199</td><td>7</td><td>4</td></tr>",
                            "<tr><td>145</td><td>1471</td><td>1</td><td>0</td></tr>",
                            "<tr><td>145</td><td>1077</td><td>1</td><td>1</td></tr>",
                            "<tr><td>145</td><td>1120</td><td>1</td><td>1</td></tr>",
                            "<tr><td>145</td><td>1338</td><td>2</td><td>1</td></tr>",
                            "<tr><td>145</td><td>1145</td><td>4</td><td>2</td></tr>",
                            "<tr><td>145</td><td>703</td><td>4</td><td>4</td></tr>",
                            "<tr><td>146</td><td>664</td><td>3</td><td>0</td></tr>",
                            "<tr><td>146</td><td>890</td><td>3</td><td>3</td></tr>",
                            "<tr><td>146</td><td>1032</td><td>5</td><td>3</td></tr>",
                            "<tr><td>146</td><td>1479</td><td>6</td><td>5</td></tr>",
                            "<tr><td>146</td><td>789</td><td>7</td><td>6</td></tr>",
                            "<tr><td>146</td><td>804</td><td>7</td><td>7</td></tr>",
                            "<tr><td>147</td><td>771</td><td>4</td><td>0</td></tr>",
                            "<tr><td>148</td><td>808</td><td>2</td><td>0</td></tr>",
                            "<tr><td>148</td><td>765</td><td>3</td><td>2</td></tr>",
                            "<tr><td>148</td><td>678</td><td>4</td><td>3</td></tr>",
                            "<tr><td>148</td><td>812</td><td>6</td><td>4</td></tr>",
                            "<tr><td>148</td><td>783</td><td>7</td><td>6</td></tr>",
                            "<tr><td>148</td><td>1578</td><td>7</td><td>7</td></tr>",
                            "<tr><td>149</td><td>652</td><td>1</td><td>0</td></tr>",
                            "<tr><td>149</td><td>591</td><td>1</td><td>1</td></tr>",
                            "<tr><td>149</td><td>833</td><td>2</td><td>1</td></tr>",
                            "<tr><td>149</td><td>843</td><td>4</td><td>2</td></tr>",
                            "<tr><td>149</td><td>834</td><td>5</td><td>4</td></tr>",
                            "<tr><td>149</td><td>1514</td><td>5</td><td>5</td></tr>",
                            "<tr><td>149</td><td>1146</td><td>6</td><td>5</td></tr>",
                            "<tr><td>150</td><td>1177</td><td>1</td><td>0</td></tr>",
                            "<tr><td>150</td><td>1105</td><td>1</td><td>1</td></tr>",
                            "<tr><td>150</td><td>641</td><td>3</td><td>1</td></tr>",
                            "<tr><td>150</td><td>1432</td><td>3</td><td>3</td></tr>",
                            "<tr><td>150</td><td>1203</td><td>4</td><td>3</td></tr>",
                            "<tr><td>150</td><td>1100</td><td>5</td><td>4</td></tr>",
                            "<tr><td>151</td><td>1115</td><td>3</td><td>0</td></tr>",
                            "<tr><td>151</td><td>1058</td><td>3</td><td>3</td></tr>",
                            "<tr><td>151</td><td>893</td><td>3</td><td>3</td></tr>",
                            "<tr><td>152</td><td>730</td><td>2</td><td>0</td></tr>",
                            "<tr><td>152</td><td>1558</td><td>2</td><td>2</td></tr>",
                            "<tr><td>152</td><td>1197</td><td>6</td><td>2</td></tr>",
                            "<tr><td>152</td><td>1160</td><td>7</td><td>6</td></tr>",
                            "<tr><td>153</td><td>1507</td><td>3</td><td>0</td></tr>",
                            "<tr><td>153</td><td>1460</td><td>3</td><td>3</td></tr>",
                            "<tr><td>153</td><td>594</td><td>3</td><td>3</td></tr>",
                            "<tr><td>153</td><td>1470</td><td>5</td><td>3</td></tr>",
                            "<tr><td>153</td><td>969</td><td>6</td><td>5</td></tr>",
                            "<tr><td>154</td><td>968</td><td>1</td><td>0</td></tr>",
                            "<tr><td>154</td><td>1262</td><td>1</td><td>1</td></tr>",
                            "<tr><td>154</td><td>1539</td><td>2</td><td>1</td></tr>",
                            "<tr><td>154</td><td>1168</td><td>6</td><td>2</td></tr>",
                            "<tr><td>154</td><td>1061</td><td>7</td><td>6</td></tr>",
                            "<tr><td>155</td><td>575</td><td>1</td><td>0</td></tr>",
                            "<tr><td>155</td><td>1310</td><td>1</td><td>1</td></tr>",
                            "<tr><td>155</td><td>1541</td><td>1</td><td>1</td></tr>",
                            "<tr><td>155</td><td>577</td><td>3</td><td>1</td></tr>",
                            "<tr><td>155</td><td>1112</td><td>4</td><td>3</td></tr>",
                            "<tr><td>156</td><td>1490</td><td>1</td><td>0</td></tr>",
                            "<tr><td>156</td><td>907</td><td>3</td><td>1</td></tr>",
                            "<tr><td>156</td><td>1561</td><td>4</td><td>3</td></tr>",
                            "<tr><td>156</td><td>956</td><td>6</td><td>4</td></tr>",
                            "<tr><td>156</td><td>692</td><td>6</td><td>6</td></tr>",
                            "<tr><td>156</td><td>588</td><td>7</td><td>6</td></tr>",
                            "<tr><td>156</td><td>1462</td><td>7</td><td>7</td></tr>",
                            "<tr><td>157</td><td>1551</td><td>3</td><td>0</td></tr>",
                            "<tr><td>157</td><td>1025</td><td>3</td><td>3</td></tr>",
                            "<tr><td>157</td><td>1047</td><td>4</td><td>3</td></tr>",
                            "<tr><td>157</td><td>648</td><td>4</td><td>4</td></tr>",
                            "<tr><td>157</td><td>1240</td><td>7</td><td>4</td></tr>",
                            "<tr><td>158</td><td>1117</td><td>3</td><td>0</td></tr>",
                            "<tr><td>158</td><td>840</td><td>4</td><td>3</td></tr>",
                            "<tr><td>158</td><td>825</td><td>4</td><td>4</td></tr>",
                            "<tr><td>160</td><td>720</td><td>2</td><td>0</td></tr>",
                            "<tr><td>160</td><td>922</td><td>2</td><td>2</td></tr>",
                            "<tr><td>160</td><td>1565</td><td>3</td><td>2</td></tr>",
                            "<tr><td>160</td><td>927</td><td>4</td><td>3</td></tr>",
                            "<tr><td>160</td><td>933</td><td>4</td><td>4</td></tr>",
                            "<tr><td>161</td><td>911</td><td>4</td><td>0</td></tr>",
                            "<tr><td>161</td><td>639</td><td>4</td><td>4</td></tr>",
                            "<tr><td>161</td><td>1571</td><td>4</td><td>4</td></tr>",
                            "<tr><td>161</td><td>1068</td><td>6</td><td>4</td></tr>",
                            "<tr><td>161</td><td>653</td><td>7</td><td>6</td></tr>",
                            "<tr><td>161</td><td>1190</td><td>7</td><td>7</td></tr>",
                            "<tr><td>162</td><td>1400</td><td>1</td><td>0</td></tr>",
                            "<tr><td>162</td><td>599</td><td>4</td><td>1</td></tr>",
                            "<tr><td>162</td><td>1205</td><td>6</td><td>4</td></tr>",
                            "<tr><td>163</td><td>941</td><td>1</td><td>0</td></tr>",
                            "<tr><td>163</td><td>630</td><td>2</td><td>1</td></tr>",
                            "<tr><td>163</td><td>782</td><td>3</td><td>2</td></tr>",
                            "<tr><td>163</td><td>1107</td><td>3</td><td>3</td></tr>",
                            "<tr><td>163</td><td>1487</td><td>3</td><td>3</td></tr>",
                            "<tr><td>163</td><td>1075</td><td>4</td><td>3</td></tr>",
                            "<tr><td>163</td><td>1265</td><td>5</td><td>4</td></tr>",
                            "<tr><td>164</td><td>1292</td><td>2</td><td>0</td></tr>",
                            "<tr><td>164</td><td>1010</td><td>2</td><td>2</td></tr>",
                            "<tr><td>164</td><td>1284</td><td>4</td><td>2</td></tr>",
                            "<tr><td>164</td><td>742</td><td>6</td><td>4</td></tr>",
                            "<tr><td>164</td><td>570</td><td>7</td><td>6</td></tr>",
                            "<tr><td>165</td><td>1141</td><td>1</td><td>0</td></tr>",
                            "<tr><td>165</td><td>640</td><td>3</td><td>1</td></tr>",
                            "<tr><td>165</td><td>892</td><td>3</td><td>3</td></tr>",
                            "<tr><td>165</td><td>1375</td><td>4</td><td>3</td></tr>",
                            "<tr><td>165</td><td>857</td><td>5</td><td>4</td></tr>",
                            "<tr><td>165</td><td>900</td><td>6</td><td>5</td></tr>",
                            "<tr><td>165</td><td>897</td><td>6</td><td>6</td></tr>",
                            "<tr><td>166</td><td>1526</td><td>2</td><td>0</td></tr>",
                            "<tr><td>166</td><td>644</td><td>7</td><td>2</td></tr>",
                            "<tr><td>166</td><td>781</td><td>7</td><td>7</td></tr>",
                            "<tr><td>167</td><td>1414</td><td>3</td><td>0</td></tr>",
                            "<tr><td>167</td><td>854</td><td>7</td><td>3</td></tr>",
                            "<tr><td>168</td><td>930</td><td>3</td><td>0</td></tr>",
                            "<tr><td>168</td><td>792</td><td>3</td><td>3</td></tr>",
                            "<tr><td>168</td><td>794</td><td>4</td><td>3</td></tr>",
                            "<tr><td>168</td><td>1266</td><td>4</td><td>4</td></tr>",
                            "<tr><td>168</td><td>1249</td><td>4</td><td>4</td></tr>",
                            "<tr><td>169</td><td>1427</td><td>1</td><td>0</td></tr>",
                            "<tr><td>169</td><td>974</td><td>1</td><td>1</td></tr>",
                            "<tr><td>169</td><td>1356</td><td>4</td><td>1</td></tr>",
                            "<tr><td>169</td><td>573</td><td>5</td><td>4</td></tr>",
                            "<tr><td>169</td><td>659</td><td>6</td><td>5</td></tr>",
                            "<tr><td>169</td><td>746</td><td>7</td><td>6</td></tr>",
                            "<tr><td>170</td><td>944</td><td>4</td><td>0</td></tr>",
                            "<tr><td>170</td><td>1194</td><td>4</td><td>4</td></tr>",
                            "<tr><td>170</td><td>1342</td><td>6</td><td>4</td></tr>",
                            "<tr><td>170</td><td>1267</td><td>7</td><td>6</td></tr>",
                            "<tr><td>170</td><td>567</td><td>7</td><td>7</td></tr>",
                            "<tr><td>171</td><td>574</td><td>2</td><td>0</td></tr>",
                            "<tr><td>171</td><td>981</td><td>4</td><td>2</td></tr>",
                            "<tr><td>171</td><td>1329</td><td>5</td><td>4</td></tr>",
                            "<tr><td>171</td><td>1181</td><td>6</td><td>5</td></tr>",
                            "<tr><td>171</td><td>1567</td><td>6</td><td>6</td></tr>",
                            "<tr><td>172</td><td>1491</td><td>2</td><td>0</td></tr>",
                            "<tr><td>172</td><td>1142</td><td>4</td><td>2</td></tr>",
                            "<tr><td>172</td><td>984</td><td>4</td><td>4</td></tr>",
                            "<tr><td>172</td><td>709</td><td>5</td><td>4</td></tr>",
                            "<tr><td>172</td><td>839</td><td>5</td><td>5</td></tr>",
                            "<tr><td>172</td><td>1171</td><td>5</td><td>5</td></tr>",
                            "<tr><td>172</td><td>1336</td><td>5</td><td>5</td></tr>",
                            "<tr><td>172</td><td>1421</td><td>5</td><td>5</td></tr>",
                            "<tr><td>172</td><td>749</td><td>6</td><td>5</td></tr>",
                            "<tr><td>173</td><td>913</td><td>1</td><td>0</td></tr>",
                            "<tr><td>173</td><td>1350</td><td>3</td><td>1</td></tr>",
                            "<tr><td>173</td><td>1429</td><td>4</td><td>3</td></tr>",
                            "<tr><td>173</td><td>669</td><td>7</td><td>4</td></tr>",
                            "<tr><td>174</td><td>1276</td><td>1</td><td>0</td></tr>",
                            "<tr><td>174</td><td>917</td><td>2</td><td>1</td></tr>",
                            "<tr><td>174</td><td>682</td><td>3</td><td>2</td></tr>",
                            "<tr><td>174</td><td>1015</td><td>5</td><td>3</td></tr>",
                            "<tr><td>175</td><td>1133</td><td>2</td><td>0</td></tr>",
                            "<tr><td>175</td><td>799</td><td>4</td><td>2</td></tr>",
                            "<tr><td>175</td><td>1094</td><td>5</td><td>4</td></tr>",
                            "<tr><td>175</td><td>867</td><td>6</td><td>5</td></tr>",
                            "<tr><td>175</td><td>1407</td><td>7</td><td>6</td></tr>",
                            "<tr><td>176</td><td>1511</td><td>2</td><td>0</td></tr>",
                            "<tr><td>176</td><td>1570</td><td>3</td><td>2</td></tr>",
                            "<tr><td>176</td><td>1383</td><td>4</td><td>3</td></tr>",
                            "<tr><td>176</td><td>592</td><td>5</td><td>4</td></tr>",
                            "<tr><td>176</td><td>1278</td><td>6</td><td>5</td></tr>",
                            "<tr><td>176</td><td>1143</td><td>6</td><td>6</td></tr>",
                            "<tr><td>177</td><td>1176</td><td>3</td><td>0</td></tr>",
                            "<tr><td>177</td><td>1503</td><td>3</td><td>3</td></tr>",
                            "<tr><td>177</td><td>785</td><td>3</td><td>3</td></tr>",
                            "<tr><td>177</td><td>831</td><td>7</td><td>3</td></tr>",
                            "<tr><td>178</td><td>1242</td><td>1</td><td>0</td></tr>",
                            "<tr><td>178</td><td>1211</td><td>3</td><td>1</td></tr>",
                            "<tr><td>178</td><td>816</td><td>4</td><td>3</td></tr>",
                            "<tr><td>178</td><td>991</td><td>7</td><td>4</td></tr>",
                            "<tr><td>179</td><td>1021</td><td>1</td><td>0</td></tr>",
                            "<tr><td>179</td><td>1497</td><td>1</td><td>1</td></tr>",
                            "<tr><td>179</td><td>662</td><td>2</td><td>1</td></tr>",
                            "<tr><td>180</td><td>1559</td><td>3</td><td>0</td></tr>",
                            "<tr><td>180</td><td>905</td><td>5</td><td>3</td></tr>",
                            "<tr><td>180</td><td>1563</td><td>6</td><td>5</td></tr>",
                            "<tr><td>181</td><td>1022</td><td>1</td><td>0</td></tr>",
                            "<tr><td>181</td><td>937</td><td>3</td><td>1</td></tr>",
                            "<tr><td>181</td><td>677</td><td>4</td><td>3</td></tr>",
                            "<tr><td>181</td><td>958</td><td>5</td><td>4</td></tr>",
                            "<tr><td>181</td><td>731</td><td>6</td><td>5</td></tr>",
                            "<tr><td>181</td><td>1346</td><td>6</td><td>6</td></tr>",
                            "<tr><td>182</td><td>1308</td><td>1</td><td>0</td></tr>",
                            "<tr><td>182</td><td>1188</td><td>1</td><td>1</td></tr>",
                            "<tr><td>182</td><td>571</td><td>2</td><td>1</td></tr>",
                            "<tr><td>182</td><td>928</td><td>2</td><td>2</td></tr>",
                            "<tr><td>182</td><td>740</td><td>3</td><td>2</td></tr>",
                            "<tr><td>182</td><td>1317</td><td>3</td><td>3</td></tr>",
                            "<tr><td>182</td><td>1422</td><td>3</td><td>3</td></tr>",
                            "<tr><td>182</td><td>1326</td><td>4</td><td>3</td></tr>",
                            "<tr><td>182</td><td>1410</td><td>4</td><td>4</td></tr>",
                            "<tr><td>182</td><td>1231</td><td>4</td><td>4</td></tr>",
                            "<tr><td>182</td><td>1008</td><td>6</td><td>4</td></tr>",
                            "<tr><td>182</td><td>1230</td><td>7</td><td>6</td></tr>",
                            "<tr><td>183</td><td>1147</td><td>4</td><td>0</td></tr>",
                            "<tr><td>183</td><td>1437</td><td>4</td><td>4</td></tr>",
                            "<tr><td>183</td><td>939</td><td>4</td><td>4</td></tr>",
                            "<tr><td>183</td><td>1067</td><td>7</td><td>4</td></tr>",
                            "<tr><td>184</td><td>608</td><td>2</td><td>0</td></tr>",
                            "<tr><td>184</td><td>684</td><td>3</td><td>2</td></tr>",
                            "<tr><td>184</td><td>880</td><td>4</td><td>3</td></tr>",
                            "<tr><td>184</td><td>1251</td><td>4</td><td>4</td></tr>",
                            "<tr><td>185</td><td>693</td><td>2</td><td>0</td></tr>",
                            "<tr><td>185</td><td>672</td><td>3</td><td>2</td></tr>",
                            "<tr><td>185</td><td>711</td><td>3</td><td>3</td></tr>",
                            "<tr><td>185</td><td>1125</td><td>3</td><td>3</td></tr>",
                            "<tr><td>185</td><td>898</td><td>4</td><td>3</td></tr>",
                            "<tr><td>185</td><td>863</td><td>4</td><td>4</td></tr>",
                            "<tr><td>185</td><td>679</td><td>5</td><td>4</td></tr>",
                            "<tr><td>185</td><td>1183</td><td>5</td><td>5</td></tr>",
                            "<tr><td>185</td><td>578</td><td>6</td><td>5</td></tr>",
                            "<tr><td>185</td><td>925</td><td>6</td><td>6</td></tr>",
                            "<tr><td>185</td><td>1441</td><td>7</td><td>6</td></tr>",
                            "<tr><td>185</td><td>1463</td><td>7</td><td>7</td></tr>",
                            "<tr><td>186</td><td>1248</td><td>2</td><td>0</td></tr>",
                            "<tr><td>186</td><td>1153</td><td>3</td><td>2</td></tr>",
                            "<tr><td>186</td><td>1467</td><td>3</td><td>3</td></tr>",
                            "<tr><td>186</td><td>615</td><td>3</td><td>3</td></tr>",
                            "<tr><td>187</td><td>766</td><td>1</td><td>0</td></tr>",
                            "<tr><td>187</td><td>743</td><td>2</td><td>1</td></tr>",
                            "<tr><td>187</td><td>1404</td><td>2</td><td>2</td></tr>",
                            "<tr><td>187</td><td>957</td><td>4</td><td>2</td></tr>",
                            "<tr><td>187</td><td>868</td><td>4</td><td>4</td></tr>",
                            "<tr><td>187</td><td>695</td><td>6</td><td>4</td></tr>",
                            "<tr><td>187</td><td>633</td><td>6</td><td>6</td></tr>",
                            "<tr><td>188</td><td>912</td><td>1</td><td>0</td></tr>",
                            "<tr><td>188</td><td>747</td><td>3</td><td>1</td></tr>",
                            "<tr><td>188</td><td>690</td><td>4</td><td>3</td></tr>",
                            "<tr><td>188</td><td>1030</td><td>4</td><td>4</td></tr>",
                            "<tr><td>188</td><td>1390</td><td>5</td><td>4</td></tr>",
                            "<tr><td>188</td><td>710</td><td>7</td><td>5</td></tr>",
                            "<tr><td>189</td><td>753</td><td>1</td><td>0</td></tr>",
                            "<tr><td>189</td><td>699</td><td>2</td><td>1</td></tr>",
                            "<tr><td>189</td><td>1204</td><td>2</td><td>2</td></tr>",
                            "<tr><td>189</td><td>1449</td><td>2</td><td>2</td></tr>",
                            "<tr><td>189</td><td>1576</td><td>3</td><td>2</td></tr>",
                            "<tr><td>190</td><td>1017</td><td>1</td><td>0</td></tr>",
                            "<tr><td>190</td><td>989</td><td>1</td><td>1</td></tr>",
                            "<tr><td>190</td><td>774</td><td>5</td><td>1</td></tr>",
                            "<tr><td>190</td><td>1517</td><td>5</td><td>5</td></tr>",
                            "<tr><td>190</td><td>600</td><td>7</td><td>5</td></tr>",
                            "<tr><td>191</td><td>1302</td><td>1</td><td>0</td></tr>",
                            "<tr><td>191</td><td>1502</td><td>2</td><td>1</td></tr>",
                            "<tr><td>191</td><td>1039</td><td>6</td><td>2</td></tr>",
                            "<tr><td>191</td><td>1508</td><td>7</td><td>6</td></tr>",
                            "<tr><td>191</td><td>1323</td><td>7</td><td>7</td></tr>",
                            "<tr><td>192</td><td>680</td><td>4</td><td>0</td></tr>",
                            "<tr><td>192</td><td>903</td><td>7</td><td>4</td></tr>",
                            "<tr><td>193</td><td>926</td><td>1</td><td>0</td></tr>",
                            "<tr><td>193</td><td>977</td><td>2</td><td>1</td></tr>",
                            "<tr><td>193</td><td>675</td><td>2</td><td>2</td></tr>",
                            "<tr><td>193</td><td>835</td><td>2</td><td>2</td></tr>",
                            "<tr><td>193</td><td>634</td><td>6</td><td>2</td></tr>",
                            "<tr><td>193</td><td>1043</td><td>6</td><td>6</td></tr>",
                            "<tr><td>193</td><td>1238</td><td>6</td><td>6</td></tr>",
                            "<tr><td>194</td><td>1095</td><td>5</td><td>0</td></tr>",
                            "<tr><td>195</td><td>1484</td><td>1</td><td>0</td></tr>",
                            "<tr><td>195</td><td>842</td><td>4</td><td>1</td></tr>",
                            "<tr><td>195</td><td>721</td><td>4</td><td>4</td></tr>",
                            "<tr><td>195</td><td>1184</td><td>5</td><td>4</td></tr>",
                            "<tr><td>195</td><td>1473</td><td>7</td><td>5</td></tr>",
                            "<tr><td>195</td><td>1074</td><td>7</td><td>7</td></tr>",
                            "<tr><td>196</td><td>952</td><td>3</td><td>0</td></tr>",
                            "<tr><td>196</td><td>673</td><td>5</td><td>3</td></tr>",
                            "<tr><td>196</td><td>1314</td><td>5</td><td>5</td></tr>",
                            "<tr><td>196</td><td>1340</td><td>5</td><td>5</td></tr>",
                            "<tr><td>197</td><td>1387</td><td>3</td><td>0</td></tr>",
                            "<tr><td>197</td><td>1304</td><td>7</td><td>3</td></tr>",
                            "<tr><td>197</td><td>1172</td><td>7</td><td>7</td></tr>",
                            "<tr><td>197</td><td>764</td><td>7</td><td>7</td></tr>",
                            "<tr><td>197</td><td>1091</td><td>7</td><td>7</td></tr>",
                            "<tr><td>197</td><td>993</td><td>7</td><td>7</td></tr>",
                            "<tr><td>198</td><td>1116</td><td>1</td><td>0</td></tr>",
                            "<tr><td>198</td><td>978</td><td>1</td><td>1</td></tr>",
                            "<tr><td>198</td><td>1065</td><td>3</td><td>1</td></tr>",
                            "<tr><td>198</td><td>1138</td><td>5</td><td>3</td></tr>",
                            "<tr><td>198</td><td>1161</td><td>5</td><td>5</td></tr>",
                            "<tr><td>198</td><td>1420</td><td>5</td><td>5</td></tr>",
                            "<tr><td>198</td><td>1216</td><td>7</td><td>5</td></tr>",
                            "<tr><td>198</td><td>1011</td><td>7</td><td>7</td></tr>",
                            "</table>"
                        ]
                    }
                }
            ],
            "execution_count": 12
        },
        {
            "cell_type": "markdown",
            "source": [
                "Jelenítsük meg, hogy az egyes szálláshelyeken összesen hány foglalás történt!\n",
                "\n",
                "a. Csak a szálláshely neve és a foglalásszám jelenjen meg\n",
                "\n",
                "b. A listát szűrjük azon szálláshelyekre, ahol több foglalás történt, mint a Fortuna panzióban!"
            ],
            "metadata": {
                "azdata_cell_guid": "0da1227d-40b9-45ea-86b8-ed84448728f5"
            },
            "attachments": {}
        },
        {
            "cell_type": "code",
            "source": [
                "SELECT szh.SZALLAS_NEV,\r\n",
                "        COUNT(*) AS 'Fogalás száma'\r\n",
                "FROM Szallashely szh JOIN Szoba sz ON szh.SZALLAS_ID=sz.SZALLAS_FK\r\n",
                "                    JOIN Foglalas f ON f.SZOBA_FK=sz.SZOBA_ID\r\n",
                "GROUP BY szh.SZALLAS_NEV\r\n",
                "HAVING COUNT(*)>\r\n",
                "(\r\n",
                "    SELECT COUNT(*)\r\n",
                "    FROM Szallashely szh JOIN Szoba sz ON szh.SZALLAS_ID=sz.SZALLAS_FK\r\n",
                "                    JOIN Foglalas f ON f.SZOBA_FK=sz.SZOBA_ID\r\n",
                "    WHERE szh.SZALLAS_NEV='Fortuna panzió'\r\n",
                ")\r\n",
                ""
            ],
            "metadata": {
                "azdata_cell_guid": "01675e53-93ae-472c-9697-f109e001875f",
                "language": "sql"
            },
            "outputs": [
                {
                    "output_type": "display_data",
                    "data": {
                        "text/html": "(3 rows affected)"
                    },
                    "metadata": {}
                },
                {
                    "output_type": "display_data",
                    "data": {
                        "text/html": "Total execution time: 00:00:00.020"
                    },
                    "metadata": {}
                },
                {
                    "output_type": "execute_result",
                    "metadata": {},
                    "execution_count": 20,
                    "data": {
                        "application/vnd.dataresource+json": {
                            "schema": {
                                "fields": [
                                    {
                                        "name": "SZALLAS_NEV"
                                    },
                                    {
                                        "name": "(No column name)"
                                    }
                                ]
                            },
                            "data": [
                                {
                                    "SZALLAS_NEV": "Gold Hotel",
                                    "(No column name)": "179"
                                },
                                {
                                    "SZALLAS_NEV": "Hotel Három Hattyú",
                                    "(No column name)": "204"
                                },
                                {
                                    "SZALLAS_NEV": "Kentaur Hotel",
                                    "(No column name)": "179"
                                }
                            ]
                        },
                        "text/html": [
                            "<table>",
                            "<tr><th>SZALLAS_NEV</th><th>(No column name)</th></tr>",
                            "<tr><td>Gold Hotel</td><td>179</td></tr>",
                            "<tr><td>Hotel Három Hattyú</td><td>204</td></tr>",
                            "<tr><td>Kentaur Hotel</td><td>179</td></tr>",
                            "</table>"
                        ]
                    }
                }
            ],
            "execution_count": 20
        }
    ]
}